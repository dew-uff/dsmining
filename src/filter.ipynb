{
 "cells": [
  {
   "cell_type": "code",
   "execution_count": 1,
   "metadata": {},
   "outputs": [],
   "source": [
    "import pandas as pd\n",
    "import numpy as np\n",
    "import matplotlib.pyplot as plt "
   ]
  },
  {
   "cell_type": "code",
   "execution_count": 2,
   "metadata": {},
   "outputs": [
    {
     "name": "stdout",
     "output_type": "stream",
     "text": [
      "Total repositories:  251218\n"
     ]
    }
   ],
   "source": [
    "from util import PROJECTS_FILE, FILTERED_FILE\n",
    "#reads projects from Excel file\n",
    "df = pd.read_excel(PROJECTS_FILE, keep_default_na=False)\n",
    "print('Total repositories: ',len(df))"
   ]
  },
  {
   "cell_type": "code",
   "execution_count": 3,
   "metadata": {},
   "outputs": [
    {
     "name": "stdout",
     "output_type": "stream",
     "text": [
      "Total repositories after filtering repositories with \"empty languages\": 147336\n"
     ]
    }
   ],
   "source": [
    "#Languages\n",
    "nolanguages = df[df.languages==0]\n",
    "nolanguages.to_excel(\"nolanguages-filter.xlsx\") \n",
    "df.drop(df[df['languages'] == 0].index, inplace = True)\n",
    "print('Total repositories after filtering repositories with \"empty languages\":',len(df))"
   ]
  },
  {
   "cell_type": "code",
   "execution_count": 4,
   "metadata": {},
   "outputs": [
    {
     "name": "stdout",
     "output_type": "stream",
     "text": [
      "Total repositories after filtering \"courses\": 130480\n"
     ]
    }
   ],
   "source": [
    "#Filters repositories wich name contains \"courses\", because these repositories do not belong to our scopus.\n",
    "#This repositories are saved in a new file, and then deleted from the original dataframe\n",
    "courses = df.loc[df.name.str.contains('course',case=False)]\n",
    "courses.to_excel(\"courses-filter.xlsx\") \n",
    "df.drop(df.loc[df.name.str.contains('course',case=False)].index, inplace=True )\n",
    "print('Total repositories after filtering \"courses\":',len(df))"
   ]
  },
  {
   "cell_type": "code",
   "execution_count": 5,
   "metadata": {},
   "outputs": [
    {
     "name": "stdout",
     "output_type": "stream",
     "text": [
      "Total repositories after filtering \"cours\": 130474\n"
     ]
    }
   ],
   "source": [
    "cours = df.loc[df.name.str.contains('cours',case=False)]\n",
    "cours.to_excel(\"cours-filter.xlsx\") \n",
    "df.drop(df.loc[df.name.str.contains('cours',case=False)].index, inplace=True )\n",
    "print('Total repositories after filtering \"cours\":',len(df))"
   ]
  },
  {
   "cell_type": "code",
   "execution_count": 6,
   "metadata": {},
   "outputs": [
    {
     "name": "stdout",
     "output_type": "stream",
     "text": [
      "Total repositories after filtering \"curso\": 130205\n"
     ]
    }
   ],
   "source": [
    "curso = df.loc[df.name.str.contains('curso',case=False)]\n",
    "curso.to_excel(\"curso-filter.xlsx\") \n",
    "df.drop(df.loc[df.name.str.contains('curso',case=False)].index, inplace=True )\n",
    "print('Total repositories after filtering \"curso\":',len(df))"
   ]
  },
  {
   "cell_type": "code",
   "execution_count": 7,
   "metadata": {},
   "outputs": [
    {
     "name": "stdout",
     "output_type": "stream",
     "text": [
      "Total repositories after filtering \"cursos\": 130205\n"
     ]
    }
   ],
   "source": [
    "cursos = df.loc[df.name.str.contains('cursos',case=False)]\n",
    "cursos.to_excel(\"cursos-filter.xlsx\") \n",
    "df.drop(df.loc[df.name.str.contains('cursos',case=False)].index, inplace=True )\n",
    "print('Total repositories after filtering \"cursos\":',len(df))"
   ]
  },
  {
   "cell_type": "code",
   "execution_count": 8,
   "metadata": {},
   "outputs": [
    {
     "name": "stdout",
     "output_type": "stream",
     "text": [
      "Total repositories after filtering repositories with \"empty commits\": 130205\n"
     ]
    }
   ],
   "source": [
    "emptycommits = df.loc[df['commits'] == '']\n",
    "emptycommits.to_excel(\"emptycommits-filter.xlsx\") \n",
    "df.drop(df[df['commits'] == ''].index, inplace = True)\n",
    "print('Total repositories after filtering repositories with \"empty commits\":',len(df))\n"
   ]
  },
  {
   "cell_type": "code",
   "execution_count": 9,
   "metadata": {},
   "outputs": [
    {
     "name": "stdout",
     "output_type": "stream",
     "text": [
      "Total repositories after filtering repositories with \"empty contributors\": 130159\n"
     ]
    }
   ],
   "source": [
    "nocontributors = df[df.contributors == 0]\n",
    "nocontributors.to_excel(\"nocontributors-filter.xlsx\") \n",
    "df.drop(df[df['contributors'] == 0].index, inplace = True)\n",
    "print('Total repositories after filtering repositories with \"empty contributors\":',len(df))\n"
   ]
  },
  {
   "cell_type": "code",
   "execution_count": 10,
   "metadata": {},
   "outputs": [],
   "source": [
    "#Counting how many repositories have each stargazer \n",
    "df.stargazers.value_counts(dropna=False).rename_axis('Stargazers').to_frame('Counts').to_excel(\"stargazers-valuecounts-filter.xlsx\")\n",
    "\n",
    "#data = df.stargazers.value_counts(dropna=False).rename_axis('Stargazers').to_frame('Counts')\n",
    "#print (data)"
   ]
  },
  {
   "cell_type": "code",
   "execution_count": 11,
   "metadata": {},
   "outputs": [],
   "source": [
    "#Counting how many contributors the repositories have \n",
    "df.contributors.value_counts(dropna=False).rename_axis('Contributors').to_frame('Counts').to_excel(\"contributors-valuecounts-filter.xlsx\")\n"
   ]
  },
  {
   "cell_type": "code",
   "execution_count": 12,
   "metadata": {},
   "outputs": [],
   "source": [
    "#Counting how many commits the repositories have \n",
    "df.commits.value_counts(dropna=False).rename_axis('Commits').to_frame('Counts').to_excel(\"commits-valuecounts-filter.xlsx\")\n"
   ]
  },
  {
   "cell_type": "code",
   "execution_count": 13,
   "metadata": {},
   "outputs": [],
   "source": [
    "#Counting how many languages the repositories have \n",
    "df.languages.value_counts(dropna=False).rename_axis('Languages').to_frame('Counts').to_excel(\"languages-valuecounts-filter.xlsx\")\n"
   ]
  },
  {
   "cell_type": "code",
   "execution_count": 14,
   "metadata": {},
   "outputs": [],
   "source": [
    "#Counting how many issues the repositories have \n",
    "df.issues.value_counts(dropna=False).rename_axis('Issues').to_frame('Counts').to_excel(\"issues-valuecounts-filter.xlsx\")\n"
   ]
  },
  {
   "cell_type": "code",
   "execution_count": 15,
   "metadata": {},
   "outputs": [],
   "source": [
    "#Counting how many branches the repositories have \n",
    "df.branches.value_counts(dropna=False).rename_axis('Branches').to_frame('Counts').to_excel(\"branches-valuecounts-filter.xlsx\")\n"
   ]
  },
  {
   "cell_type": "code",
   "execution_count": 16,
   "metadata": {},
   "outputs": [],
   "source": [
    "#Counting how many diskUsage the repositories have \n",
    "df.diskUsage.value_counts(dropna=False).rename_axis('DiskUsage').to_frame('Counts').to_excel(\"diskUsage-valuecounts-filter.xlsx\")\n"
   ]
  },
  {
   "cell_type": "code",
   "execution_count": 17,
   "metadata": {},
   "outputs": [
    {
     "data": {
      "text/plain": [
       "<matplotlib.axes._subplots.AxesSubplot at 0x15071ff5c08>"
      ]
     },
     "execution_count": 17,
     "metadata": {},
     "output_type": "execute_result"
    },
    {
     "data": {
      "image/png": "[encoded data removed]",
      "text/plain": [
       "<Figure size 432x288 with 1 Axes>"
      ]
     },
     "metadata": {
      "needs_background": "light"
     },
     "output_type": "display_data"
    }
   ],
   "source": [
    "df[\"contributors\"].plot(kind=\"hist\", logy=True)"
   ]
  },
  {
   "cell_type": "code",
   "execution_count": 18,
   "metadata": {},
   "outputs": [
    {
     "data": {
      "image/png": "[encoded data removed]",
      "text/plain": [
       "<Figure size 432x288 with 1 Axes>"
      ]
     },
     "metadata": {
      "needs_background": "light"
     },
     "output_type": "display_data"
    }
   ],
   "source": [
    "hist = df.hist(column=['contributors'], bins=50)"
   ]
  },
  {
   "cell_type": "code",
   "execution_count": 19,
   "metadata": {},
   "outputs": [
    {
     "data": {
      "text/plain": [
       "18975"
      ]
     },
     "execution_count": 19,
     "metadata": {},
     "output_type": "execute_result"
    }
   ],
   "source": [
    "#Stargazers\n",
    "df2=df[df.stargazers >0]\n",
    "len(df2)"
   ]
  },
  {
   "cell_type": "code",
   "execution_count": 20,
   "metadata": {},
   "outputs": [
    {
     "data": {
      "text/plain": [
       "16802"
      ]
     },
     "execution_count": 20,
     "metadata": {},
     "output_type": "execute_result"
    }
   ],
   "source": [
    "#Contributors\n",
    "df2 = df[df.contributors >= 2]\n",
    "len(df2)"
   ]
  },
  {
   "cell_type": "code",
   "execution_count": 21,
   "metadata": {},
   "outputs": [],
   "source": [
    "df2 = df[df.contributors == 0]\n",
    "df2\n",
    "df2.to_csv('nocontributors.csv',index=True)"
   ]
  },
  {
   "cell_type": "code",
   "execution_count": 22,
   "metadata": {},
   "outputs": [
    {
     "data": {
      "text/plain": [
       "<matplotlib.axes._subplots.AxesSubplot at 0x15068b44b48>"
      ]
     },
     "execution_count": 22,
     "metadata": {},
     "output_type": "execute_result"
    },
    {
     "data": {
      "image/png": "[encoded data removed]",
      "text/plain": [
       "<Figure size 432x288 with 1 Axes>"
      ]
     },
     "metadata": {
      "needs_background": "light"
     },
     "output_type": "display_data"
    }
   ],
   "source": [
    "df[\"commits\"].plot(kind=\"hist\", logy=True)"
   ]
  },
  {
   "cell_type": "code",
   "execution_count": 23,
   "metadata": {},
   "outputs": [
    {
     "data": {
      "text/plain": [
       "0"
      ]
     },
     "execution_count": 23,
     "metadata": {},
     "output_type": "execute_result"
    }
   ],
   "source": [
    "#Commits\n",
    "df2 = df[df.commits == 0]\n",
    "len(df2)"
   ]
  },
  {
   "cell_type": "code",
   "execution_count": 24,
   "metadata": {},
   "outputs": [
    {
     "data": {
      "text/plain": [
       "130159"
      ]
     },
     "execution_count": 24,
     "metadata": {},
     "output_type": "execute_result"
    }
   ],
   "source": [
    "df2 = df[df.commits >= 1]\n",
    "len(df2)"
   ]
  },
  {
   "cell_type": "code",
   "execution_count": 25,
   "metadata": {},
   "outputs": [
    {
     "data": {
      "text/plain": [
       "0"
      ]
     },
     "execution_count": 25,
     "metadata": {},
     "output_type": "execute_result"
    }
   ],
   "source": [
    "#Languages\n",
    "df2 = df[df.languages==0]\n",
    "len(df2)"
   ]
  },
  {
   "cell_type": "code",
   "execution_count": 26,
   "metadata": {},
   "outputs": [
    {
     "data": {
      "text/plain": [
       "40918"
      ]
     },
     "execution_count": 26,
     "metadata": {},
     "output_type": "execute_result"
    }
   ],
   "source": [
    "df2 = df[df.languages > 1]\n",
    "len(df2)"
   ]
  },
  {
   "cell_type": "code",
   "execution_count": 27,
   "metadata": {},
   "outputs": [
    {
     "data": {
      "text/plain": [
       "Jupyter Notebook    82628\n",
       "Python              18746\n",
       "HTML                11243\n",
       "R                   10826\n",
       "JavaScript           1245\n",
       "                    ...  \n",
       "PureScript              1\n",
       "QML                     1\n",
       "G-code                  1\n",
       "IDL                     1\n",
       "MQL5                    1\n",
       "Name: primaryLanguage, Length: 130, dtype: int64"
      ]
     },
     "execution_count": 27,
     "metadata": {},
     "output_type": "execute_result"
    }
   ],
   "source": [
    "df.primaryLanguage.value_counts()\n",
    "#df.primaryLanguage.value_counts(dropna=False).to_frame('counts').to_excel(\"stargazers-valuecounts-filter.xlsx\")\n"
   ]
  },
  {
   "cell_type": "code",
   "execution_count": 28,
   "metadata": {},
   "outputs": [
    {
     "data": {
      "text/plain": [
       "130"
      ]
     },
     "execution_count": 28,
     "metadata": {},
     "output_type": "execute_result"
    }
   ],
   "source": [
    "len(df.primaryLanguage.value_counts())"
   ]
  },
  {
   "cell_type": "code",
   "execution_count": 29,
   "metadata": {},
   "outputs": [
    {
     "data": {
      "text/plain": [
       "129775"
      ]
     },
     "execution_count": 29,
     "metadata": {},
     "output_type": "execute_result"
    }
   ],
   "source": [
    "#filters repositories by language, keeping just the ones that use the top 10 languages in the corpus \n",
    "df2 = df.groupby('primaryLanguage').filter(lambda x: len(x) >= 18)\n",
    "len(df2)"
   ]
  },
  {
   "cell_type": "code",
   "execution_count": 30,
   "metadata": {},
   "outputs": [
    {
     "data": {
      "text/html": [
       "<div>\n",
       "<style scoped>\n",
       "    .dataframe tbody tr th:only-of-type {\n",
       "        vertical-align: middle;\n",
       "    }\n",
       "\n",
       "    .dataframe tbody tr th {\n",
       "        vertical-align: top;\n",
       "    }\n",
       "\n",
       "    .dataframe thead th {\n",
       "        text-align: right;\n",
       "    }\n",
       "</style>\n",
       "<table border=\"1\" class=\"dataframe\">\n",
       "  <thead>\n",
       "    <tr style=\"text-align: right;\">\n",
       "      <th></th>\n",
       "      <th>owner</th>\n",
       "      <th>name</th>\n",
       "      <th>createdAt</th>\n",
       "      <th>pushedAt</th>\n",
       "      <th>isMirror</th>\n",
       "      <th>diskUsage</th>\n",
       "      <th>primaryLanguage</th>\n",
       "      <th>languages</th>\n",
       "      <th>contributors</th>\n",
       "      <th>watchers</th>\n",
       "      <th>stargazers</th>\n",
       "      <th>forks</th>\n",
       "      <th>issues</th>\n",
       "      <th>commits</th>\n",
       "      <th>pullRequests</th>\n",
       "      <th>branches</th>\n",
       "      <th>tags</th>\n",
       "      <th>releases</th>\n",
       "      <th>description</th>\n",
       "    </tr>\n",
       "  </thead>\n",
       "  <tbody>\n",
       "    <tr>\n",
       "      <th>0</th>\n",
       "      <td>jakevdp</td>\n",
       "      <td>PythonDataScienceHandbook</td>\n",
       "      <td>2016-08-10 14:24:36</td>\n",
       "      <td>2021-11-12 19:40:00</td>\n",
       "      <td>False</td>\n",
       "      <td>34707</td>\n",
       "      <td>Jupyter Notebook</td>\n",
       "      <td>5</td>\n",
       "      <td>16</td>\n",
       "      <td>1738</td>\n",
       "      <td>31692</td>\n",
       "      <td>14160</td>\n",
       "      <td>145</td>\n",
       "      <td>234</td>\n",
       "      <td>164</td>\n",
       "      <td>6</td>\n",
       "      <td>0</td>\n",
       "      <td>0</td>\n",
       "      <td>Python Data Science Handbook: full text in Jupyter Notebooks</td>\n",
       "    </tr>\n",
       "    <tr>\n",
       "      <th>1</th>\n",
       "      <td>donnemartin</td>\n",
       "      <td>data-science-ipython-notebooks</td>\n",
       "      <td>2015-01-23 19:38:29</td>\n",
       "      <td>2021-11-04 20:19:10</td>\n",
       "      <td>False</td>\n",
       "      <td>49025</td>\n",
       "      <td>Python</td>\n",
       "      <td>4</td>\n",
       "      <td>12</td>\n",
       "      <td>1627</td>\n",
       "      <td>21825</td>\n",
       "      <td>6809</td>\n",
       "      <td>31</td>\n",
       "      <td>543</td>\n",
       "      <td>53</td>\n",
       "      <td>2</td>\n",
       "      <td>0</td>\n",
       "      <td>0</td>\n",
       "      <td>Data science Python notebooks: Deep learning (TensorFlow, Theano, Caffe, Keras), scikit-learn, Kaggle, big data (Spark, Hadoop MapReduce, HDFS), matplotlib, pandas, NumPy, SciPy, Python essentials, AWS, and various command lines.</td>\n",
       "    </tr>\n",
       "    <tr>\n",
       "      <th>5</th>\n",
       "      <td>virgili0</td>\n",
       "      <td>Virgilio</td>\n",
       "      <td>2019-03-12 18:45:36</td>\n",
       "      <td>2021-10-19 06:22:27</td>\n",
       "      <td>False</td>\n",
       "      <td>35112</td>\n",
       "      <td>Jupyter Notebook</td>\n",
       "      <td>6</td>\n",
       "      <td>31</td>\n",
       "      <td>785</td>\n",
       "      <td>13189</td>\n",
       "      <td>2509</td>\n",
       "      <td>37</td>\n",
       "      <td>1363</td>\n",
       "      <td>123</td>\n",
       "      <td>12</td>\n",
       "      <td>0</td>\n",
       "      <td>0</td>\n",
       "      <td>Your new Mentor for Data Science E-Learning.</td>\n",
       "    </tr>\n",
       "    <tr>\n",
       "      <th>8</th>\n",
       "      <td>ricklamers</td>\n",
       "      <td>gridstudio</td>\n",
       "      <td>2019-07-23 13:56:41</td>\n",
       "      <td>2020-10-02 07:15:50</td>\n",
       "      <td>False</td>\n",
       "      <td>130620</td>\n",
       "      <td>JavaScript</td>\n",
       "      <td>9</td>\n",
       "      <td>10</td>\n",
       "      <td>329</td>\n",
       "      <td>8702</td>\n",
       "      <td>1500</td>\n",
       "      <td>128</td>\n",
       "      <td>202</td>\n",
       "      <td>16</td>\n",
       "      <td>5</td>\n",
       "      <td>0</td>\n",
       "      <td>0</td>\n",
       "      <td>Grid studio is a web-based application for data science with full integration of open source data science frameworks and languages.</td>\n",
       "    </tr>\n",
       "    <tr>\n",
       "      <th>9</th>\n",
       "      <td>goplus</td>\n",
       "      <td>gop</td>\n",
       "      <td>2015-12-12 01:21:39</td>\n",
       "      <td>2021-11-19 14:24:55</td>\n",
       "      <td>False</td>\n",
       "      <td>22158</td>\n",
       "      <td>Go</td>\n",
       "      <td>3</td>\n",
       "      <td>28</td>\n",
       "      <td>198</td>\n",
       "      <td>7706</td>\n",
       "      <td>497</td>\n",
       "      <td>393</td>\n",
       "      <td>1906</td>\n",
       "      <td>517</td>\n",
       "      <td>7</td>\n",
       "      <td>92</td>\n",
       "      <td>91</td>\n",
       "      <td>GoPlus - The Go+ language for engineering, STEM education, and data science</td>\n",
       "    </tr>\n",
       "    <tr>\n",
       "      <th>...</th>\n",
       "      <td>...</td>\n",
       "      <td>...</td>\n",
       "      <td>...</td>\n",
       "      <td>...</td>\n",
       "      <td>...</td>\n",
       "      <td>...</td>\n",
       "      <td>...</td>\n",
       "      <td>...</td>\n",
       "      <td>...</td>\n",
       "      <td>...</td>\n",
       "      <td>...</td>\n",
       "      <td>...</td>\n",
       "      <td>...</td>\n",
       "      <td>...</td>\n",
       "      <td>...</td>\n",
       "      <td>...</td>\n",
       "      <td>...</td>\n",
       "      <td>...</td>\n",
       "      <td>...</td>\n",
       "    </tr>\n",
       "    <tr>\n",
       "      <th>251206</th>\n",
       "      <td>DefinitelyMaybe</td>\n",
       "      <td>Kaggle</td>\n",
       "      <td>2018-04-01 23:21:34</td>\n",
       "      <td>2018-06-06 09:38:08</td>\n",
       "      <td>False</td>\n",
       "      <td>14698</td>\n",
       "      <td>Python</td>\n",
       "      <td>1</td>\n",
       "      <td>1</td>\n",
       "      <td>1</td>\n",
       "      <td>0</td>\n",
       "      <td>0</td>\n",
       "      <td>0</td>\n",
       "      <td>7</td>\n",
       "      <td>0</td>\n",
       "      <td>1</td>\n",
       "      <td>0</td>\n",
       "      <td>0</td>\n",
       "      <td>Early Days in the Data Science field</td>\n",
       "    </tr>\n",
       "    <tr>\n",
       "      <th>251207</th>\n",
       "      <td>viditmathur</td>\n",
       "      <td>Data-Science-and-ML</td>\n",
       "      <td>2018-06-06 10:07:38</td>\n",
       "      <td>2018-06-06 10:11:33</td>\n",
       "      <td>False</td>\n",
       "      <td>3806</td>\n",
       "      <td>Jupyter Notebook</td>\n",
       "      <td>2</td>\n",
       "      <td>1</td>\n",
       "      <td>1</td>\n",
       "      <td>0</td>\n",
       "      <td>0</td>\n",
       "      <td>0</td>\n",
       "      <td>2</td>\n",
       "      <td>0</td>\n",
       "      <td>1</td>\n",
       "      <td>0</td>\n",
       "      <td>0</td>\n",
       "      <td></td>\n",
       "    </tr>\n",
       "    <tr>\n",
       "      <th>251209</th>\n",
       "      <td>andridns</td>\n",
       "      <td>ml-snippets</td>\n",
       "      <td>2018-06-05 09:17:28</td>\n",
       "      <td>2018-06-06 11:06:44</td>\n",
       "      <td>False</td>\n",
       "      <td>19</td>\n",
       "      <td>Python</td>\n",
       "      <td>1</td>\n",
       "      <td>1</td>\n",
       "      <td>0</td>\n",
       "      <td>0</td>\n",
       "      <td>0</td>\n",
       "      <td>0</td>\n",
       "      <td>20</td>\n",
       "      <td>0</td>\n",
       "      <td>1</td>\n",
       "      <td>0</td>\n",
       "      <td>0</td>\n",
       "      <td>my implementations of functions found in ML / data science pipeline in numpy</td>\n",
       "    </tr>\n",
       "    <tr>\n",
       "      <th>251211</th>\n",
       "      <td>jinsk44</td>\n",
       "      <td>data-science-workbook</td>\n",
       "      <td>2018-05-28 13:16:52</td>\n",
       "      <td>2018-06-06 12:06:07</td>\n",
       "      <td>False</td>\n",
       "      <td>48271</td>\n",
       "      <td>Jupyter Notebook</td>\n",
       "      <td>1</td>\n",
       "      <td>1</td>\n",
       "      <td>1</td>\n",
       "      <td>0</td>\n",
       "      <td>0</td>\n",
       "      <td>0</td>\n",
       "      <td>6</td>\n",
       "      <td>0</td>\n",
       "      <td>1</td>\n",
       "      <td>0</td>\n",
       "      <td>0</td>\n",
       "      <td></td>\n",
       "    </tr>\n",
       "    <tr>\n",
       "      <th>251217</th>\n",
       "      <td>JC6317</td>\n",
       "      <td>Methods-for-Data-Science</td>\n",
       "      <td>2021-11-19 23:52:32</td>\n",
       "      <td>2021-11-20 00:06:11</td>\n",
       "      <td>False</td>\n",
       "      <td>0</td>\n",
       "      <td>Jupyter Notebook</td>\n",
       "      <td>1</td>\n",
       "      <td>1</td>\n",
       "      <td>1</td>\n",
       "      <td>0</td>\n",
       "      <td>0</td>\n",
       "      <td>0</td>\n",
       "      <td>2</td>\n",
       "      <td>0</td>\n",
       "      <td>1</td>\n",
       "      <td>0</td>\n",
       "      <td>0</td>\n",
       "      <td></td>\n",
       "    </tr>\n",
       "  </tbody>\n",
       "</table>\n",
       "<p>130159 rows × 19 columns</p>\n",
       "</div>"
      ],
      "text/plain": [
       "                  owner                            name           createdAt  \\\n",
       "0       jakevdp          PythonDataScienceHandbook      2016-08-10 14:24:36   \n",
       "1       donnemartin      data-science-ipython-notebooks 2015-01-23 19:38:29   \n",
       "5       virgili0         Virgilio                       2019-03-12 18:45:36   \n",
       "8       ricklamers       gridstudio                     2019-07-23 13:56:41   \n",
       "9       goplus           gop                            2015-12-12 01:21:39   \n",
       "...        ...           ...                                            ...   \n",
       "251206  DefinitelyMaybe  Kaggle                         2018-04-01 23:21:34   \n",
       "251207  viditmathur      Data-Science-and-ML            2018-06-06 10:07:38   \n",
       "251209  andridns         ml-snippets                    2018-06-05 09:17:28   \n",
       "251211  jinsk44          data-science-workbook          2018-05-28 13:16:52   \n",
       "251217  JC6317           Methods-for-Data-Science       2021-11-19 23:52:32   \n",
       "\n",
       "                  pushedAt  isMirror  diskUsage   primaryLanguage  languages  \\\n",
       "0      2021-11-12 19:40:00  False     34707      Jupyter Notebook  5           \n",
       "1      2021-11-04 20:19:10  False     49025      Python            4           \n",
       "5      2021-10-19 06:22:27  False     35112      Jupyter Notebook  6           \n",
       "8      2020-10-02 07:15:50  False     130620     JavaScript        9           \n",
       "9      2021-11-19 14:24:55  False     22158      Go                3           \n",
       "...                    ...    ...       ...      ..               ..           \n",
       "251206 2018-06-06 09:38:08  False     14698      Python            1           \n",
       "251207 2018-06-06 10:11:33  False     3806       Jupyter Notebook  2           \n",
       "251209 2018-06-06 11:06:44  False     19         Python            1           \n",
       "251211 2018-06-06 12:06:07  False     48271      Jupyter Notebook  1           \n",
       "251217 2021-11-20 00:06:11  False     0          Jupyter Notebook  1           \n",
       "\n",
       "        contributors  watchers  stargazers  forks  issues commits  \\\n",
       "0       16            1738      31692       14160  145     234      \n",
       "1       12            1627      21825       6809   31      543      \n",
       "5       31            785       13189       2509   37      1363     \n",
       "8       10            329       8702        1500   128     202      \n",
       "9       28            198       7706        497    393     1906     \n",
       "...     ..            ...        ...        ...    ...      ...     \n",
       "251206  1             1         0           0      0       7        \n",
       "251207  1             1         0           0      0       2        \n",
       "251209  1             0         0           0      0       20       \n",
       "251211  1             1         0           0      0       6        \n",
       "251217  1             1         0           0      0       2        \n",
       "\n",
       "        pullRequests  branches  tags  releases  \\\n",
       "0       164           6         0     0          \n",
       "1       53            2         0     0          \n",
       "5       123           12        0     0          \n",
       "8       16            5         0     0          \n",
       "9       517           7         92    91         \n",
       "...     ...          ..         ..    ..         \n",
       "251206  0             1         0     0          \n",
       "251207  0             1         0     0          \n",
       "251209  0             1         0     0          \n",
       "251211  0             1         0     0          \n",
       "251217  0             1         0     0          \n",
       "\n",
       "                                                                                                                                                                                                                                  description  \n",
       "0       Python Data Science Handbook: full text in Jupyter Notebooks                                                                                                                                                                           \n",
       "1       Data science Python notebooks: Deep learning (TensorFlow, Theano, Caffe, Keras), scikit-learn, Kaggle, big data (Spark, Hadoop MapReduce, HDFS), matplotlib, pandas, NumPy, SciPy, Python essentials, AWS, and various command lines.  \n",
       "5       Your new Mentor for Data Science E-Learning.                                                                                                                                                                                           \n",
       "8       Grid studio is a web-based application for data science with full integration of open source data science frameworks and languages.                                                                                                    \n",
       "9       GoPlus - The Go+ language for engineering, STEM education, and data science                                                                                                                                                            \n",
       "...                                                                             ...                                                                                                                                                            \n",
       "251206  Early Days in the Data Science field                                                                                                                                                                                                   \n",
       "251207                                                                                                                                                                                                                                         \n",
       "251209  my implementations of functions found in ML / data science pipeline in numpy                                                                                                                                                           \n",
       "251211                                                                                                                                                                                                                                         \n",
       "251217                                                                                                                                                                                                                                         \n",
       "\n",
       "[130159 rows x 19 columns]"
      ]
     },
     "execution_count": 30,
     "metadata": {},
     "output_type": "execute_result"
    }
   ],
   "source": [
    "pd.set_option('display.max_colwidth', -1) \n",
    "df"
   ]
  },
  {
   "cell_type": "code",
   "execution_count": 31,
   "metadata": {},
   "outputs": [
    {
     "data": {
      "text/html": [
       "<div>\n",
       "<style scoped>\n",
       "    .dataframe tbody tr th:only-of-type {\n",
       "        vertical-align: middle;\n",
       "    }\n",
       "\n",
       "    .dataframe tbody tr th {\n",
       "        vertical-align: top;\n",
       "    }\n",
       "\n",
       "    .dataframe thead th {\n",
       "        text-align: right;\n",
       "    }\n",
       "</style>\n",
       "<table border=\"1\" class=\"dataframe\">\n",
       "  <thead>\n",
       "    <tr style=\"text-align: right;\">\n",
       "      <th></th>\n",
       "      <th>diskUsage</th>\n",
       "      <th>languages</th>\n",
       "      <th>contributors</th>\n",
       "      <th>watchers</th>\n",
       "      <th>stargazers</th>\n",
       "      <th>forks</th>\n",
       "      <th>issues</th>\n",
       "      <th>pullRequests</th>\n",
       "      <th>branches</th>\n",
       "      <th>tags</th>\n",
       "      <th>releases</th>\n",
       "    </tr>\n",
       "  </thead>\n",
       "  <tbody>\n",
       "    <tr>\n",
       "      <th>count</th>\n",
       "      <td>1.301590e+05</td>\n",
       "      <td>130159.000000</td>\n",
       "      <td>130159.000000</td>\n",
       "      <td>130159.000000</td>\n",
       "      <td>130159.000000</td>\n",
       "      <td>130159.000000</td>\n",
       "      <td>130159.000000</td>\n",
       "      <td>130159.000000</td>\n",
       "      <td>130159.000000</td>\n",
       "      <td>130159.000000</td>\n",
       "      <td>130159.000000</td>\n",
       "    </tr>\n",
       "    <tr>\n",
       "      <th>mean</th>\n",
       "      <td>1.623928e+04</td>\n",
       "      <td>1.579599</td>\n",
       "      <td>6.454775</td>\n",
       "      <td>1.732450</td>\n",
       "      <td>2.654231</td>\n",
       "      <td>2.534907</td>\n",
       "      <td>0.287372</td>\n",
       "      <td>0.762252</td>\n",
       "      <td>1.314131</td>\n",
       "      <td>0.088400</td>\n",
       "      <td>0.060234</td>\n",
       "    </tr>\n",
       "    <tr>\n",
       "      <th>std</th>\n",
       "      <td>9.713855e+04</td>\n",
       "      <td>1.262176</td>\n",
       "      <td>99.192774</td>\n",
       "      <td>12.287543</td>\n",
       "      <td>133.291190</td>\n",
       "      <td>88.172313</td>\n",
       "      <td>11.068274</td>\n",
       "      <td>16.306476</td>\n",
       "      <td>3.322937</td>\n",
       "      <td>11.236564</td>\n",
       "      <td>10.959437</td>\n",
       "    </tr>\n",
       "    <tr>\n",
       "      <th>min</th>\n",
       "      <td>0.000000e+00</td>\n",
       "      <td>1.000000</td>\n",
       "      <td>1.000000</td>\n",
       "      <td>0.000000</td>\n",
       "      <td>0.000000</td>\n",
       "      <td>0.000000</td>\n",
       "      <td>0.000000</td>\n",
       "      <td>0.000000</td>\n",
       "      <td>1.000000</td>\n",
       "      <td>0.000000</td>\n",
       "      <td>0.000000</td>\n",
       "    </tr>\n",
       "    <tr>\n",
       "      <th>25%</th>\n",
       "      <td>9.500000e+01</td>\n",
       "      <td>1.000000</td>\n",
       "      <td>1.000000</td>\n",
       "      <td>1.000000</td>\n",
       "      <td>0.000000</td>\n",
       "      <td>0.000000</td>\n",
       "      <td>0.000000</td>\n",
       "      <td>0.000000</td>\n",
       "      <td>1.000000</td>\n",
       "      <td>0.000000</td>\n",
       "      <td>0.000000</td>\n",
       "    </tr>\n",
       "    <tr>\n",
       "      <th>50%</th>\n",
       "      <td>1.052000e+03</td>\n",
       "      <td>1.000000</td>\n",
       "      <td>1.000000</td>\n",
       "      <td>1.000000</td>\n",
       "      <td>0.000000</td>\n",
       "      <td>0.000000</td>\n",
       "      <td>0.000000</td>\n",
       "      <td>0.000000</td>\n",
       "      <td>1.000000</td>\n",
       "      <td>0.000000</td>\n",
       "      <td>0.000000</td>\n",
       "    </tr>\n",
       "    <tr>\n",
       "      <th>75%</th>\n",
       "      <td>7.210000e+03</td>\n",
       "      <td>2.000000</td>\n",
       "      <td>1.000000</td>\n",
       "      <td>1.000000</td>\n",
       "      <td>0.000000</td>\n",
       "      <td>0.000000</td>\n",
       "      <td>0.000000</td>\n",
       "      <td>0.000000</td>\n",
       "      <td>1.000000</td>\n",
       "      <td>0.000000</td>\n",
       "      <td>0.000000</td>\n",
       "    </tr>\n",
       "    <tr>\n",
       "      <th>max</th>\n",
       "      <td>1.352860e+07</td>\n",
       "      <td>49.000000</td>\n",
       "      <td>10000.000000</td>\n",
       "      <td>2944.000000</td>\n",
       "      <td>31692.000000</td>\n",
       "      <td>14160.000000</td>\n",
       "      <td>3051.000000</td>\n",
       "      <td>4059.000000</td>\n",
       "      <td>735.000000</td>\n",
       "      <td>3869.000000</td>\n",
       "      <td>3866.000000</td>\n",
       "    </tr>\n",
       "  </tbody>\n",
       "</table>\n",
       "</div>"
      ],
      "text/plain": [
       "          diskUsage      languages   contributors       watchers  \\\n",
       "count  1.301590e+05  130159.000000  130159.000000  130159.000000   \n",
       "mean   1.623928e+04  1.579599       6.454775       1.732450        \n",
       "std    9.713855e+04  1.262176       99.192774      12.287543       \n",
       "min    0.000000e+00  1.000000       1.000000       0.000000        \n",
       "25%    9.500000e+01  1.000000       1.000000       1.000000        \n",
       "50%    1.052000e+03  1.000000       1.000000       1.000000        \n",
       "75%    7.210000e+03  2.000000       1.000000       1.000000        \n",
       "max    1.352860e+07  49.000000      10000.000000   2944.000000     \n",
       "\n",
       "          stargazers          forks         issues   pullRequests  \\\n",
       "count  130159.000000  130159.000000  130159.000000  130159.000000   \n",
       "mean   2.654231       2.534907       0.287372       0.762252        \n",
       "std    133.291190     88.172313      11.068274      16.306476       \n",
       "min    0.000000       0.000000       0.000000       0.000000        \n",
       "25%    0.000000       0.000000       0.000000       0.000000        \n",
       "50%    0.000000       0.000000       0.000000       0.000000        \n",
       "75%    0.000000       0.000000       0.000000       0.000000        \n",
       "max    31692.000000   14160.000000   3051.000000    4059.000000     \n",
       "\n",
       "            branches           tags       releases  \n",
       "count  130159.000000  130159.000000  130159.000000  \n",
       "mean   1.314131       0.088400       0.060234       \n",
       "std    3.322937       11.236564      10.959437      \n",
       "min    1.000000       0.000000       0.000000       \n",
       "25%    1.000000       0.000000       0.000000       \n",
       "50%    1.000000       0.000000       0.000000       \n",
       "75%    1.000000       0.000000       0.000000       \n",
       "max    735.000000     3869.000000    3866.000000    "
      ]
     },
     "execution_count": 31,
     "metadata": {},
     "output_type": "execute_result"
    }
   ],
   "source": [
    "df.describe()"
   ]
  },
  {
   "cell_type": "code",
   "execution_count": 32,
   "metadata": {},
   "outputs": [],
   "source": [
    "#saves filtered projetcts to Excel\n",
    "#removes timezone from dates, since Excel does not know how to handle that\n",
    "df.createdAt = pd.to_datetime(df.createdAt).dt.tz_localize(None) \n",
    "df.pushedAt = pd.to_datetime(df.pushedAt).dt.tz_localize(None)\n",
    "df.to_excel(FILTERED_FILE, index=False)"
   ]
  },
  {
   "cell_type": "code",
   "execution_count": 33,
   "metadata": {},
   "outputs": [],
   "source": [
    "#df.primaryLanguage.value_counts()\n",
    "df.primaryLanguage.value_counts(dropna=False).rename_axis('PrimaryLanguage').to_frame('Counts').to_excel(\"PrimaryLanguage-valuecounts-filter.xlsx\")\n"
   ]
  },
  {
   "cell_type": "code",
   "execution_count": 34,
   "metadata": {},
   "outputs": [
    {
     "data": {
      "text/plain": [
       "<matplotlib.axes._subplots.AxesSubplot at 0x1507b0fae48>"
      ]
     },
     "execution_count": 34,
     "metadata": {},
     "output_type": "execute_result"
    },
    {
     "data": {
      "image/png": "[encoded data removed]",
      "text/plain": [
       "<Figure size 432x288 with 1 Axes>"
      ]
     },
     "metadata": {},
     "output_type": "display_data"
    }
   ],
   "source": [
    "df.primaryLanguage.value_counts().plot(kind='pie', autopct='%1.1f%%')"
   ]
  },
  {
   "cell_type": "code",
   "execution_count": 35,
   "metadata": {},
   "outputs": [
    {
     "data": {
      "text/plain": [
       "<matplotlib.axes._subplots.AxesSubplot at 0x1507b155908>"
      ]
     },
     "execution_count": 35,
     "metadata": {},
     "output_type": "execute_result"
    },
    {
     "data": {
      "image/png": "[encoded data removed]",
      "text/plain": [
       "<Figure size 432x288 with 1 Axes>"
      ]
     },
     "metadata": {},
     "output_type": "display_data"
    }
   ],
   "source": [
    "df.stargazers.value_counts().plot(kind='pie', autopct='%1.1f%%')"
   ]
  },
  {
   "cell_type": "code",
   "execution_count": 36,
   "metadata": {},
   "outputs": [
    {
     "data": {
      "text/plain": [
       "<matplotlib.axes._subplots.AxesSubplot at 0x15071fb7ec8>"
      ]
     },
     "execution_count": 36,
     "metadata": {},
     "output_type": "execute_result"
    },
    {
     "data": {
      "image/png": "[encoded data removed]",
      "text/plain": [
       "<Figure size 432x288 with 1 Axes>"
      ]
     },
     "metadata": {
      "needs_background": "light"
     },
     "output_type": "display_data"
    }
   ],
   "source": [
    "df[\"stargazers\"].plot(kind=\"hist\", logy=True)"
   ]
  },
  {
   "cell_type": "code",
   "execution_count": 37,
   "metadata": {},
   "outputs": [
    {
     "data": {
      "image/png": "[encoded data removed]",
      "text/plain": [
       "<Figure size 432x288 with 1 Axes>"
      ]
     },
     "metadata": {
      "needs_background": "light"
     },
     "output_type": "display_data"
    }
   ],
   "source": [
    "hist = df.hist(column=['stargazers'], bins=10)"
   ]
  },
  {
   "cell_type": "code",
   "execution_count": 38,
   "metadata": {},
   "outputs": [
    {
     "data": {
      "image/png": "[encoded data removed]",
      "text/plain": [
       "<Figure size 432x288 with 1 Axes>"
      ]
     },
     "metadata": {
      "needs_background": "light"
     },
     "output_type": "display_data"
    }
   ],
   "source": [
    "hist = df.hist(column=['languages'], bins=50)"
   ]
  },
  {
   "cell_type": "code",
   "execution_count": 39,
   "metadata": {},
   "outputs": [
    {
     "data": {
      "text/plain": [
       "<matplotlib.axes._subplots.AxesSubplot at 0x15074fe3348>"
      ]
     },
     "execution_count": 39,
     "metadata": {},
     "output_type": "execute_result"
    },
    {
     "data": {
      "image/png": "[encoded data removed]",
      "text/plain": [
       "<Figure size 432x288 with 1 Axes>"
      ]
     },
     "metadata": {
      "needs_background": "light"
     },
     "output_type": "display_data"
    }
   ],
   "source": [
    "df[\"languages\"].plot(kind=\"hist\", logy=True)"
   ]
  },
  {
   "cell_type": "code",
   "execution_count": 40,
   "metadata": {
    "scrolled": true
   },
   "outputs": [
    {
     "data": {
      "image/png": "[encoded data removed]",
      "text/plain": [
       "<Figure size 432x288 with 1 Axes>"
      ]
     },
     "metadata": {
      "needs_background": "light"
     },
     "output_type": "display_data"
    }
   ],
   "source": [
    "hist = df.hist(column=['contributors'], bins=100)"
   ]
  },
  {
   "cell_type": "code",
   "execution_count": 41,
   "metadata": {},
   "outputs": [
    {
     "data": {
      "text/plain": [
       "<matplotlib.axes._subplots.AxesSubplot at 0x15076e4a888>"
      ]
     },
     "execution_count": 41,
     "metadata": {},
     "output_type": "execute_result"
    },
    {
     "data": {
      "image/png": "[encoded data removed]",
      "text/plain": [
       "<Figure size 432x288 with 1 Axes>"
      ]
     },
     "metadata": {
      "needs_background": "light"
     },
     "output_type": "display_data"
    }
   ],
   "source": [
    "df[\"contributors\"].plot(kind=\"hist\", logy=True)"
   ]
  },
  {
   "cell_type": "code",
   "execution_count": 42,
   "metadata": {},
   "outputs": [
    {
     "data": {
      "image/png": "[encoded data removed]",
      "text/plain": [
       "<Figure size 432x288 with 1 Axes>"
      ]
     },
     "metadata": {
      "needs_background": "light"
     },
     "output_type": "display_data"
    }
   ],
   "source": [
    "hist = df.hist(column=['issues'], bins=100)"
   ]
  },
  {
   "cell_type": "code",
   "execution_count": 43,
   "metadata": {},
   "outputs": [
    {
     "data": {
      "text/plain": [
       "<matplotlib.axes._subplots.AxesSubplot at 0x15076fe4b48>"
      ]
     },
     "execution_count": 43,
     "metadata": {},
     "output_type": "execute_result"
    },
    {
     "data": {
      "image/png": "[encoded data removed]",
      "text/plain": [
       "<Figure size 432x288 with 1 Axes>"
      ]
     },
     "metadata": {
      "needs_background": "light"
     },
     "output_type": "display_data"
    }
   ],
   "source": [
    "df[\"issues\"].plot(kind=\"hist\", logy=True)"
   ]
  },
  {
   "cell_type": "code",
   "execution_count": 44,
   "metadata": {},
   "outputs": [
    {
     "data": {
      "text/plain": [
       "<matplotlib.axes._subplots.AxesSubplot at 0x15075f9b908>"
      ]
     },
     "execution_count": 44,
     "metadata": {},
     "output_type": "execute_result"
    },
    {
     "data": {
      "image/png": "[encoded data removed]",
      "text/plain": [
       "<Figure size 432x288 with 1 Axes>"
      ]
     },
     "metadata": {
      "needs_background": "light"
     },
     "output_type": "display_data"
    }
   ],
   "source": [
    "#hist = df.hist(column=['commits'], bins=100)\n",
    "df[\"commits\"].plot(kind=\"hist\", logy=True)"
   ]
  },
  {
   "cell_type": "code",
   "execution_count": 45,
   "metadata": {},
   "outputs": [
    {
     "data": {
      "image/png": "[encoded data removed]",
      "text/plain": [
       "<Figure size 432x288 with 1 Axes>"
      ]
     },
     "metadata": {
      "needs_background": "light"
     },
     "output_type": "display_data"
    }
   ],
   "source": [
    "hist = df.hist(column=['branches'], bins=100)"
   ]
  },
  {
   "cell_type": "code",
   "execution_count": 46,
   "metadata": {},
   "outputs": [
    {
     "data": {
      "text/plain": [
       "<matplotlib.axes._subplots.AxesSubplot at 0x15070698c48>"
      ]
     },
     "execution_count": 46,
     "metadata": {},
     "output_type": "execute_result"
    },
    {
     "data": {
      "image/png": "[encoded data removed]",
      "text/plain": [
       "<Figure size 432x288 with 1 Axes>"
      ]
     },
     "metadata": {
      "needs_background": "light"
     },
     "output_type": "display_data"
    }
   ],
   "source": [
    "df[\"branches\"].plot(kind=\"hist\", logy=True)"
   ]
  },
  {
   "cell_type": "code",
   "execution_count": 47,
   "metadata": {},
   "outputs": [
    {
     "data": {
      "text/plain": [
       "Text(0.5, 0, 'KB')"
      ]
     },
     "execution_count": 47,
     "metadata": {},
     "output_type": "execute_result"
    },
    {
     "data": {
      "image/png": "[encoded data removed]",
      "text/plain": [
       "<Figure size 432x288 with 1 Axes>"
      ]
     },
     "metadata": {
      "needs_background": "light"
     },
     "output_type": "display_data"
    }
   ],
   "source": [
    "hist = df.hist(column=['diskUsage'], bins=100)\n",
    "plt.xlabel(\"KB\")"
   ]
  },
  {
   "cell_type": "code",
   "execution_count": 48,
   "metadata": {},
   "outputs": [
    {
     "data": {
      "text/plain": [
       "<matplotlib.axes._subplots.AxesSubplot at 0x150760367c8>"
      ]
     },
     "execution_count": 48,
     "metadata": {},
     "output_type": "execute_result"
    },
    {
     "data": {
      "image/png": "[encoded data removed]",
      "text/plain": [
       "<Figure size 432x288 with 1 Axes>"
      ]
     },
     "metadata": {
      "needs_background": "light"
     },
     "output_type": "display_data"
    }
   ],
   "source": [
    "df[\"diskUsage\"].plot(kind=\"hist\", logy=True)"
   ]
  },
  {
   "cell_type": "code",
   "execution_count": 49,
   "metadata": {},
   "outputs": [
    {
     "data": {
      "text/html": [
       "<style  type=\"text/css\" >\n",
       "    #T_0f01d2f0_c649_11ec_8466_f82819853b9crow0_col0 {\n",
       "            background-color:  #67000d;\n",
       "            color:  #f1f1f1;\n",
       "        }    #T_0f01d2f0_c649_11ec_8466_f82819853b9crow0_col1 {\n",
       "            background-color:  #fdc7b2;\n",
       "            color:  #000000;\n",
       "        }    #T_0f01d2f0_c649_11ec_8466_f82819853b9crow0_col2 {\n",
       "            background-color:  #fff5f0;\n",
       "            color:  #000000;\n",
       "        }    #T_0f01d2f0_c649_11ec_8466_f82819853b9crow0_col3 {\n",
       "            background-color:  #fff5f0;\n",
       "            color:  #000000;\n",
       "        }    #T_0f01d2f0_c649_11ec_8466_f82819853b9crow0_col4 {\n",
       "            background-color:  #fff5f0;\n",
       "            color:  #000000;\n",
       "        }    #T_0f01d2f0_c649_11ec_8466_f82819853b9crow0_col5 {\n",
       "            background-color:  #fff5f0;\n",
       "            color:  #000000;\n",
       "        }    #T_0f01d2f0_c649_11ec_8466_f82819853b9crow0_col6 {\n",
       "            background-color:  #fff5f0;\n",
       "            color:  #000000;\n",
       "        }    #T_0f01d2f0_c649_11ec_8466_f82819853b9crow0_col7 {\n",
       "            background-color:  #fff2ec;\n",
       "            color:  #000000;\n",
       "        }    #T_0f01d2f0_c649_11ec_8466_f82819853b9crow0_col8 {\n",
       "            background-color:  #fff2ec;\n",
       "            color:  #000000;\n",
       "        }    #T_0f01d2f0_c649_11ec_8466_f82819853b9crow0_col9 {\n",
       "            background-color:  #fff5f0;\n",
       "            color:  #000000;\n",
       "        }    #T_0f01d2f0_c649_11ec_8466_f82819853b9crow0_col10 {\n",
       "            background-color:  #fff5f0;\n",
       "            color:  #000000;\n",
       "        }    #T_0f01d2f0_c649_11ec_8466_f82819853b9crow1_col0 {\n",
       "            background-color:  #fdc5ae;\n",
       "            color:  #000000;\n",
       "        }    #T_0f01d2f0_c649_11ec_8466_f82819853b9crow1_col1 {\n",
       "            background-color:  #67000d;\n",
       "            color:  #f1f1f1;\n",
       "        }    #T_0f01d2f0_c649_11ec_8466_f82819853b9crow1_col2 {\n",
       "            background-color:  #fff4ee;\n",
       "            color:  #000000;\n",
       "        }    #T_0f01d2f0_c649_11ec_8466_f82819853b9crow1_col3 {\n",
       "            background-color:  #fff2ec;\n",
       "            color:  #000000;\n",
       "        }    #T_0f01d2f0_c649_11ec_8466_f82819853b9crow1_col4 {\n",
       "            background-color:  #fff1ea;\n",
       "            color:  #000000;\n",
       "        }    #T_0f01d2f0_c649_11ec_8466_f82819853b9crow1_col5 {\n",
       "            background-color:  #fff3ed;\n",
       "            color:  #000000;\n",
       "        }    #T_0f01d2f0_c649_11ec_8466_f82819853b9crow1_col6 {\n",
       "            background-color:  #ffeee7;\n",
       "            color:  #000000;\n",
       "        }    #T_0f01d2f0_c649_11ec_8466_f82819853b9crow1_col7 {\n",
       "            background-color:  #fee9df;\n",
       "            color:  #000000;\n",
       "        }    #T_0f01d2f0_c649_11ec_8466_f82819853b9crow1_col8 {\n",
       "            background-color:  #fee6da;\n",
       "            color:  #000000;\n",
       "        }    #T_0f01d2f0_c649_11ec_8466_f82819853b9crow1_col9 {\n",
       "            background-color:  #fff3ed;\n",
       "            color:  #000000;\n",
       "        }    #T_0f01d2f0_c649_11ec_8466_f82819853b9crow1_col10 {\n",
       "            background-color:  #fff3ed;\n",
       "            color:  #000000;\n",
       "        }    #T_0f01d2f0_c649_11ec_8466_f82819853b9crow2_col0 {\n",
       "            background-color:  #fff5f0;\n",
       "            color:  #000000;\n",
       "        }    #T_0f01d2f0_c649_11ec_8466_f82819853b9crow2_col1 {\n",
       "            background-color:  #fff5f0;\n",
       "            color:  #000000;\n",
       "        }    #T_0f01d2f0_c649_11ec_8466_f82819853b9crow2_col2 {\n",
       "            background-color:  #67000d;\n",
       "            color:  #f1f1f1;\n",
       "        }    #T_0f01d2f0_c649_11ec_8466_f82819853b9crow2_col3 {\n",
       "            background-color:  #fcab8f;\n",
       "            color:  #000000;\n",
       "        }    #T_0f01d2f0_c649_11ec_8466_f82819853b9crow2_col4 {\n",
       "            background-color:  #fff2eb;\n",
       "            color:  #000000;\n",
       "        }    #T_0f01d2f0_c649_11ec_8466_f82819853b9crow2_col5 {\n",
       "            background-color:  #fdd1be;\n",
       "            color:  #000000;\n",
       "        }    #T_0f01d2f0_c649_11ec_8466_f82819853b9crow2_col6 {\n",
       "            background-color:  #fff5f0;\n",
       "            color:  #000000;\n",
       "        }    #T_0f01d2f0_c649_11ec_8466_f82819853b9crow2_col7 {\n",
       "            background-color:  #fff5f0;\n",
       "            color:  #000000;\n",
       "        }    #T_0f01d2f0_c649_11ec_8466_f82819853b9crow2_col8 {\n",
       "            background-color:  #fff5f0;\n",
       "            color:  #000000;\n",
       "        }    #T_0f01d2f0_c649_11ec_8466_f82819853b9crow2_col9 {\n",
       "            background-color:  #fff5f0;\n",
       "            color:  #000000;\n",
       "        }    #T_0f01d2f0_c649_11ec_8466_f82819853b9crow2_col10 {\n",
       "            background-color:  #fff4ef;\n",
       "            color:  #000000;\n",
       "        }    #T_0f01d2f0_c649_11ec_8466_f82819853b9crow3_col0 {\n",
       "            background-color:  #fff4ef;\n",
       "            color:  #000000;\n",
       "        }    #T_0f01d2f0_c649_11ec_8466_f82819853b9crow3_col1 {\n",
       "            background-color:  #fff3ed;\n",
       "            color:  #000000;\n",
       "        }    #T_0f01d2f0_c649_11ec_8466_f82819853b9crow3_col2 {\n",
       "            background-color:  #fcaa8d;\n",
       "            color:  #000000;\n",
       "        }    #T_0f01d2f0_c649_11ec_8466_f82819853b9crow3_col3 {\n",
       "            background-color:  #67000d;\n",
       "            color:  #f1f1f1;\n",
       "        }    #T_0f01d2f0_c649_11ec_8466_f82819853b9crow3_col4 {\n",
       "            background-color:  #ec382b;\n",
       "            color:  #f1f1f1;\n",
       "        }    #T_0f01d2f0_c649_11ec_8466_f82819853b9crow3_col5 {\n",
       "            background-color:  #fc8f6f;\n",
       "            color:  #000000;\n",
       "        }    #T_0f01d2f0_c649_11ec_8466_f82819853b9crow3_col6 {\n",
       "            background-color:  #fee7dc;\n",
       "            color:  #000000;\n",
       "        }    #T_0f01d2f0_c649_11ec_8466_f82819853b9crow3_col7 {\n",
       "            background-color:  #fee7dc;\n",
       "            color:  #000000;\n",
       "        }    #T_0f01d2f0_c649_11ec_8466_f82819853b9crow3_col8 {\n",
       "            background-color:  #fff0e9;\n",
       "            color:  #000000;\n",
       "        }    #T_0f01d2f0_c649_11ec_8466_f82819853b9crow3_col9 {\n",
       "            background-color:  #fff3ed;\n",
       "            color:  #000000;\n",
       "        }    #T_0f01d2f0_c649_11ec_8466_f82819853b9crow3_col10 {\n",
       "            background-color:  #fff4ee;\n",
       "            color:  #000000;\n",
       "        }    #T_0f01d2f0_c649_11ec_8466_f82819853b9crow4_col0 {\n",
       "            background-color:  #fff4ee;\n",
       "            color:  #000000;\n",
       "        }    #T_0f01d2f0_c649_11ec_8466_f82819853b9crow4_col1 {\n",
       "            background-color:  #fff0e9;\n",
       "            color:  #000000;\n",
       "        }    #T_0f01d2f0_c649_11ec_8466_f82819853b9crow4_col2 {\n",
       "            background-color:  #fff0e8;\n",
       "            color:  #000000;\n",
       "        }    #T_0f01d2f0_c649_11ec_8466_f82819853b9crow4_col3 {\n",
       "            background-color:  #ec382b;\n",
       "            color:  #f1f1f1;\n",
       "        }    #T_0f01d2f0_c649_11ec_8466_f82819853b9crow4_col4 {\n",
       "            background-color:  #67000d;\n",
       "            color:  #f1f1f1;\n",
       "        }    #T_0f01d2f0_c649_11ec_8466_f82819853b9crow4_col5 {\n",
       "            background-color:  #f85d42;\n",
       "            color:  #000000;\n",
       "        }    #T_0f01d2f0_c649_11ec_8466_f82819853b9crow4_col6 {\n",
       "            background-color:  #fdcbb6;\n",
       "            color:  #000000;\n",
       "        }    #T_0f01d2f0_c649_11ec_8466_f82819853b9crow4_col7 {\n",
       "            background-color:  #fdd2bf;\n",
       "            color:  #000000;\n",
       "        }    #T_0f01d2f0_c649_11ec_8466_f82819853b9crow4_col8 {\n",
       "            background-color:  #feeae0;\n",
       "            color:  #000000;\n",
       "        }    #T_0f01d2f0_c649_11ec_8466_f82819853b9crow4_col9 {\n",
       "            background-color:  #fff0e9;\n",
       "            color:  #000000;\n",
       "        }    #T_0f01d2f0_c649_11ec_8466_f82819853b9crow4_col10 {\n",
       "            background-color:  #fff3ed;\n",
       "            color:  #000000;\n",
       "        }    #T_0f01d2f0_c649_11ec_8466_f82819853b9crow5_col0 {\n",
       "            background-color:  #fff4ef;\n",
       "            color:  #000000;\n",
       "        }    #T_0f01d2f0_c649_11ec_8466_f82819853b9crow5_col1 {\n",
       "            background-color:  #fff4ee;\n",
       "            color:  #000000;\n",
       "        }    #T_0f01d2f0_c649_11ec_8466_f82819853b9crow5_col2 {\n",
       "            background-color:  #fdd1be;\n",
       "            color:  #000000;\n",
       "        }    #T_0f01d2f0_c649_11ec_8466_f82819853b9crow5_col3 {\n",
       "            background-color:  #fc8f6f;\n",
       "            color:  #000000;\n",
       "        }    #T_0f01d2f0_c649_11ec_8466_f82819853b9crow5_col4 {\n",
       "            background-color:  #f85f43;\n",
       "            color:  #000000;\n",
       "        }    #T_0f01d2f0_c649_11ec_8466_f82819853b9crow5_col5 {\n",
       "            background-color:  #67000d;\n",
       "            color:  #f1f1f1;\n",
       "        }    #T_0f01d2f0_c649_11ec_8466_f82819853b9crow5_col6 {\n",
       "            background-color:  #ffede5;\n",
       "            color:  #000000;\n",
       "        }    #T_0f01d2f0_c649_11ec_8466_f82819853b9crow5_col7 {\n",
       "            background-color:  #ffece3;\n",
       "            color:  #000000;\n",
       "        }    #T_0f01d2f0_c649_11ec_8466_f82819853b9crow5_col8 {\n",
       "            background-color:  #fff4ef;\n",
       "            color:  #000000;\n",
       "        }    #T_0f01d2f0_c649_11ec_8466_f82819853b9crow5_col9 {\n",
       "            background-color:  #fff5f0;\n",
       "            color:  #000000;\n",
       "        }    #T_0f01d2f0_c649_11ec_8466_f82819853b9crow5_col10 {\n",
       "            background-color:  #fff5f0;\n",
       "            color:  #000000;\n",
       "        }    #T_0f01d2f0_c649_11ec_8466_f82819853b9crow6_col0 {\n",
       "            background-color:  #fff0e9;\n",
       "            color:  #000000;\n",
       "        }    #T_0f01d2f0_c649_11ec_8466_f82819853b9crow6_col1 {\n",
       "            background-color:  #ffece3;\n",
       "            color:  #000000;\n",
       "        }    #T_0f01d2f0_c649_11ec_8466_f82819853b9crow6_col2 {\n",
       "            background-color:  #fff1ea;\n",
       "            color:  #000000;\n",
       "        }    #T_0f01d2f0_c649_11ec_8466_f82819853b9crow6_col3 {\n",
       "            background-color:  #fee5d8;\n",
       "            color:  #000000;\n",
       "        }    #T_0f01d2f0_c649_11ec_8466_f82819853b9crow6_col4 {\n",
       "            background-color:  #fdc7b2;\n",
       "            color:  #000000;\n",
       "        }    #T_0f01d2f0_c649_11ec_8466_f82819853b9crow6_col5 {\n",
       "            background-color:  #feeae0;\n",
       "            color:  #000000;\n",
       "        }    #T_0f01d2f0_c649_11ec_8466_f82819853b9crow6_col6 {\n",
       "            background-color:  #67000d;\n",
       "            color:  #f1f1f1;\n",
       "        }    #T_0f01d2f0_c649_11ec_8466_f82819853b9crow6_col7 {\n",
       "            background-color:  #b91419;\n",
       "            color:  #f1f1f1;\n",
       "        }    #T_0f01d2f0_c649_11ec_8466_f82819853b9crow6_col8 {\n",
       "            background-color:  #f75c41;\n",
       "            color:  #000000;\n",
       "        }    #T_0f01d2f0_c649_11ec_8466_f82819853b9crow6_col9 {\n",
       "            background-color:  #fdd0bc;\n",
       "            color:  #000000;\n",
       "        }    #T_0f01d2f0_c649_11ec_8466_f82819853b9crow6_col10 {\n",
       "            background-color:  #feeae0;\n",
       "            color:  #000000;\n",
       "        }    #T_0f01d2f0_c649_11ec_8466_f82819853b9crow7_col0 {\n",
       "            background-color:  #ffefe8;\n",
       "            color:  #000000;\n",
       "        }    #T_0f01d2f0_c649_11ec_8466_f82819853b9crow7_col1 {\n",
       "            background-color:  #fee8dd;\n",
       "            color:  #000000;\n",
       "        }    #T_0f01d2f0_c649_11ec_8466_f82819853b9crow7_col2 {\n",
       "            background-color:  #fff2eb;\n",
       "            color:  #000000;\n",
       "        }    #T_0f01d2f0_c649_11ec_8466_f82819853b9crow7_col3 {\n",
       "            background-color:  #fee5d9;\n",
       "            color:  #000000;\n",
       "        }    #T_0f01d2f0_c649_11ec_8466_f82819853b9crow7_col4 {\n",
       "            background-color:  #fdd0bc;\n",
       "            color:  #000000;\n",
       "        }    #T_0f01d2f0_c649_11ec_8466_f82819853b9crow7_col5 {\n",
       "            background-color:  #fee9df;\n",
       "            color:  #000000;\n",
       "        }    #T_0f01d2f0_c649_11ec_8466_f82819853b9crow7_col6 {\n",
       "            background-color:  #b91419;\n",
       "            color:  #f1f1f1;\n",
       "        }    #T_0f01d2f0_c649_11ec_8466_f82819853b9crow7_col7 {\n",
       "            background-color:  #67000d;\n",
       "            color:  #f1f1f1;\n",
       "        }    #T_0f01d2f0_c649_11ec_8466_f82819853b9crow7_col8 {\n",
       "            background-color:  #ec382b;\n",
       "            color:  #f1f1f1;\n",
       "        }    #T_0f01d2f0_c649_11ec_8466_f82819853b9crow7_col9 {\n",
       "            background-color:  #fcb296;\n",
       "            color:  #000000;\n",
       "        }    #T_0f01d2f0_c649_11ec_8466_f82819853b9crow7_col10 {\n",
       "            background-color:  #fdd2bf;\n",
       "            color:  #000000;\n",
       "        }    #T_0f01d2f0_c649_11ec_8466_f82819853b9crow8_col0 {\n",
       "            background-color:  #ffefe8;\n",
       "            color:  #000000;\n",
       "        }    #T_0f01d2f0_c649_11ec_8466_f82819853b9crow8_col1 {\n",
       "            background-color:  #fee4d8;\n",
       "            color:  #000000;\n",
       "        }    #T_0f01d2f0_c649_11ec_8466_f82819853b9crow8_col2 {\n",
       "            background-color:  #fff2ec;\n",
       "            color:  #000000;\n",
       "        }    #T_0f01d2f0_c649_11ec_8466_f82819853b9crow8_col3 {\n",
       "            background-color:  #ffeee7;\n",
       "            color:  #000000;\n",
       "        }    #T_0f01d2f0_c649_11ec_8466_f82819853b9crow8_col4 {\n",
       "            background-color:  #fee8de;\n",
       "            color:  #000000;\n",
       "        }    #T_0f01d2f0_c649_11ec_8466_f82819853b9crow8_col5 {\n",
       "            background-color:  #fff2eb;\n",
       "            color:  #000000;\n",
       "        }    #T_0f01d2f0_c649_11ec_8466_f82819853b9crow8_col6 {\n",
       "            background-color:  #f75c41;\n",
       "            color:  #000000;\n",
       "        }    #T_0f01d2f0_c649_11ec_8466_f82819853b9crow8_col7 {\n",
       "            background-color:  #ec382b;\n",
       "            color:  #f1f1f1;\n",
       "        }    #T_0f01d2f0_c649_11ec_8466_f82819853b9crow8_col8 {\n",
       "            background-color:  #67000d;\n",
       "            color:  #f1f1f1;\n",
       "        }    #T_0f01d2f0_c649_11ec_8466_f82819853b9crow8_col9 {\n",
       "            background-color:  #fdd1be;\n",
       "            color:  #000000;\n",
       "        }    #T_0f01d2f0_c649_11ec_8466_f82819853b9crow8_col10 {\n",
       "            background-color:  #fee6da;\n",
       "            color:  #000000;\n",
       "        }    #T_0f01d2f0_c649_11ec_8466_f82819853b9crow9_col0 {\n",
       "            background-color:  #fff4ef;\n",
       "            color:  #000000;\n",
       "        }    #T_0f01d2f0_c649_11ec_8466_f82819853b9crow9_col1 {\n",
       "            background-color:  #fff3ed;\n",
       "            color:  #000000;\n",
       "        }    #T_0f01d2f0_c649_11ec_8466_f82819853b9crow9_col2 {\n",
       "            background-color:  #fff4ee;\n",
       "            color:  #000000;\n",
       "        }    #T_0f01d2f0_c649_11ec_8466_f82819853b9crow9_col3 {\n",
       "            background-color:  #fff4ee;\n",
       "            color:  #000000;\n",
       "        }    #T_0f01d2f0_c649_11ec_8466_f82819853b9crow9_col4 {\n",
       "            background-color:  #fff1ea;\n",
       "            color:  #000000;\n",
       "        }    #T_0f01d2f0_c649_11ec_8466_f82819853b9crow9_col5 {\n",
       "            background-color:  #fff5f0;\n",
       "            color:  #000000;\n",
       "        }    #T_0f01d2f0_c649_11ec_8466_f82819853b9crow9_col6 {\n",
       "            background-color:  #fdd3c1;\n",
       "            color:  #000000;\n",
       "        }    #T_0f01d2f0_c649_11ec_8466_f82819853b9crow9_col7 {\n",
       "            background-color:  #fcb499;\n",
       "            color:  #000000;\n",
       "        }    #T_0f01d2f0_c649_11ec_8466_f82819853b9crow9_col8 {\n",
       "            background-color:  #fdd3c1;\n",
       "            color:  #000000;\n",
       "        }    #T_0f01d2f0_c649_11ec_8466_f82819853b9crow9_col9 {\n",
       "            background-color:  #67000d;\n",
       "            color:  #f1f1f1;\n",
       "        }    #T_0f01d2f0_c649_11ec_8466_f82819853b9crow9_col10 {\n",
       "            background-color:  #6d010e;\n",
       "            color:  #f1f1f1;\n",
       "        }    #T_0f01d2f0_c649_11ec_8466_f82819853b9crow10_col0 {\n",
       "            background-color:  #fff4ef;\n",
       "            color:  #000000;\n",
       "        }    #T_0f01d2f0_c649_11ec_8466_f82819853b9crow10_col1 {\n",
       "            background-color:  #fff4ef;\n",
       "            color:  #000000;\n",
       "        }    #T_0f01d2f0_c649_11ec_8466_f82819853b9crow10_col2 {\n",
       "            background-color:  #fff4ee;\n",
       "            color:  #000000;\n",
       "        }    #T_0f01d2f0_c649_11ec_8466_f82819853b9crow10_col3 {\n",
       "            background-color:  #fff4ef;\n",
       "            color:  #000000;\n",
       "        }    #T_0f01d2f0_c649_11ec_8466_f82819853b9crow10_col4 {\n",
       "            background-color:  #fff4ef;\n",
       "            color:  #000000;\n",
       "        }    #T_0f01d2f0_c649_11ec_8466_f82819853b9crow10_col5 {\n",
       "            background-color:  #fff5f0;\n",
       "            color:  #000000;\n",
       "        }    #T_0f01d2f0_c649_11ec_8466_f82819853b9crow10_col6 {\n",
       "            background-color:  #ffede5;\n",
       "            color:  #000000;\n",
       "        }    #T_0f01d2f0_c649_11ec_8466_f82819853b9crow10_col7 {\n",
       "            background-color:  #fdd5c4;\n",
       "            color:  #000000;\n",
       "        }    #T_0f01d2f0_c649_11ec_8466_f82819853b9crow10_col8 {\n",
       "            background-color:  #fee8de;\n",
       "            color:  #000000;\n",
       "        }    #T_0f01d2f0_c649_11ec_8466_f82819853b9crow10_col9 {\n",
       "            background-color:  #6d010e;\n",
       "            color:  #f1f1f1;\n",
       "        }    #T_0f01d2f0_c649_11ec_8466_f82819853b9crow10_col10 {\n",
       "            background-color:  #67000d;\n",
       "            color:  #f1f1f1;\n",
       "        }</style><table id=\"T_0f01d2f0_c649_11ec_8466_f82819853b9c\" ><thead>    <tr>        <th class=\"blank level0\" ></th>        <th class=\"col_heading level0 col0\" >diskUsage</th>        <th class=\"col_heading level0 col1\" >languages</th>        <th class=\"col_heading level0 col2\" >contributors</th>        <th class=\"col_heading level0 col3\" >watchers</th>        <th class=\"col_heading level0 col4\" >stargazers</th>        <th class=\"col_heading level0 col5\" >forks</th>        <th class=\"col_heading level0 col6\" >issues</th>        <th class=\"col_heading level0 col7\" >pullRequests</th>        <th class=\"col_heading level0 col8\" >branches</th>        <th class=\"col_heading level0 col9\" >tags</th>        <th class=\"col_heading level0 col10\" >releases</th>    </tr></thead><tbody>\n",
       "                <tr>\n",
       "                        <th id=\"T_0f01d2f0_c649_11ec_8466_f82819853b9clevel0_row0\" class=\"row_heading level0 row0\" >diskUsage</th>\n",
       "                        <td id=\"T_0f01d2f0_c649_11ec_8466_f82819853b9crow0_col0\" class=\"data row0 col0\" >1</td>\n",
       "                        <td id=\"T_0f01d2f0_c649_11ec_8466_f82819853b9crow0_col1\" class=\"data row0 col1\" >0.21496</td>\n",
       "                        <td id=\"T_0f01d2f0_c649_11ec_8466_f82819853b9crow0_col2\" class=\"data row0 col2\" >-0.0020037</td>\n",
       "                        <td id=\"T_0f01d2f0_c649_11ec_8466_f82819853b9crow0_col3\" class=\"data row0 col3\" >0.00485662</td>\n",
       "                        <td id=\"T_0f01d2f0_c649_11ec_8466_f82819853b9crow0_col4\" class=\"data row0 col4\" >0.00832047</td>\n",
       "                        <td id=\"T_0f01d2f0_c649_11ec_8466_f82819853b9crow0_col5\" class=\"data row0 col5\" >0.00515848</td>\n",
       "                        <td id=\"T_0f01d2f0_c649_11ec_8466_f82819853b9crow0_col6\" class=\"data row0 col6\" >0.0259605</td>\n",
       "                        <td id=\"T_0f01d2f0_c649_11ec_8466_f82819853b9crow0_col7\" class=\"data row0 col7\" >0.0350041</td>\n",
       "                        <td id=\"T_0f01d2f0_c649_11ec_8466_f82819853b9crow0_col8\" class=\"data row0 col8\" >0.0361185</td>\n",
       "                        <td id=\"T_0f01d2f0_c649_11ec_8466_f82819853b9crow0_col9\" class=\"data row0 col9\" >0.00449227</td>\n",
       "                        <td id=\"T_0f01d2f0_c649_11ec_8466_f82819853b9crow0_col10\" class=\"data row0 col10\" >0.00204217</td>\n",
       "            </tr>\n",
       "            <tr>\n",
       "                        <th id=\"T_0f01d2f0_c649_11ec_8466_f82819853b9clevel0_row1\" class=\"row_heading level0 row1\" >languages</th>\n",
       "                        <td id=\"T_0f01d2f0_c649_11ec_8466_f82819853b9crow1_col0\" class=\"data row1 col0\" >0.21496</td>\n",
       "                        <td id=\"T_0f01d2f0_c649_11ec_8466_f82819853b9crow1_col1\" class=\"data row1 col1\" >1</td>\n",
       "                        <td id=\"T_0f01d2f0_c649_11ec_8466_f82819853b9crow1_col2\" class=\"data row1 col2\" >0.00643534</td>\n",
       "                        <td id=\"T_0f01d2f0_c649_11ec_8466_f82819853b9crow1_col3\" class=\"data row1 col3\" >0.0212486</td>\n",
       "                        <td id=\"T_0f01d2f0_c649_11ec_8466_f82819853b9crow1_col4\" class=\"data row1 col4\" >0.0336058</td>\n",
       "                        <td id=\"T_0f01d2f0_c649_11ec_8466_f82819853b9crow1_col5\" class=\"data row1 col5\" >0.0173479</td>\n",
       "                        <td id=\"T_0f01d2f0_c649_11ec_8466_f82819853b9crow1_col6\" class=\"data row1 col6\" >0.0640655</td>\n",
       "                        <td id=\"T_0f01d2f0_c649_11ec_8466_f82819853b9crow1_col7\" class=\"data row1 col7\" >0.0876049</td>\n",
       "                        <td id=\"T_0f01d2f0_c649_11ec_8466_f82819853b9crow1_col8\" class=\"data row1 col8\" >0.108067</td>\n",
       "                        <td id=\"T_0f01d2f0_c649_11ec_8466_f82819853b9crow1_col9\" class=\"data row1 col9\" >0.0195838</td>\n",
       "                        <td id=\"T_0f01d2f0_c649_11ec_8466_f82819853b9crow1_col10\" class=\"data row1 col10\" >0.0139005</td>\n",
       "            </tr>\n",
       "            <tr>\n",
       "                        <th id=\"T_0f01d2f0_c649_11ec_8466_f82819853b9clevel0_row2\" class=\"row_heading level0 row2\" >contributors</th>\n",
       "                        <td id=\"T_0f01d2f0_c649_11ec_8466_f82819853b9crow2_col0\" class=\"data row2 col0\" >-0.0020037</td>\n",
       "                        <td id=\"T_0f01d2f0_c649_11ec_8466_f82819853b9crow2_col1\" class=\"data row2 col1\" >0.00643534</td>\n",
       "                        <td id=\"T_0f01d2f0_c649_11ec_8466_f82819853b9crow2_col2\" class=\"data row2 col2\" >1</td>\n",
       "                        <td id=\"T_0f01d2f0_c649_11ec_8466_f82819853b9crow2_col3\" class=\"data row2 col3\" >0.302733</td>\n",
       "                        <td id=\"T_0f01d2f0_c649_11ec_8466_f82819853b9crow2_col4\" class=\"data row2 col4\" >0.0305642</td>\n",
       "                        <td id=\"T_0f01d2f0_c649_11ec_8466_f82819853b9crow2_col5\" class=\"data row2 col5\" >0.177716</td>\n",
       "                        <td id=\"T_0f01d2f0_c649_11ec_8466_f82819853b9crow2_col6\" class=\"data row2 col6\" >0.0226721</td>\n",
       "                        <td id=\"T_0f01d2f0_c649_11ec_8466_f82819853b9crow2_col7\" class=\"data row2 col7\" >0.0183548</td>\n",
       "                        <td id=\"T_0f01d2f0_c649_11ec_8466_f82819853b9crow2_col8\" class=\"data row2 col8\" >0.0169915</td>\n",
       "                        <td id=\"T_0f01d2f0_c649_11ec_8466_f82819853b9crow2_col9\" class=\"data row2 col9\" >0.00800108</td>\n",
       "                        <td id=\"T_0f01d2f0_c649_11ec_8466_f82819853b9crow2_col10\" class=\"data row2 col10\" >0.00649525</td>\n",
       "            </tr>\n",
       "            <tr>\n",
       "                        <th id=\"T_0f01d2f0_c649_11ec_8466_f82819853b9clevel0_row3\" class=\"row_heading level0 row3\" >watchers</th>\n",
       "                        <td id=\"T_0f01d2f0_c649_11ec_8466_f82819853b9crow3_col0\" class=\"data row3 col0\" >0.00485662</td>\n",
       "                        <td id=\"T_0f01d2f0_c649_11ec_8466_f82819853b9crow3_col1\" class=\"data row3 col1\" >0.0212486</td>\n",
       "                        <td id=\"T_0f01d2f0_c649_11ec_8466_f82819853b9crow3_col2\" class=\"data row3 col2\" >0.302733</td>\n",
       "                        <td id=\"T_0f01d2f0_c649_11ec_8466_f82819853b9crow3_col3\" class=\"data row3 col3\" >1</td>\n",
       "                        <td id=\"T_0f01d2f0_c649_11ec_8466_f82819853b9crow3_col4\" class=\"data row3 col4\" >0.636083</td>\n",
       "                        <td id=\"T_0f01d2f0_c649_11ec_8466_f82819853b9crow3_col5\" class=\"data row3 col5\" >0.387917</td>\n",
       "                        <td id=\"T_0f01d2f0_c649_11ec_8466_f82819853b9crow3_col6\" class=\"data row3 col6\" >0.104259</td>\n",
       "                        <td id=\"T_0f01d2f0_c649_11ec_8466_f82819853b9crow3_col7\" class=\"data row3 col7\" >0.0994082</td>\n",
       "                        <td id=\"T_0f01d2f0_c649_11ec_8466_f82819853b9crow3_col8\" class=\"data row3 col8\" >0.046286</td>\n",
       "                        <td id=\"T_0f01d2f0_c649_11ec_8466_f82819853b9crow3_col9\" class=\"data row3 col9\" >0.0162897</td>\n",
       "                        <td id=\"T_0f01d2f0_c649_11ec_8466_f82819853b9crow3_col10\" class=\"data row3 col10\" >0.0100124</td>\n",
       "            </tr>\n",
       "            <tr>\n",
       "                        <th id=\"T_0f01d2f0_c649_11ec_8466_f82819853b9clevel0_row4\" class=\"row_heading level0 row4\" >stargazers</th>\n",
       "                        <td id=\"T_0f01d2f0_c649_11ec_8466_f82819853b9crow4_col0\" class=\"data row4 col0\" >0.00832047</td>\n",
       "                        <td id=\"T_0f01d2f0_c649_11ec_8466_f82819853b9crow4_col1\" class=\"data row4 col1\" >0.0336058</td>\n",
       "                        <td id=\"T_0f01d2f0_c649_11ec_8466_f82819853b9crow4_col2\" class=\"data row4 col2\" >0.0305642</td>\n",
       "                        <td id=\"T_0f01d2f0_c649_11ec_8466_f82819853b9crow4_col3\" class=\"data row4 col3\" >0.636083</td>\n",
       "                        <td id=\"T_0f01d2f0_c649_11ec_8466_f82819853b9crow4_col4\" class=\"data row4 col4\" >1</td>\n",
       "                        <td id=\"T_0f01d2f0_c649_11ec_8466_f82819853b9crow4_col5\" class=\"data row4 col5\" >0.533922</td>\n",
       "                        <td id=\"T_0f01d2f0_c649_11ec_8466_f82819853b9crow4_col6\" class=\"data row4 col6\" >0.214544</td>\n",
       "                        <td id=\"T_0f01d2f0_c649_11ec_8466_f82819853b9crow4_col7\" class=\"data row4 col7\" >0.187498</td>\n",
       "                        <td id=\"T_0f01d2f0_c649_11ec_8466_f82819853b9crow4_col8\" class=\"data row4 col8\" >0.0845992</td>\n",
       "                        <td id=\"T_0f01d2f0_c649_11ec_8466_f82819853b9crow4_col9\" class=\"data row4 col9\" >0.0318478</td>\n",
       "                        <td id=\"T_0f01d2f0_c649_11ec_8466_f82819853b9crow4_col10\" class=\"data row4 col10\" >0.014698</td>\n",
       "            </tr>\n",
       "            <tr>\n",
       "                        <th id=\"T_0f01d2f0_c649_11ec_8466_f82819853b9clevel0_row5\" class=\"row_heading level0 row5\" >forks</th>\n",
       "                        <td id=\"T_0f01d2f0_c649_11ec_8466_f82819853b9crow5_col0\" class=\"data row5 col0\" >0.00515848</td>\n",
       "                        <td id=\"T_0f01d2f0_c649_11ec_8466_f82819853b9crow5_col1\" class=\"data row5 col1\" >0.0173479</td>\n",
       "                        <td id=\"T_0f01d2f0_c649_11ec_8466_f82819853b9crow5_col2\" class=\"data row5 col2\" >0.177716</td>\n",
       "                        <td id=\"T_0f01d2f0_c649_11ec_8466_f82819853b9crow5_col3\" class=\"data row5 col3\" >0.387917</td>\n",
       "                        <td id=\"T_0f01d2f0_c649_11ec_8466_f82819853b9crow5_col4\" class=\"data row5 col4\" >0.533922</td>\n",
       "                        <td id=\"T_0f01d2f0_c649_11ec_8466_f82819853b9crow5_col5\" class=\"data row5 col5\" >1</td>\n",
       "                        <td id=\"T_0f01d2f0_c649_11ec_8466_f82819853b9crow5_col6\" class=\"data row5 col6\" >0.069162</td>\n",
       "                        <td id=\"T_0f01d2f0_c649_11ec_8466_f82819853b9crow5_col7\" class=\"data row5 col7\" >0.0734988</td>\n",
       "                        <td id=\"T_0f01d2f0_c649_11ec_8466_f82819853b9crow5_col8\" class=\"data row5 col8\" >0.0218914</td>\n",
       "                        <td id=\"T_0f01d2f0_c649_11ec_8466_f82819853b9crow5_col9\" class=\"data row5 col9\" >0.00498776</td>\n",
       "                        <td id=\"T_0f01d2f0_c649_11ec_8466_f82819853b9crow5_col10\" class=\"data row5 col10\" >0.00233582</td>\n",
       "            </tr>\n",
       "            <tr>\n",
       "                        <th id=\"T_0f01d2f0_c649_11ec_8466_f82819853b9clevel0_row6\" class=\"row_heading level0 row6\" >issues</th>\n",
       "                        <td id=\"T_0f01d2f0_c649_11ec_8466_f82819853b9crow6_col0\" class=\"data row6 col0\" >0.0259605</td>\n",
       "                        <td id=\"T_0f01d2f0_c649_11ec_8466_f82819853b9crow6_col1\" class=\"data row6 col1\" >0.0640655</td>\n",
       "                        <td id=\"T_0f01d2f0_c649_11ec_8466_f82819853b9crow6_col2\" class=\"data row6 col2\" >0.0226721</td>\n",
       "                        <td id=\"T_0f01d2f0_c649_11ec_8466_f82819853b9crow6_col3\" class=\"data row6 col3\" >0.104259</td>\n",
       "                        <td id=\"T_0f01d2f0_c649_11ec_8466_f82819853b9crow6_col4\" class=\"data row6 col4\" >0.214544</td>\n",
       "                        <td id=\"T_0f01d2f0_c649_11ec_8466_f82819853b9crow6_col5\" class=\"data row6 col5\" >0.069162</td>\n",
       "                        <td id=\"T_0f01d2f0_c649_11ec_8466_f82819853b9crow6_col6\" class=\"data row6 col6\" >1</td>\n",
       "                        <td id=\"T_0f01d2f0_c649_11ec_8466_f82819853b9crow6_col7\" class=\"data row6 col7\" >0.811903</td>\n",
       "                        <td id=\"T_0f01d2f0_c649_11ec_8466_f82819853b9crow6_col8\" class=\"data row6 col8\" >0.546137</td>\n",
       "                        <td id=\"T_0f01d2f0_c649_11ec_8466_f82819853b9crow6_col9\" class=\"data row6 col9\" >0.186964</td>\n",
       "                        <td id=\"T_0f01d2f0_c649_11ec_8466_f82819853b9crow6_col10\" class=\"data row6 col10\" >0.0685769</td>\n",
       "            </tr>\n",
       "            <tr>\n",
       "                        <th id=\"T_0f01d2f0_c649_11ec_8466_f82819853b9clevel0_row7\" class=\"row_heading level0 row7\" >pullRequests</th>\n",
       "                        <td id=\"T_0f01d2f0_c649_11ec_8466_f82819853b9crow7_col0\" class=\"data row7 col0\" >0.0350041</td>\n",
       "                        <td id=\"T_0f01d2f0_c649_11ec_8466_f82819853b9crow7_col1\" class=\"data row7 col1\" >0.0876049</td>\n",
       "                        <td id=\"T_0f01d2f0_c649_11ec_8466_f82819853b9crow7_col2\" class=\"data row7 col2\" >0.0183548</td>\n",
       "                        <td id=\"T_0f01d2f0_c649_11ec_8466_f82819853b9crow7_col3\" class=\"data row7 col3\" >0.0994082</td>\n",
       "                        <td id=\"T_0f01d2f0_c649_11ec_8466_f82819853b9crow7_col4\" class=\"data row7 col4\" >0.187498</td>\n",
       "                        <td id=\"T_0f01d2f0_c649_11ec_8466_f82819853b9crow7_col5\" class=\"data row7 col5\" >0.0734988</td>\n",
       "                        <td id=\"T_0f01d2f0_c649_11ec_8466_f82819853b9crow7_col6\" class=\"data row7 col6\" >0.811903</td>\n",
       "                        <td id=\"T_0f01d2f0_c649_11ec_8466_f82819853b9crow7_col7\" class=\"data row7 col7\" >1</td>\n",
       "                        <td id=\"T_0f01d2f0_c649_11ec_8466_f82819853b9crow7_col8\" class=\"data row7 col8\" >0.642653</td>\n",
       "                        <td id=\"T_0f01d2f0_c649_11ec_8466_f82819853b9crow7_col9\" class=\"data row7 col9\" >0.283453</td>\n",
       "                        <td id=\"T_0f01d2f0_c649_11ec_8466_f82819853b9crow7_col10\" class=\"data row7 col10\" >0.176092</td>\n",
       "            </tr>\n",
       "            <tr>\n",
       "                        <th id=\"T_0f01d2f0_c649_11ec_8466_f82819853b9clevel0_row8\" class=\"row_heading level0 row8\" >branches</th>\n",
       "                        <td id=\"T_0f01d2f0_c649_11ec_8466_f82819853b9crow8_col0\" class=\"data row8 col0\" >0.0361185</td>\n",
       "                        <td id=\"T_0f01d2f0_c649_11ec_8466_f82819853b9crow8_col1\" class=\"data row8 col1\" >0.108067</td>\n",
       "                        <td id=\"T_0f01d2f0_c649_11ec_8466_f82819853b9crow8_col2\" class=\"data row8 col2\" >0.0169915</td>\n",
       "                        <td id=\"T_0f01d2f0_c649_11ec_8466_f82819853b9crow8_col3\" class=\"data row8 col3\" >0.046286</td>\n",
       "                        <td id=\"T_0f01d2f0_c649_11ec_8466_f82819853b9crow8_col4\" class=\"data row8 col4\" >0.0845992</td>\n",
       "                        <td id=\"T_0f01d2f0_c649_11ec_8466_f82819853b9crow8_col5\" class=\"data row8 col5\" >0.0218914</td>\n",
       "                        <td id=\"T_0f01d2f0_c649_11ec_8466_f82819853b9crow8_col6\" class=\"data row8 col6\" >0.546137</td>\n",
       "                        <td id=\"T_0f01d2f0_c649_11ec_8466_f82819853b9crow8_col7\" class=\"data row8 col7\" >0.642653</td>\n",
       "                        <td id=\"T_0f01d2f0_c649_11ec_8466_f82819853b9crow8_col8\" class=\"data row8 col8\" >1</td>\n",
       "                        <td id=\"T_0f01d2f0_c649_11ec_8466_f82819853b9crow8_col9\" class=\"data row8 col9\" >0.182496</td>\n",
       "                        <td id=\"T_0f01d2f0_c649_11ec_8466_f82819853b9crow8_col10\" class=\"data row8 col10\" >0.093179</td>\n",
       "            </tr>\n",
       "            <tr>\n",
       "                        <th id=\"T_0f01d2f0_c649_11ec_8466_f82819853b9clevel0_row9\" class=\"row_heading level0 row9\" >tags</th>\n",
       "                        <td id=\"T_0f01d2f0_c649_11ec_8466_f82819853b9crow9_col0\" class=\"data row9 col0\" >0.00449227</td>\n",
       "                        <td id=\"T_0f01d2f0_c649_11ec_8466_f82819853b9crow9_col1\" class=\"data row9 col1\" >0.0195838</td>\n",
       "                        <td id=\"T_0f01d2f0_c649_11ec_8466_f82819853b9crow9_col2\" class=\"data row9 col2\" >0.00800108</td>\n",
       "                        <td id=\"T_0f01d2f0_c649_11ec_8466_f82819853b9crow9_col3\" class=\"data row9 col3\" >0.0162897</td>\n",
       "                        <td id=\"T_0f01d2f0_c649_11ec_8466_f82819853b9crow9_col4\" class=\"data row9 col4\" >0.0318478</td>\n",
       "                        <td id=\"T_0f01d2f0_c649_11ec_8466_f82819853b9crow9_col5\" class=\"data row9 col5\" >0.00498776</td>\n",
       "                        <td id=\"T_0f01d2f0_c649_11ec_8466_f82819853b9crow9_col6\" class=\"data row9 col6\" >0.186964</td>\n",
       "                        <td id=\"T_0f01d2f0_c649_11ec_8466_f82819853b9crow9_col7\" class=\"data row9 col7\" >0.283453</td>\n",
       "                        <td id=\"T_0f01d2f0_c649_11ec_8466_f82819853b9crow9_col8\" class=\"data row9 col8\" >0.182496</td>\n",
       "                        <td id=\"T_0f01d2f0_c649_11ec_8466_f82819853b9crow9_col9\" class=\"data row9 col9\" >1</td>\n",
       "                        <td id=\"T_0f01d2f0_c649_11ec_8466_f82819853b9crow9_col10\" class=\"data row9 col10\" >0.986072</td>\n",
       "            </tr>\n",
       "            <tr>\n",
       "                        <th id=\"T_0f01d2f0_c649_11ec_8466_f82819853b9clevel0_row10\" class=\"row_heading level0 row10\" >releases</th>\n",
       "                        <td id=\"T_0f01d2f0_c649_11ec_8466_f82819853b9crow10_col0\" class=\"data row10 col0\" >0.00204217</td>\n",
       "                        <td id=\"T_0f01d2f0_c649_11ec_8466_f82819853b9crow10_col1\" class=\"data row10 col1\" >0.0139005</td>\n",
       "                        <td id=\"T_0f01d2f0_c649_11ec_8466_f82819853b9crow10_col2\" class=\"data row10 col2\" >0.00649525</td>\n",
       "                        <td id=\"T_0f01d2f0_c649_11ec_8466_f82819853b9crow10_col3\" class=\"data row10 col3\" >0.0100124</td>\n",
       "                        <td id=\"T_0f01d2f0_c649_11ec_8466_f82819853b9crow10_col4\" class=\"data row10 col4\" >0.014698</td>\n",
       "                        <td id=\"T_0f01d2f0_c649_11ec_8466_f82819853b9crow10_col5\" class=\"data row10 col5\" >0.00233582</td>\n",
       "                        <td id=\"T_0f01d2f0_c649_11ec_8466_f82819853b9crow10_col6\" class=\"data row10 col6\" >0.0685769</td>\n",
       "                        <td id=\"T_0f01d2f0_c649_11ec_8466_f82819853b9crow10_col7\" class=\"data row10 col7\" >0.176092</td>\n",
       "                        <td id=\"T_0f01d2f0_c649_11ec_8466_f82819853b9crow10_col8\" class=\"data row10 col8\" >0.093179</td>\n",
       "                        <td id=\"T_0f01d2f0_c649_11ec_8466_f82819853b9crow10_col9\" class=\"data row10 col9\" >0.986072</td>\n",
       "                        <td id=\"T_0f01d2f0_c649_11ec_8466_f82819853b9crow10_col10\" class=\"data row10 col10\" >1</td>\n",
       "            </tr>\n",
       "    </tbody></table>"
      ],
      "text/plain": [
       "<pandas.io.formats.style.Styler at 0x150751591c8>"
      ]
     },
     "execution_count": 49,
     "metadata": {},
     "output_type": "execute_result"
    }
   ],
   "source": [
    "corr = df.drop('isMirror', axis=1).corr()\n",
    "corr.style.background_gradient(cmap='Reds')"
   ]
  },
  {
   "cell_type": "code",
   "execution_count": null,
   "metadata": {},
   "outputs": [],
   "source": []
  }
 ],
 "metadata": {
  "kernelspec": {
   "display_name": "Python 3",
   "language": "python",
   "name": "python3"
  },
  "language_info": {
   "codemirror_mode": {
    "name": "ipython",
    "version": 3
   },
   "file_extension": ".py",
   "mimetype": "text/x-python",
   "name": "python",
   "nbconvert_exporter": "python",
   "pygments_lexer": "ipython3",
   "version": "3.7.6"
  },
  "pycharm": {
   "stem_cell": {
    "cell_type": "raw",
    "metadata": {
     "collapsed": false
    },
    "source": []
   }
  }
 },
 "nbformat": 4,
 "nbformat_minor": 2
}
