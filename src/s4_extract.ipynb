{
 "cells": [
  {
   "cell_type": "code",
   "execution_count": 6,
   "outputs": [],
   "source": [
    "import pandas as pd\n",
    "from config import JUPYTER_FILE\n",
    "from datetime import timedelta"
   ],
   "metadata": {
    "collapsed": false
   }
  },
  {
   "cell_type": "code",
   "execution_count": 7,
   "outputs": [],
   "source": [
    "from database import connect, Repository, Notebook, Query, CellModule\n",
    "from load_repository import load_repository\n",
    "from utils import StatusLogger, mount_basedir, check_exit, savepid\n",
    "from src import config"
   ],
   "metadata": {
    "collapsed": false
   }
  },
  {
   "cell_type": "code",
   "execution_count": 8,
   "outputs": [
    {
     "name": "stdout",
     "output_type": "stream",
     "text": [
      "Total repositories:  10\n"
     ]
    }
   ],
   "source": [
    "df = pd.read_excel(JUPYTER_FILE, keep_default_na=False)\n",
    "print('Total repositories: ',len(df))\n"
   ],
   "metadata": {
    "collapsed": false
   }
  },
  {
   "cell_type": "code",
   "execution_count": 9,
   "outputs": [
    {
     "name": "stdout",
     "output_type": "stream",
     "text": [
      "Processing repository: jakevdp/PythonDataScienceHandbook\n",
      "> Remote: https://github.com/jakevdp/PythonDataScienceHandbook.git\n",
      "> Finding files\n",
      "> Done. ID=1\n",
      "Processing repository: virgili0/Virgilio\n",
      "> Remote: https://github.com/virgili0/Virgilio.git\n",
      "> Finding files\n",
      "> Done. ID=2\n",
      "Processing repository: microsoft/Data-Science-For-Beginners\n",
      "> Remote: https://github.com/microsoft/Data-Science-For-Beginners.git\n",
      "> Finding files\n",
      "> Done. ID=3\n",
      "Processing repository: firmai/industry-machine-learning\n",
      "> Remote: https://github.com/firmai/industry-machine-learning.git\n",
      "> Finding files\n",
      "> Done. ID=4\n",
      "Processing repository: fengdu78/Data-Science-Notes\n",
      "> Remote: https://github.com/fengdu78/Data-Science-Notes.git\n",
      "> Finding files\n",
      "> Done. ID=5\n",
      "Processing repository: WillKoehrsen/Data-Analysis\n",
      "> Remote: https://github.com/WillKoehrsen/Data-Analysis.git\n",
      "> Finding files\n",
      "> Done. ID=6\n",
      "Processing repository: microsoft/tensorwatch\n",
      "> Remote: https://github.com/microsoft/tensorwatch.git\n",
      "> Finding files\n",
      "> Done. ID=7\n",
      "Processing repository: nborwankar/LearnDataScience\n",
      "> Remote: https://github.com/nborwankar/LearnDataScience.git\n",
      "> Finding files\n",
      "> Done. ID=8\n",
      "Processing repository: ml-tooling/ml-workspace\n",
      "> Remote: https://github.com/ml-tooling/ml-workspace.git\n",
      "> Finding files\n",
      "> Done. ID=9\n",
      "Processing repository: ShuaiW/data-science-question-answer\n",
      "> Remote: https://github.com/ShuaiW/data-science-question-answer.git\n",
      "> Finding files\n",
      "> Done. ID=10\n"
     ]
    }
   ],
   "source": [
    "with connect() as session, mount_basedir():\n",
    "    first_date = config.FIRST_DATE\n",
    "    delta = timedelta(2)\n",
    "    # query = Query(name=\"repository\", query=\"\", first_date= first_date,\n",
    "    #           last_date=first_date+delta, delta=delta, count=len(df),)\n",
    "    # session.add(query)\n",
    "    for repository in df.itertuples():\n",
    "        full_name = f'{repository.owner}/{repository.name}'\n",
    "        load_repository(session, \"github.com\", full_name)\n",
    "        session.commit()"
   ],
   "metadata": {
    "collapsed": false
   }
  },
  {
   "cell_type": "code",
   "execution_count": 10,
   "outputs": [
    {
     "name": "stdout",
     "output_type": "stream",
     "text": [
      "Total of queries: 0\n",
      "Total of downloaded repositories: 10\n"
     ]
    }
   ],
   "source": [
    "with connect() as session, mount_basedir():\n",
    "    query = session.query(Query).all()\n",
    "    print(f\"Total of queries: {len(query)}\")\n",
    "\n",
    "    repositories = session.query(Repository).all()\n",
    "    print(f\"Total of downloaded repositories: {len(repositories)}\")"
   ],
   "metadata": {
    "collapsed": false
   }
  }
 ],
 "metadata": {
  "kernelspec": {
   "display_name": "Python 3",
   "language": "python",
   "name": "python3"
  },
  "language_info": {
   "codemirror_mode": {
    "name": "ipython",
    "version": 2
   },
   "file_extension": ".py",
   "mimetype": "text/x-python",
   "name": "python",
   "nbconvert_exporter": "python",
   "pygments_lexer": "ipython2",
   "version": "2.7.6"
  }
 },
 "nbformat": 4,
 "nbformat_minor": 0
}
