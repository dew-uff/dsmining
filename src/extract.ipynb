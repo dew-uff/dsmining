{
 "cells": [
  {
   "cell_type": "code",
   "execution_count": 1,
   "outputs": [],
   "source": [
    "import pandas as pd\n",
    "from config import JUPYTER_FILE"
   ],
   "metadata": {
    "collapsed": false
   }
  },
  {
   "cell_type": "code",
   "execution_count": 2,
   "outputs": [],
   "source": [
    "from database import connect, Repository, Notebook, Query, CellModule\n",
    "from load_repository import load_repository\n",
    "from utils import StatusLogger, mount_basedir, check_exit, savepid"
   ],
   "metadata": {
    "collapsed": false
   }
  },
  {
   "cell_type": "code",
   "execution_count": 3,
   "outputs": [
    {
     "name": "stdout",
     "output_type": "stream",
     "text": [
      "Total repositories:  5\n"
     ]
    }
   ],
   "source": [
    "df = pd.read_excel(JUPYTER_FILE, keep_default_na=False)\n",
    "print('Total repositories: ',len(df))"
   ],
   "metadata": {
    "collapsed": false
   }
  },
  {
   "cell_type": "code",
   "execution_count": 12,
   "outputs": [
    {
     "name": "stdout",
     "output_type": "stream",
     "text": [
      "Processing repository: jakevdp/PythonDataScienceHandbook\n",
      "> Repository exists: ID=1\n",
      "Processing repository: virgili0/Virgilio\n",
      "> Repository exists: ID=2\n",
      "Processing repository: microsoft/Data-Science-For-Beginners\n",
      "> Repository exists: ID=3\n",
      "Processing repository: firmai/industry-machine-learning\n",
      "> Repository exists: ID=4\n",
      "Processing repository: fengdu78/Data-Science-Notes\n",
      "> Repository exists: ID=5\n"
     ]
    }
   ],
   "source": [
    "with connect() as session, mount_basedir():\n",
    "    for repository in df.itertuples():\n",
    "        full_name = f'{repository.owner}/{repository.name}'\n",
    "        load_repository(session, \"github.com\", full_name)\n",
    "        session.commit()"
   ],
   "metadata": {
    "collapsed": false
   }
  },
  {
   "cell_type": "code",
   "execution_count": 16,
   "outputs": [
    {
     "name": "stdout",
     "output_type": "stream",
     "text": [
      "[<Repository(1:jakevdp/PythonDataScienceHandbook)>, <Repository(2:virgili0/Virgilio)>, <Repository(3:microsoft/Data-Science-For-Beginners)>, <Repository(4:firmai/industry-machine-learning)>, <Repository(5:fengdu78/Data-Science-Notes)>]\n"
     ]
    }
   ],
   "source": [
    "with connect() as session, mount_basedir():\n",
    "    results = session.query(Repository).all()\n",
    "    print(results)"
   ],
   "metadata": {
    "collapsed": false
   }
  }
 ],
 "metadata": {
  "kernelspec": {
   "display_name": "Python 3",
   "language": "python",
   "name": "python3"
  },
  "language_info": {
   "codemirror_mode": {
    "name": "ipython",
    "version": 2
   },
   "file_extension": ".py",
   "mimetype": "text/x-python",
   "name": "python",
   "nbconvert_exporter": "python",
   "pygments_lexer": "ipython2",
   "version": "2.7.6"
  }
 },
 "nbformat": 4,
 "nbformat_minor": 0
}
