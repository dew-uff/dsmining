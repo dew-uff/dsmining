{
 "cells": [
  {
   "cell_type": "markdown",
   "metadata": {},
   "source": [
    "# Modules\n",
    "\n",
    "Analyze modules: local and external modules, import type, test modules."
   ]
  },
  {
   "cell_type": "code",
   "execution_count": null,
   "metadata": {},
   "outputs": [],
   "source": [
    "import sys\n",
    "sys.path.insert(0, '../archaeology')\n",
    "from collections import Counter\n",
    "from IPython.display import display\n",
    "\n",
    "from matplotlib import pyplot as plt\n",
    "import matplotlib.ticker as ticker\n",
    "from matplotlib_venn import venn2\n",
    "\n",
    "\n",
    "import seaborn as sns\n",
    "import pandas as pd\n",
    "\n",
    "from database import connect, Repository, Notebook, Query\n",
    "from analysis_helpers import display_counts, violinplot, getitem\n",
    "from analysis_helpers import distribution_with_boxplot, savefig\n",
    "from analysis_helpers import relative_var, var\n",
    "\n",
    "%matplotlib inline"
   ]
  },
  {
   "cell_type": "code",
   "execution_count": null,
   "metadata": {},
   "outputs": [],
   "source": [
    "with connect() as session:\n",
    "    print('Last query:', session.query(Query).all()[-1])\n",
    "    modules = pd.read_sql_table(\"notebook_modules\", session.connection())\n",
    "    print('Modules:', len(modules))\n"
   ]
  },
  {
   "cell_type": "code",
   "execution_count": null,
   "metadata": {},
   "outputs": [],
   "source": [
    "with connect() as session:\n",
    "    query = (\n",
    "        \"SELECT count(id) \"\n",
    "        \"FROM notebooks \"\n",
    "        \"WHERE NOT (kernel = 'no-kernel' AND nbformat = '0') \"\n",
    "        \"AND language = 'python' \"\n",
    "        \"AND language_version != 'unknown' \"\n",
    "        \"AND total_cells != 0 \"\n",
    "        \"AND processed & 16 = 0 \"\n",
    "    )\n",
    "    result = session.execute(query)\n",
    "    total_valid_python_notebooks = result.scalar()\n",
    "    \n",
    "    print('Valid Python Notebooks: {}'.format(total_valid_python_notebooks))\n"
   ]
  },
  {
   "cell_type": "code",
   "execution_count": null,
   "metadata": {},
   "outputs": [],
   "source": [
    "columns = [\n",
    "    \"any_any\", \"local_any\", \"external_any\",\n",
    "    \"any_import_from\", \"local_import_from\", \"external_import_from\",\n",
    "    \"any_import\", \"local_import\", \"external_import\",\n",
    "    \"any_load_ext\", \"local_load_ext\", \"external_load_ext\",\n",
    "]\n",
    "count_columns = [c + \"_count\" for c in columns]\n",
    "for column in columns:\n",
    "    modules[column] = modules[column].apply(lambda c: {a for a in c.split(\",\") if a})\n",
    "    modules[\"toplevel_\" + column] = modules[column].apply(lambda imports: {\n",
    "        getitem(x.split(\".\"), 0, x) for x in imports\n",
    "    })\n",
    "    modules[\"toplevel_\" + column + \"_count\"] = modules[\"toplevel_\" + column].apply(len)\n",
    "\n",
    "modules.head(5)"
   ]
  },
  {
   "cell_type": "markdown",
   "metadata": {},
   "source": [
    "# Notebooks with modules"
   ]
  },
  {
   "cell_type": "code",
   "execution_count": null,
   "metadata": {},
   "outputs": [],
   "source": [
    "total_notebooks_with_modules = len(modules[modules[\"any_any_count\"] > 0])\n",
    "relative_var(\"notebooks_with_modules\", total_notebooks_with_modules, total_valid_python_notebooks)"
   ]
  },
  {
   "cell_type": "markdown",
   "metadata": {},
   "source": [
    "# Local vs External"
   ]
  },
  {
   "cell_type": "code",
   "execution_count": null,
   "metadata": {},
   "outputs": [],
   "source": [
    "local = modules[\"local_any_count\"].sum()\n",
    "external = modules[\"external_any_count\"].sum()\n",
    "local, external"
   ]
  },
  {
   "cell_type": "markdown",
   "metadata": {},
   "source": [
    "## By notebook"
   ]
  },
  {
   "cell_type": "code",
   "execution_count": null,
   "metadata": {},
   "outputs": [],
   "source": [
    "local_notebook = modules[modules[\"local_any_count\"] > 0]\n",
    "external_notebook = modules[modules[\"external_any_count\"] > 0]"
   ]
  },
  {
   "cell_type": "markdown",
   "metadata": {},
   "source": [
    "### Local"
   ]
  },
  {
   "cell_type": "code",
   "execution_count": null,
   "metadata": {},
   "outputs": [],
   "source": [
    "relative_var(\"notebooks_with_local_modules\", len(local_notebook), total_valid_python_notebooks)"
   ]
  },
  {
   "cell_type": "markdown",
   "metadata": {},
   "source": [
    "### External"
   ]
  },
  {
   "cell_type": "code",
   "execution_count": null,
   "metadata": {},
   "outputs": [],
   "source": [
    "relative_var(\"notebooks_with_external_modules\", len(external_notebook), total_valid_python_notebooks)"
   ]
  },
  {
   "cell_type": "markdown",
   "metadata": {},
   "source": [
    "### Venn"
   ]
  },
  {
   "cell_type": "code",
   "execution_count": null,
   "metadata": {},
   "outputs": [],
   "source": [
    "local_ids = set(local_notebook.index.tolist())\n",
    "external_ids = set(external_notebook.index.tolist())\n",
    "len(local_ids & external_ids)"
   ]
  },
  {
   "cell_type": "code",
   "execution_count": null,
   "metadata": {},
   "outputs": [],
   "source": [
    "with savefig(\"notebook_module_external_local\", 8, 6):\n",
    "    fig = plt.figure()\n",
    "    ax = fig.add_subplot(111)\n",
    "    venn = venn2(subsets=(local_ids, external_ids), set_labels=('local', 'external'), ax=ax)\n",
    "    for label in venn.subset_labels:\n",
    "        label.set_text(\"{0:,g}\".format(int(label.get_text())))\n",
    "    local_label = venn.subset_labels[0]\n",
    "    xy = local_label.get_position()\n",
    "    xy = (xy[0] - 0.06, xy[1])\n",
    "    local_label.set_position(xy)\n"
   ]
  },
  {
   "cell_type": "markdown",
   "metadata": {},
   "source": [
    "# Import Type\n",
    "\n",
    "* import: `import numpy`\n",
    "* import_from: `from sklearn import datasets`\n",
    "* load_ext: `%load_ext autoreload`\n"
   ]
  },
  {
   "cell_type": "code",
   "execution_count": null,
   "metadata": {
    "code_folding": []
   },
   "outputs": [],
   "source": [
    "count = modules[[\"any_import_count\", \"any_import_from_count\", \"any_load_ext_count\"]].sum().rename(\n",
    "    lambda x: x[:-6]\n",
    ").sort_values(ascending=False)\n",
    "\n",
    "fig, counts = display_counts(count, width=4, show_values=True, template=\"{0:,}\", plot=False, logy=False)\n",
    "ax = plt.gca()\n",
    "ax.legend().set_visible(False)\n",
    "ax.set_xticklabels(ax.get_xticklabels(), rotation=50, ha=\"right\")\n",
    "plt.show()\n",
    "display(counts)\n"
   ]
  },
  {
   "cell_type": "markdown",
   "metadata": {},
   "source": [
    "## Local"
   ]
  },
  {
   "cell_type": "code",
   "execution_count": null,
   "metadata": {},
   "outputs": [],
   "source": [
    "count = modules[[\"local_import_count\", \"local_import_from_count\", \"local_load_ext_count\"]].sum().rename(\n",
    "    lambda x: x[:-6]\n",
    ").sort_values(ascending=False)\n",
    "\n",
    "fig, counts = display_counts(count, width=4, show_values=True, template=\"{0:,}\", plot=False, logy=False)\n",
    "ax = plt.gca()\n",
    "ax.legend().set_visible(False)\n",
    "ax.set_xticklabels(ax.get_xticklabels(), rotation=50, ha=\"right\")\n",
    "plt.show()\n",
    "display(counts)"
   ]
  },
  {
   "cell_type": "markdown",
   "metadata": {},
   "source": [
    "## External"
   ]
  },
  {
   "cell_type": "code",
   "execution_count": null,
   "metadata": {},
   "outputs": [],
   "source": [
    "count = modules[[\"external_import_count\", \"external_import_from_count\", \"external_load_ext_count\"]].sum().rename(\n",
    "    lambda x: x[:-6]\n",
    ").sort_values(ascending=False)\n",
    "\n",
    "fig, counts = display_counts(count, width=4, show_values=True, template=\"{0:,}\", plot=False, logy=False)\n",
    "ax = plt.gca()\n",
    "ax.legend().set_visible(False)\n",
    "ax.set_xticklabels(ax.get_xticklabels(), rotation=50, ha=\"right\")\n",
    "plt.show()\n",
    "display(counts)"
   ]
  },
  {
   "cell_type": "markdown",
   "metadata": {},
   "source": [
    "# Which modules"
   ]
  },
  {
   "cell_type": "markdown",
   "metadata": {},
   "source": [
    "## General"
   ]
  },
  {
   "cell_type": "markdown",
   "metadata": {},
   "source": [
    "### Full import"
   ]
  },
  {
   "cell_type": "code",
   "execution_count": null,
   "metadata": {
    "scrolled": false
   },
   "outputs": [],
   "source": [
    "counter = Counter()\n",
    "modules[\"any_any\"].agg(lambda x: counter.update(x))\n",
    "del counter['']\n",
    "counts = pd.Series(counter).sort_values(ascending=False)\n",
    "with savefig(\"notebook_module_full_import\", 8, 6):\n",
    "    fig, cnt = display_counts(\n",
    "        counts, width=20, show_values=True, plot=False,\n",
    "        cut=slice(None, 10), logy=False\n",
    "    )\n",
    "    display(cnt)\n",
    "    ax = plt.gca()\n",
    "    ax.set_xticklabels(ax.get_xticklabels(), rotation=50, ha=\"right\")\n",
    "    ax.legend().set_visible(False)"
   ]
  },
  {
   "cell_type": "markdown",
   "metadata": {},
   "source": [
    "### Toplevel"
   ]
  },
  {
   "cell_type": "code",
   "execution_count": null,
   "metadata": {},
   "outputs": [],
   "source": [
    "counter = Counter()\n",
    "modules[\"toplevel_any_any\"].agg(lambda x: counter.update(x))\n",
    "del counter['']\n",
    "counts = pd.Series(counter).sort_values(ascending=False)\n",
    "with savefig(\"notebook_module_toplevel\", 11, 5):\n",
    "    fig, cnt = display_counts(\n",
    "        counts, width=20, show_values=True, plot=False,\n",
    "        cut=slice(None, 10), logy=False\n",
    "    )\n",
    "    display(cnt)\n",
    "    ax = plt.gca()\n",
    "    ax.set_xticklabels(ax.get_xticklabels(), rotation=50, ha=\"right\")\n",
    "    ax.legend().set_visible(False)\n",
    "    ax.set_ylabel(\"Notebooks\")\n",
    "    ax.set_xlabel(\"Modules\")\n",
    "    ax.xaxis.labelpad = -15\n",
    "    #ax.yaxis.labelpad = -15"
   ]
  },
  {
   "cell_type": "markdown",
   "metadata": {},
   "source": [
    "#### Percentage"
   ]
  },
  {
   "cell_type": "code",
   "execution_count": null,
   "metadata": {},
   "outputs": [],
   "source": [
    "ncounts = counts / total_valid_python_notebooks * 100\n",
    "with savefig(\"notebook_module_toplevel_percentage\", 11, 5):\n",
    "    fig, cnt = display_counts(\n",
    "        ncounts, width=20, show_values=True, plot=False,\n",
    "        cut=slice(None, 15), logy=False, template=\"{}%\"\n",
    "    )\n",
    "    display(cnt)\n",
    "    ax = plt.gca()\n",
    "    ax.set_xticklabels(ax.get_xticklabels(), rotation=50, ha=\"right\")\n",
    "    ax.legend().set_visible(False)\n",
    "    ax.set_ylabel(\"% of Notebooks\")\n",
    "    ax.set_xlabel(\"Modules\")"
   ]
  },
  {
   "cell_type": "markdown",
   "metadata": {},
   "source": [
    "## import"
   ]
  },
  {
   "cell_type": "markdown",
   "metadata": {},
   "source": [
    "### Full import"
   ]
  },
  {
   "cell_type": "code",
   "execution_count": null,
   "metadata": {
    "scrolled": true
   },
   "outputs": [],
   "source": [
    "counter = Counter()\n",
    "modules[\"any_import\"].agg(lambda x: counter.update(x))\n",
    "del counter['']\n",
    "counts = pd.Series(counter).sort_values(ascending=False)\n",
    "with savefig(\"notebook_module_import_full_import\", 8, 6):\n",
    "    fig, cnt = display_counts(\n",
    "        counts, width=20, show_values=True, plot=False,\n",
    "        cut=slice(None, 10), logy=False\n",
    "    )\n",
    "    display(cnt)\n",
    "    ax = plt.gca()\n",
    "    ax.set_xticklabels(ax.get_xticklabels(), rotation=50, ha=\"right\")\n",
    "    ax.legend().set_visible(False)\n"
   ]
  },
  {
   "cell_type": "markdown",
   "metadata": {},
   "source": [
    "### Toplevel"
   ]
  },
  {
   "cell_type": "code",
   "execution_count": null,
   "metadata": {},
   "outputs": [],
   "source": [
    "counter = Counter()\n",
    "modules[\"toplevel_any_import\"].agg(lambda x: counter.update(x))\n",
    "del counter['']\n",
    "counts = pd.Series(counter).sort_values(ascending=False)\n",
    "with savefig(\"notebook_module_import_toplevel\", 8, 6):\n",
    "    fig, cnt = display_counts(\n",
    "        counts, width=20, show_values=True, plot=False,\n",
    "        cut=slice(None, 10), logy=False\n",
    "    )\n",
    "    display(cnt)\n",
    "    ax = plt.gca()\n",
    "    ax.set_xticklabels(ax.get_xticklabels(), rotation=50, ha=\"right\")\n",
    "    ax.legend().set_visible(False)\n"
   ]
  },
  {
   "cell_type": "markdown",
   "metadata": {
    "collapsed": true
   },
   "source": [
    "## import_from"
   ]
  },
  {
   "cell_type": "markdown",
   "metadata": {},
   "source": [
    "### Full import"
   ]
  },
  {
   "cell_type": "code",
   "execution_count": null,
   "metadata": {
    "scrolled": true
   },
   "outputs": [],
   "source": [
    "counter = Counter()\n",
    "modules[\"any_import_from\"].agg(lambda x: counter.update(x))\n",
    "del counter['']\n",
    "counts = pd.Series(counter).sort_values(ascending=False)\n",
    "with savefig(\"notebook_module_import_from_full_import\", 8, 6):\n",
    "    fig, cnt = display_counts(\n",
    "        counts, width=20, show_values=True, plot=False,\n",
    "        cut=slice(None, 10), logy=False\n",
    "    )\n",
    "    display(cnt)\n",
    "    ax = plt.gca()\n",
    "    ax.set_xticklabels(ax.get_xticklabels(), rotation=50, ha=\"right\")\n",
    "    ax.legend().set_visible(False)\n"
   ]
  },
  {
   "cell_type": "markdown",
   "metadata": {},
   "source": [
    "### Toplevel"
   ]
  },
  {
   "cell_type": "code",
   "execution_count": null,
   "metadata": {},
   "outputs": [],
   "source": [
    "counter = Counter()\n",
    "modules[\"toplevel_any_import_from\"].agg(lambda x: counter.update(x))\n",
    "del counter['']\n",
    "counts = pd.Series(counter).sort_values(ascending=False)\n",
    "with savefig(\"notebook_module_import_from_toplevel\", 8, 6):\n",
    "    fig, cnt = display_counts(\n",
    "        counts, width=20, show_values=True, plot=False,\n",
    "        cut=slice(None, 10), logy=False\n",
    "    )\n",
    "    display(cnt)\n",
    "    ax = plt.gca()\n",
    "    ax.set_xticklabels(ax.get_xticklabels(), rotation=50, ha=\"right\")\n",
    "    ax.legend().set_visible(False)\n"
   ]
  },
  {
   "cell_type": "markdown",
   "metadata": {},
   "source": [
    "## load_ext"
   ]
  },
  {
   "cell_type": "markdown",
   "metadata": {},
   "source": [
    "### Full import"
   ]
  },
  {
   "cell_type": "code",
   "execution_count": null,
   "metadata": {
    "scrolled": true
   },
   "outputs": [],
   "source": [
    "counter = Counter()\n",
    "modules[\"any_load_ext\"].agg(lambda x: counter.update(x))\n",
    "del counter['']\n",
    "counts = pd.Series(counter).sort_values(ascending=False)\n",
    "with savefig(\"notebook_module_load_ext_full_import\", 8, 6):\n",
    "    fig, cnt = display_counts(\n",
    "        counts, width=20, show_values=True, plot=False,\n",
    "        cut=slice(None, 10), logy=False\n",
    "    )\n",
    "    display(cnt)\n",
    "    ax = plt.gca()\n",
    "    ax.legend().set_visible(False)\n"
   ]
  },
  {
   "cell_type": "markdown",
   "metadata": {},
   "source": [
    "### Toplevel"
   ]
  },
  {
   "cell_type": "code",
   "execution_count": null,
   "metadata": {},
   "outputs": [],
   "source": [
    "counter = Counter()\n",
    "modules[\"toplevel_any_load_ext\"].agg(lambda x: counter.update(x))\n",
    "del counter['']\n",
    "counts = pd.Series(counter).sort_values(ascending=False)\n",
    "with savefig(\"notebook_module_load_ext_toplevel\", 8, 6):\n",
    "    fig, cnt = display_counts(\n",
    "        counts, width=20, show_values=True, plot=False,\n",
    "        cut=slice(None, 10), logy=False\n",
    "    )\n",
    "    display(cnt)\n",
    "    ax = plt.gca()\n",
    "    ax.set_xticklabels(ax.get_xticklabels(), rotation=50, ha=\"right\")\n",
    "    ax.legend().set_visible(False)\n"
   ]
  },
  {
   "cell_type": "markdown",
   "metadata": {},
   "source": [
    "# Test-related modules"
   ]
  },
  {
   "cell_type": "code",
   "execution_count": null,
   "metadata": {},
   "outputs": [],
   "source": [
    "counter = Counter()\n",
    "modules[\"any_any\"].agg(lambda x: counter.update({\n",
    "    y for y in x\n",
    "    if \"test\" in y\n",
    "    or \"TEST\" in y\n",
    "    or \"Test\" in y\n",
    "}))\n",
    "del counter['']\n",
    "counts = pd.Series(counter).sort_values(ascending=False)\n",
    "with savefig(\"notebook_tests\", 8, 4):\n",
    "    fig, cnt = display_counts(\n",
    "        counts, width=20, show_values=True, plot=False,\n",
    "        cut=slice(None, 15), logy=False\n",
    "    )\n",
    "    display(cnt)\n",
    "    ax = plt.gca()\n",
    "    ax.set_xticklabels(ax.get_xticklabels(), rotation=50, ha=\"right\")\n",
    "    ax.legend().set_visible(False)\n",
    "\n"
   ]
  },
  {
   "cell_type": "code",
   "execution_count": null,
   "metadata": {},
   "outputs": [],
   "source": [
    "relative_var(\n",
    "    \"notebooks_with_test\",\n",
    "    len(modules[modules[\"any_any\"].apply(lambda x: any((\n",
    "        \"test\" in y\n",
    "        or \"TEST\" in y\n",
    "        or \"Test\" in y\n",
    "    ) for y in x))]),\n",
    "    total_valid_python_notebooks\n",
    ")"
   ]
  },
  {
   "cell_type": "code",
   "execution_count": null,
   "metadata": {},
   "outputs": [],
   "source": [
    "relative_var(\n",
    "    \"notebooks_with_unittest\", \n",
    "    len(modules[modules[\"any_any\"].apply(lambda x: \"unittest\" in x)]),\n",
    "    total_valid_python_notebooks\n",
    ")"
   ]
  }
 ],
 "metadata": {
  "kernelspec": {
   "display_name": "Python 3",
   "language": "python",
   "name": "python3"
  },
  "language_info": {
   "codemirror_mode": {
    "name": "ipython",
    "version": 3
   },
   "file_extension": ".py",
   "mimetype": "text/x-python",
   "name": "python",
   "nbconvert_exporter": "python",
   "pygments_lexer": "ipython3",
   "version": "3.6.8"
  },
  "notify_time": "5",
  "toc": {
   "base_numbering": 1,
   "nav_menu": {
    "height": "234px",
    "width": "251px"
   },
   "number_sections": true,
   "sideBar": false,
   "skip_h1_title": false,
   "title_cell": "Table of Contents",
   "title_sidebar": "Contents",
   "toc_cell": true,
   "toc_position": {
    "height": "690px",
    "left": "24px",
    "right": "1209px",
    "top": "113px",
    "width": "201px"
   },
   "toc_section_display": true,
   "toc_window_display": true
  }
 },
 "nbformat": 4,
 "nbformat_minor": 2
}
