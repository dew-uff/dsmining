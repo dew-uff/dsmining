{
 "cells": [
  {
   "cell_type": "code",
   "execution_count": 1,
   "outputs": [
    {
     "name": "stdout",
     "output_type": "stream",
     "text": [
      "/home/luam/Documentos/UFF/TCC/Repositórios/dsmining/dsmining/data\n"
     ]
    }
   ],
   "source": [
    "import pandas as pd\n",
    "\n",
    "from config import JUPYTER_REPOS_FILE\n",
    "from db.database import connect, Repository\n",
    "from utils import mount_basedir\n",
    "from src.extraction.e0_load_repository import load_repository"
   ],
   "metadata": {
    "collapsed": false
   }
  },
  {
   "cell_type": "code",
   "execution_count": 2,
   "outputs": [
    {
     "name": "stdout",
     "output_type": "stream",
     "text": [
      "Total repositories:  10\n"
     ]
    }
   ],
   "source": [
    "df = pd.read_excel(JUPYTER_REPOS_FILE, keep_default_na=False)\n",
    "print('Total repositories: ',len(df))"
   ],
   "metadata": {
    "collapsed": false
   }
  },
  {
   "cell_type": "code",
   "execution_count": 3,
   "outputs": [
    {
     "name": "stdout",
     "output_type": "stream",
     "text": [
      "Processing repository: jakevdp/PythonDataScienceHandbook\n",
      "> Repository exists: ID=1\n",
      "Processing repository: virgili0/Virgilio\n",
      "> Repository exists: ID=2\n",
      "Processing repository: microsoft/Data-Science-For-Beginners\n",
      "> Repository exists: ID=3\n",
      "Processing repository: firmai/industry-machine-learning\n",
      "> Repository exists: ID=4\n",
      "Processing repository: fengdu78/Data-Science-Notes\n",
      "> Repository exists: ID=5\n",
      "Processing repository: WillKoehrsen/Data-Analysis\n",
      "> Repository exists: ID=6\n",
      "Processing repository: microsoft/tensorwatch\n",
      "> Repository exists: ID=7\n",
      "Processing repository: nborwankar/LearnDataScience\n",
      "> Repository exists: ID=8\n",
      "Processing repository: ml-tooling/ml-workspace\n",
      "> Repository exists: ID=9\n",
      "Processing repository: ShuaiW/data-science-question-answer\n",
      "> Repository exists: ID=10\n"
     ]
    }
   ],
   "source": [
    "with connect() as session, mount_basedir():\n",
    "    for repository in df.itertuples():\n",
    "        full_name = f'{repository.owner}/{repository.name}'\n",
    "        load_repository(session, \"github.com\", full_name)\n",
    "        session.commit()"
   ],
   "metadata": {
    "collapsed": false
   }
  },
  {
   "cell_type": "code",
   "execution_count": 4,
   "outputs": [
    {
     "name": "stdout",
     "output_type": "stream",
     "text": [
      "Total of downloaded repositories: 10\n"
     ]
    }
   ],
   "source": [
    "with connect() as session, mount_basedir():\n",
    "    repositories = session.query(Repository).all()\n",
    "    print(f\"Total of downloaded repositories: {len(repositories)}\")"
   ],
   "metadata": {
    "collapsed": false
   }
  },
  {
   "cell_type": "code",
   "execution_count": 4,
   "outputs": [],
   "source": [],
   "metadata": {
    "collapsed": false
   }
  }
 ],
 "metadata": {
  "kernelspec": {
   "display_name": "Python 3",
   "language": "python",
   "name": "python3"
  },
  "language_info": {
   "codemirror_mode": {
    "name": "ipython",
    "version": 2
   },
   "file_extension": ".py",
   "mimetype": "text/x-python",
   "name": "python",
   "nbconvert_exporter": "python",
   "pygments_lexer": "ipython2",
   "version": "2.7.6"
  }
 },
 "nbformat": 4,
 "nbformat_minor": 0
}
