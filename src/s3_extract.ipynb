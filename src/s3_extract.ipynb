{
 "cells": [
  {
   "cell_type": "code",
   "execution_count": 1,
   "outputs": [],
   "source": [
    "import pandas as pd\n",
    "\n",
    "from config import JUPYTER_REPOS_FILE\n",
    "from database import connect, Repository\n",
    "from h1_utils import mount_basedir\n",
    "from h2_load_repository import load_repository"
   ],
   "metadata": {
    "collapsed": false
   }
  },
  {
   "cell_type": "code",
   "execution_count": 2,
   "outputs": [
    {
     "name": "stdout",
     "output_type": "stream",
     "text": [
      "Total repositories:  10\n"
     ]
    }
   ],
   "source": [
    "df = pd.read_excel(JUPYTER_REPOS_FILE, keep_default_na=False)\n",
    "print('Total repositories: ',len(df))"
   ],
   "metadata": {
    "collapsed": false
   }
  },
  {
   "cell_type": "code",
   "execution_count": 3,
   "outputs": [
    {
     "name": "stdout",
     "output_type": "stream",
     "text": [
      "Processing repository: jakevdp/PythonDataScienceHandbook\n",
      "> Remote: https://github.com/jakevdp/PythonDataScienceHandbook.git\n"
     ]
    },
    {
     "name": "stderr",
     "output_type": "stream",
     "text": [
      "Cloning into '/home/luam/Documentos/UFF/TCC/Repositórios/dsmining/dsmining/src/data/repos/jupyter/content/8e/3cb7dbc856becaff503a49f636d04d28043c2a'...\n"
     ]
    },
    {
     "name": "stdout",
     "output_type": "stream",
     "text": [
      "> Finding files\n",
      "> Done. ID=1\n",
      "Processing repository: virgili0/Virgilio\n",
      "> Remote: https://github.com/virgili0/Virgilio.git\n"
     ]
    },
    {
     "name": "stderr",
     "output_type": "stream",
     "text": [
      "Cloning into '/home/luam/Documentos/UFF/TCC/Repositórios/dsmining/dsmining/src/data/repos/jupyter/content/e3/4169ad1c3e0995d6d5fa8b236e0741543b4354'...\n"
     ]
    },
    {
     "name": "stdout",
     "output_type": "stream",
     "text": [
      "> Finding files\n",
      "> Done. ID=2\n",
      "Processing repository: microsoft/Data-Science-For-Beginners\n",
      "> Remote: https://github.com/microsoft/Data-Science-For-Beginners.git\n"
     ]
    },
    {
     "name": "stderr",
     "output_type": "stream",
     "text": [
      "Cloning into '/home/luam/Documentos/UFF/TCC/Repositórios/dsmining/dsmining/src/data/repos/jupyter/content/ba/5742ac0940570e114b391220ab81685452720d'...\n"
     ]
    },
    {
     "name": "stdout",
     "output_type": "stream",
     "text": [
      "> Finding files\n",
      "> Done. ID=3\n",
      "Processing repository: firmai/industry-machine-learning\n",
      "> Remote: https://github.com/firmai/industry-machine-learning.git\n"
     ]
    },
    {
     "name": "stderr",
     "output_type": "stream",
     "text": [
      "Cloning into '/home/luam/Documentos/UFF/TCC/Repositórios/dsmining/dsmining/src/data/repos/jupyter/content/2d/eb0879b47c5a6153876f851f5bf0c01181adb3'...\n"
     ]
    },
    {
     "name": "stdout",
     "output_type": "stream",
     "text": [
      "> Finding files\n",
      "> Done. ID=4\n",
      "Processing repository: fengdu78/Data-Science-Notes\n",
      "> Remote: https://github.com/fengdu78/Data-Science-Notes.git\n"
     ]
    },
    {
     "name": "stderr",
     "output_type": "stream",
     "text": [
      "Cloning into '/home/luam/Documentos/UFF/TCC/Repositórios/dsmining/dsmining/src/data/repos/jupyter/content/ca/ad0d794a6fe5dadb557a5821a36a0f513c0ef1'...\n"
     ]
    },
    {
     "name": "stdout",
     "output_type": "stream",
     "text": [
      "> Finding files\n",
      "> Done. ID=5\n",
      "Processing repository: WillKoehrsen/Data-Analysis\n",
      "> Remote: https://github.com/WillKoehrsen/Data-Analysis.git\n"
     ]
    },
    {
     "name": "stderr",
     "output_type": "stream",
     "text": [
      "Cloning into '/home/luam/Documentos/UFF/TCC/Repositórios/dsmining/dsmining/src/data/repos/jupyter/content/de/4884a3eb2624fb9eadd6b897632057bea15807'...\n",
      "Checking out files: 100% (910/910), done.\n",
      "Cloning into '/home/luam/Documentos/UFF/TCC/Repositórios/dsmining/dsmining/src/data/repos/jupyter/content/ac/7a244a68bfd928ed412e9e0cda5b6333f65b40'...\n"
     ]
    },
    {
     "name": "stdout",
     "output_type": "stream",
     "text": [
      "> Finding files\n",
      "> Done. ID=6\n",
      "Processing repository: microsoft/tensorwatch\n",
      "> Remote: https://github.com/microsoft/tensorwatch.git\n",
      "> Finding files\n",
      "> Done. ID=7\n",
      "Processing repository: nborwankar/LearnDataScience\n",
      "> Remote: https://github.com/nborwankar/LearnDataScience.git\n"
     ]
    },
    {
     "name": "stderr",
     "output_type": "stream",
     "text": [
      "Cloning into '/home/luam/Documentos/UFF/TCC/Repositórios/dsmining/dsmining/src/data/repos/jupyter/content/91/f3424a0a693834b9685780a091bedbaea46fcb'...\n",
      "Checking out files: 100% (170/170), done.\n"
     ]
    },
    {
     "name": "stdout",
     "output_type": "stream",
     "text": [
      "> Finding files\n",
      "> Done. ID=8\n",
      "Processing repository: ml-tooling/ml-workspace\n",
      "> Remote: https://github.com/ml-tooling/ml-workspace.git\n"
     ]
    },
    {
     "name": "stderr",
     "output_type": "stream",
     "text": [
      "Cloning into '/home/luam/Documentos/UFF/TCC/Repositórios/dsmining/dsmining/src/data/repos/jupyter/content/36/bb976fa677887f60b6791b5ffd07e3ad3b3922'...\n"
     ]
    },
    {
     "name": "stdout",
     "output_type": "stream",
     "text": [
      "> Finding files\n",
      "> Done. ID=9\n",
      "Processing repository: ShuaiW/data-science-question-answer\n",
      "> Remote: https://github.com/ShuaiW/data-science-question-answer.git\n"
     ]
    },
    {
     "name": "stderr",
     "output_type": "stream",
     "text": [
      "Cloning into '/home/luam/Documentos/UFF/TCC/Repositórios/dsmining/dsmining/src/data/repos/jupyter/content/53/6d87d3acb1950e817c5c8cd5069aa916faaf0b'...\n"
     ]
    },
    {
     "name": "stdout",
     "output_type": "stream",
     "text": [
      "> Finding files\n",
      "> Done. ID=10\n"
     ]
    }
   ],
   "source": [
    "with connect() as session, mount_basedir():\n",
    "    for repository in df.itertuples():\n",
    "        full_name = f'{repository.owner}/{repository.name}'\n",
    "        load_repository(session, \"github.com\", full_name)\n",
    "        session.commit()"
   ],
   "metadata": {
    "collapsed": false
   }
  },
  {
   "cell_type": "code",
   "execution_count": 8,
   "outputs": [
    {
     "name": "stdout",
     "output_type": "stream",
     "text": [
      "Total of downloaded repositories: 10\n"
     ]
    }
   ],
   "source": [
    "with connect() as session, mount_basedir():\n",
    "    repositories = session.query(Repository).all()\n",
    "    print(f\"Total of downloaded repositories: {len(repositories)}\")"
   ],
   "metadata": {
    "collapsed": false
   }
  },
  {
   "cell_type": "code",
   "execution_count": null,
   "outputs": [],
   "source": [],
   "metadata": {
    "collapsed": false
   }
  }
 ],
 "metadata": {
  "kernelspec": {
   "display_name": "Python 3",
   "language": "python",
   "name": "python3"
  },
  "language_info": {
   "codemirror_mode": {
    "name": "ipython",
    "version": 2
   },
   "file_extension": ".py",
   "mimetype": "text/x-python",
   "name": "python",
   "nbconvert_exporter": "python",
   "pygments_lexer": "ipython2",
   "version": "2.7.6"
  }
 },
 "nbformat": 4,
 "nbformat_minor": 0
}
