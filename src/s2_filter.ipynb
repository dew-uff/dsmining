{
 "cells": [
  {
   "cell_type": "code",
   "execution_count": 11,
   "outputs": [],
   "source": [
    "import sys\n",
    "import os\n",
    "src = os.path.dirname(os.path.abspath(''))\n",
    "if src not in sys.path: sys.path.append(src)"
   ],
   "metadata": {
    "collapsed": false
   }
  },
  {
   "cell_type": "code",
   "execution_count": 12,
   "outputs": [],
   "source": [
    "from datetime import timedelta\n",
    "import pandas as pd\n",
    "\n",
    "from config import GITHUB\n",
    "from src.db.database import connect, Repository\n",
    "from src.states import REP_FILTERED"
   ],
   "metadata": {
    "collapsed": false
   }
  },
  {
   "cell_type": "markdown",
   "source": [
    "## Filtering Repositories Collected from Github according to Corpus Criteria"
   ],
   "metadata": {
    "collapsed": false
   }
  },
  {
   "cell_type": "code",
   "execution_count": 13,
   "outputs": [
    {
     "name": "stdout",
     "output_type": "stream",
     "text": [
      "  Repositories queried from GitHub   :  330351\n"
     ]
    }
   ],
   "source": [
    "with connect() as session:\n",
    "    queries = pd.read_sql_table(\"queries\", session.connection())\n",
    "    total = len(queries)\n",
    "print(\"  Repositories queried from GitHub   : \", total)"
   ],
   "metadata": {
    "collapsed": false
   }
  },
  {
   "cell_type": "markdown",
   "source": [
    "## Filtering out repositories with no Contributors, no Commits and no Languages"
   ],
   "metadata": {
    "collapsed": false
   }
  },
  {
   "cell_type": "code",
   "execution_count": 14,
   "outputs": [
    {
     "name": "stdout",
     "output_type": "stream",
     "text": [
      "- Repositories with no contributors :  173\n",
      "---------------------------------------------\n",
      "  Remaining filtered repositories   :  330178\n"
     ]
    }
   ],
   "source": [
    "filtered = queries[(queries.contributors > 0)]\n",
    "no_commits = len(queries) - len(filtered)\n",
    "print('- Repositories with no contributors : ', no_commits )\n",
    "print(\"---------------------------------------------\")\n",
    "queries2 = filtered\n",
    "print(\"  Remaining filtered repositories   : \", len(queries2))"
   ],
   "metadata": {
    "collapsed": false
   }
  },
  {
   "cell_type": "code",
   "execution_count": 15,
   "outputs": [
    {
     "name": "stdout",
     "output_type": "stream",
     "text": [
      "- Repositories with no commits     :  18596\n",
      "---------------------------------------------\n",
      "  Remaining filtered repositories  :  311582\n"
     ]
    }
   ],
   "source": [
    "filtered = queries2[(queries2.commits > 0)]\n",
    "no_commits = len(queries2) - len(filtered)\n",
    "print('- Repositories with no commits     : ', no_commits )\n",
    "print(\"---------------------------------------------\")\n",
    "queries3 = filtered\n",
    "print(\"  Remaining filtered repositories  : \", len(queries3))"
   ],
   "metadata": {
    "collapsed": false
   }
  },
  {
   "cell_type": "code",
   "execution_count": 16,
   "outputs": [
    {
     "name": "stdout",
     "output_type": "stream",
     "text": [
      "- Repositories with no languages   :  101884\n",
      "---------------------------------------------\n",
      "  Remaining filtered repositories  :  209698\n"
     ]
    }
   ],
   "source": [
    "filtered = queries3[(queries3.languages > 0) & (queries3.primary_language.notnull())]\n",
    "no_languages = len(queries3) - len(filtered)\n",
    "print('- Repositories with no languages   : ', no_languages)\n",
    "print(\"---------------------------------------------\")\n",
    "queries4 = filtered\n",
    "print(\"  Remaining filtered repositories  : \", len(queries4))"
   ],
   "metadata": {
    "collapsed": false
   }
  },
  {
   "cell_type": "markdown",
   "source": [
    "##  Filtering out repositories whose name contain the words \"course\", \"curso\" or \"cours\""
   ],
   "metadata": {
    "collapsed": false
   }
  },
  {
   "cell_type": "code",
   "execution_count": 17,
   "outputs": [],
   "source": [
    "queries4 = queries4.copy()\n",
    "\n",
    "queries4[['user', 'name']] = queries4['repo'].str.split('/', expand=True)\n",
    "rep_filtered = len(queries4)\n",
    "\n",
    "filtered = queries4[~queries4['name'].str.contains('course')]\n",
    "no_course = len(queries4) - len(filtered)\n",
    "queries5 = filtered\n",
    "\n",
    "filtered = queries5[~queries5['name'].str.contains('curso')]\n",
    "no_curso = len(queries5) - len(filtered)\n",
    "queries6 = filtered\n",
    "\n",
    "filtered = queries6[~queries6['name'].str.contains('cours')]\n",
    "no_cours = len(queries6) - len(filtered)\n",
    "queries7 = filtered"
   ],
   "metadata": {
    "collapsed": false
   }
  },
  {
   "cell_type": "code",
   "execution_count": 18,
   "outputs": [
    {
     "name": "stdout",
     "output_type": "stream",
     "text": [
      "            Filtered repositories  :  209698\n",
      "- with course/courses in repo name :  6132    (English)\n",
      "- with cursos/cursos in repo name  :  160     (Spanish/Portuguese)\n",
      "- with cours in repo name          :  3       (French)\n",
      "---------------------------------------------\n",
      "  Remaining filtered repositories  :  203403\n"
     ]
    }
   ],
   "source": [
    "print(\"            Filtered repositories  : \", rep_filtered)\n",
    "print(\"- with course/courses in repo name : \", no_course, \"   (English)\")\n",
    "print(\"- with cursos/cursos in repo name  : \", no_curso, \"    (Spanish/Portuguese)\")\n",
    "print(\"- with cours in repo name          : \", no_cours, \"      (French)\")\n",
    "print(\"---------------------------------------------\")\n",
    "print(\"  Remaining filtered repositories  : \", len(queries7))"
   ],
   "metadata": {
    "collapsed": false
   }
  },
  {
   "cell_type": "markdown",
   "source": [
    "## Filtering out repositories that don't have at least one day between commits"
   ],
   "metadata": {
    "collapsed": false
   }
  },
  {
   "cell_type": "code",
   "execution_count": 19,
   "outputs": [
    {
     "name": "stdout",
     "output_type": "stream",
     "text": [
      "- Repositories with no languages   :  203403\n",
      "---------------------------------------------\n",
      "  Remaining filtered repositories  :  0\n"
     ]
    }
   ],
   "source": [
    "filtered = queries7[(queries7.git_pushed_at-queries7.created_at) > timedelta(days=1)]\n",
    "less_1_day = len(queries7) - len(filtered)\n",
    "print('- Repositories with no languages   : ', less_1_day)\n",
    "print(\"---------------------------------------------\")\n",
    "queries8 = filtered\n",
    "print(\"  Remaining filtered repositories  : \", len(queries8))"
   ],
   "metadata": {
    "collapsed": false
   }
  },
  {
   "cell_type": "markdown",
   "source": [
    "## Selecting Repositories by Language for futher extraction and analysis"
   ],
   "metadata": {
    "collapsed": false
   }
  },
  {
   "cell_type": "markdown",
   "source": [
    "### Jupyter Notebooks and Python"
   ],
   "metadata": {
    "collapsed": false
   }
  },
  {
   "cell_type": "code",
   "execution_count": 20,
   "outputs": [
    {
     "name": "stdout",
     "output_type": "stream",
     "text": [
      "Total repositories with 'Jupyter Notebook' or 'Python' as Primary Language: 166066\n",
      "Disk Usage for the 166066 repositories is estimated to be:\n",
      "2297646864 KB - 2297646.86 MB - 2297.65 GB - 2.30 TB\n"
     ]
    }
   ],
   "source": [
    "filtered_repos = queries7.query(\"primary_language == 'Jupyter Notebook' | primary_language== 'Python'\").copy()\n",
    "print(\"Total repositories with 'Jupyter Notebook' \"\n",
    "      \"or 'Python' as Primary Language: {}\"\n",
    "      .format(len(filtered_repos)))\n",
    "\n",
    "filtered_repos[\"disk_usage\"] = filtered_repos[\"disk_usage\"].astype(int)\n",
    "print(\n",
    "    \"Disk Usage for the {} repositories is estimated to be:\\n\"\n",
    "    \"{} KB - {:.2f} MB - {:.2f} GB - {:.2f} TB\"\n",
    "    .format(\n",
    "          len(filtered_repos),\n",
    "          filtered_repos.disk_usage.sum(),\n",
    "          filtered_repos.disk_usage.sum() / 10**3,\n",
    "          filtered_repos.disk_usage.sum() / 10**6,\n",
    "          filtered_repos.disk_usage.sum() / 10**9\n",
    "    )\n",
    ")"
   ],
   "metadata": {
    "collapsed": false
   }
  },
  {
   "cell_type": "markdown",
   "source": [
    "## Saving filtered repositories"
   ],
   "metadata": {
    "collapsed": false
   }
  },
  {
   "cell_type": "code",
   "execution_count": 21,
   "outputs": [
    {
     "name": "stdout",
     "output_type": "stream",
     "text": [
      "Filtered 10 repository into table Repositories\n"
     ]
    }
   ],
   "source": [
    "with connect() as session:\n",
    "    count = 0\n",
    "    for repo in filtered_repos[:10].itertuples(index=False):\n",
    "        repository = session.query(Repository).filter(\n",
    "            Repository.domain == GITHUB,\n",
    "            Repository.repository == repo.repo,\n",
    "        ).first()\n",
    "        if repository is not None:\n",
    "            print(\">> Repository already exists: ID={}\".format(repository.id))\n",
    "        else:\n",
    "            count = count+1\n",
    "            repo_row = Repository(\n",
    "                state=REP_FILTERED, domain=GITHUB,\n",
    "                repository=repo.repo, primary_language=repo.primary_language,\n",
    "                disk_usage=repo.disk_usage, is_mirror=repo.is_mirror,\n",
    "                git_created_at=repo.git_created_at, git_pushed_at=repo.git_pushed_at,\n",
    "                languages=repo.languages, contributors=repo.contributors, commits=repo.commits,\n",
    "                pull_requests=repo.pull_requests, branches=repo.branches, watchers=repo.watchers,\n",
    "                issues=repo.issues, stargazers=repo.stargazers, forks=repo.forks,\n",
    "                description=repo.description, tags=repo.tags, releases=repo.releases\n",
    "            )\n",
    "\n",
    "            session.add(repo_row)\n",
    "    session.commit()\n",
    "\n",
    "    print(\"Filtered {} repository into table Repositories\".format(count))"
   ],
   "metadata": {
    "collapsed": false
   }
  },
  {
   "cell_type": "code",
   "execution_count": 21,
   "outputs": [],
   "source": [],
   "metadata": {
    "collapsed": false
   }
  }
 ],
 "metadata": {
  "kernelspec": {
   "display_name": "Python 3",
   "language": "python",
   "name": "python3"
  },
  "language_info": {
   "codemirror_mode": {
    "name": "ipython",
    "version": 3
   },
   "file_extension": ".py",
   "mimetype": "text/x-python",
   "name": "python",
   "nbconvert_exporter": "python",
   "pygments_lexer": "ipython3",
   "version": "3.7.6"
  },
  "pycharm": {
   "stem_cell": {
    "cell_type": "raw",
    "metadata": {
     "collapsed": false
    },
    "source": []
   }
  }
 },
 "nbformat": 4,
 "nbformat_minor": 2
}
