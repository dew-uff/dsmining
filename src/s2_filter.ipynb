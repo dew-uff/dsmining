{
 "cells": [
  {
   "cell_type": "code",
   "execution_count": null,
   "metadata": {
    "pycharm": {
     "is_executing": true
    }
   },
   "outputs": [],
   "source": [
    "import pandas as pd\n",
    "from config import REPOSITORIES_FILE, FILTERED_FILE, JUPYTER_FILE"
   ]
  },
  {
   "cell_type": "code",
   "execution_count": null,
   "metadata": {
    "pycharm": {
     "is_executing": true
    }
   },
   "outputs": [],
   "source": [
    "df = pd.read_excel(REPOSITORIES_FILE, keep_default_na=False)\n",
    "print('Total repositories: ',len(df))"
   ]
  },
  {
   "cell_type": "markdown",
   "source": [
    "### Removing repositories with no languages"
   ],
   "metadata": {
    "collapsed": false
   }
  },
  {
   "cell_type": "code",
   "execution_count": null,
   "metadata": {
    "pycharm": {
     "is_executing": true
    }
   },
   "outputs": [],
   "source": [
    "nolanguages = df[df.languages==0]\n",
    "df.drop(df[df['languages'] == 0].index, inplace = True)\n",
    "print('Total repositories after filtering repositories with \"no languages\":',len(df))"
   ]
  },
  {
   "cell_type": "markdown",
   "source": [
    "### Removing repositories whose names contain the words \"courses\", \"cours\", \"curso\" or \"cursos\""
   ],
   "metadata": {
    "collapsed": false
   }
  },
  {
   "cell_type": "code",
   "execution_count": null,
   "outputs": [],
   "source": [
    "courses = df.loc[df.name.str.contains('course',case=False)]\n",
    "df.drop(df.loc[df.name.str.contains('course',case=False)].index, inplace=True )\n",
    "print('Total repositories after filtering \"courses\":', len(df))"
   ],
   "metadata": {
    "collapsed": false,
    "pycharm": {
     "is_executing": true
    }
   }
  },
  {
   "cell_type": "code",
   "execution_count": null,
   "metadata": {
    "pycharm": {
     "is_executing": true
    }
   },
   "outputs": [],
   "source": [
    "cours = df.loc[df.name.str.contains('cours',case=False)]\n",
    "df.drop(df.loc[df.name.str.contains('cours',case=False)].index, inplace=True )\n",
    "print('Total repositories after filtering \"cours\":', len(df))"
   ]
  },
  {
   "cell_type": "code",
   "execution_count": null,
   "metadata": {
    "pycharm": {
     "is_executing": true
    }
   },
   "outputs": [],
   "source": [
    "curso = df.loc[df.name.str.contains('curso',case=False)]\n",
    "df.drop(df.loc[df.name.str.contains('curso',case=False)].index, inplace=True )\n",
    "print('Total repositories after filtering \"curso\":', len(df))"
   ]
  },
  {
   "cell_type": "code",
   "execution_count": null,
   "metadata": {
    "pycharm": {
     "is_executing": true
    }
   },
   "outputs": [],
   "source": [
    "cursos = df.loc[df.name.str.contains('cursos',case=False)]\n",
    "df.drop(df.loc[df.name.str.contains('cursos',case=False)].index, inplace=True )\n",
    "print('Total repositories after filtering \"cursos\":', len(df))"
   ]
  },
  {
   "cell_type": "markdown",
   "source": [
    "### Removing repositories with no commits or no contributors"
   ],
   "metadata": {
    "collapsed": false
   }
  },
  {
   "cell_type": "code",
   "execution_count": null,
   "metadata": {
    "pycharm": {
     "is_executing": true
    }
   },
   "outputs": [],
   "source": [
    "emptycommits = df.loc[df['commits'] == '']\n",
    "df.drop(df[df['commits'] == ''].index, inplace = True)\n",
    "print('Total repositories after filtering repositories with no commits:',len(df))"
   ]
  },
  {
   "cell_type": "code",
   "execution_count": null,
   "metadata": {
    "pycharm": {
     "is_executing": true
    }
   },
   "outputs": [],
   "source": [
    "nocontributors = df[df.contributors == 0]\n",
    "df.drop(df[df['contributors'] == 0].index, inplace = True)\n",
    "print('Total repositories after filtering repositories with no contributors:',len(df))"
   ]
  },
  {
   "cell_type": "markdown",
   "source": [
    "### Removing repositories where Primary Language is not in the Top 10 delimited by the Corpus"
   ],
   "metadata": {
    "collapsed": false
   }
  },
  {
   "cell_type": "code",
   "execution_count": null,
   "metadata": {
    "pycharm": {
     "is_executing": true
    }
   },
   "outputs": [],
   "source": [
    "### This seems wrong, fix later\n",
    "\n",
    "#filters repositories by language, keeping just the ones that use the top 10 languages in the corpus\n",
    "df2 = df.groupby('primaryLanguage').filter(lambda x: len(x) >= 18)\n",
    "len(df2)"
   ]
  },
  {
   "cell_type": "markdown",
   "source": [
    "### Saving the remaining repositories to Filtered Repostiores"
   ],
   "metadata": {
    "collapsed": false
   }
  },
  {
   "cell_type": "code",
   "execution_count": null,
   "outputs": [],
   "source": [
    "#saves filtered projetcts to Excel\n",
    "#removes timezone from dates, since Excel does not know how to handle that\n",
    "df.createdAt = pd.to_datetime(df.createdAt).dt.tz_localize(None)\n",
    "df.pushedAt = pd.to_datetime(df.pushedAt).dt.tz_localize(None)\n",
    "df.to_excel(FILTERED_FILE, index=False)"
   ],
   "metadata": {
    "collapsed": false,
    "pycharm": {
     "is_executing": true
    }
   }
  },
  {
   "cell_type": "code",
   "execution_count": null,
   "outputs": [],
   "source": [
    "print(f\"Total Disk Usage: {df['diskUsage'].sum()}\")"
   ],
   "metadata": {
    "collapsed": false,
    "pycharm": {
     "is_executing": true
    }
   }
  },
  {
   "cell_type": "code",
   "execution_count": null,
   "outputs": [],
   "source": [
    "df2 = df.query(\"primaryLanguage== 'Jupyter Notebook'\")\n",
    "df2[:10].to_excel(JUPYTER_FILE, index=False)"
   ],
   "metadata": {
    "collapsed": false,
    "pycharm": {
     "is_executing": true
    }
   }
  }
 ],
 "metadata": {
  "kernelspec": {
   "display_name": "Python 3",
   "language": "python",
   "name": "python3"
  },
  "language_info": {
   "codemirror_mode": {
    "name": "ipython",
    "version": 3
   },
   "file_extension": ".py",
   "mimetype": "text/x-python",
   "name": "python",
   "nbconvert_exporter": "python",
   "pygments_lexer": "ipython3",
   "version": "3.7.6"
  },
  "pycharm": {
   "stem_cell": {
    "cell_type": "raw",
    "metadata": {
     "collapsed": false
    },
    "source": []
   }
  }
 },
 "nbformat": 4,
 "nbformat_minor": 2
}
