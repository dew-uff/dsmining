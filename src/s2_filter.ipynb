{
 "cells": [
  {
   "cell_type": "code",
   "execution_count": 1,
   "metadata": {},
   "outputs": [],
   "source": [
    "import pandas as pd\n",
    "from config import REPOSITORIES_FILE, FILTERED_FILE, JUPYTER_REPOS_FILE, PYTHON_REPOS_FILE"
   ]
  },
  {
   "cell_type": "markdown",
   "source": [
    "## Filtering Repositories Collected from Github according to Corpus Criteria"
   ],
   "metadata": {
    "collapsed": false
   }
  },
  {
   "cell_type": "code",
   "execution_count": 2,
   "metadata": {},
   "outputs": [
    {
     "name": "stdout",
     "output_type": "stream",
     "text": [
      "Total repositories:  130159\n"
     ]
    }
   ],
   "source": [
    "df = pd.read_excel(REPOSITORIES_FILE, keep_default_na=False)\n",
    "print('Total repositories: ',len(df))"
   ]
  },
  {
   "cell_type": "markdown",
   "source": [
    "### Removing repositories with no languages"
   ],
   "metadata": {
    "collapsed": false
   }
  },
  {
   "cell_type": "code",
   "execution_count": 3,
   "metadata": {},
   "outputs": [
    {
     "name": "stdout",
     "output_type": "stream",
     "text": [
      "Total repositories after filtering repositories with \"no languages\": 130159\n"
     ]
    }
   ],
   "source": [
    "nolanguages = df[df.languages==0]\n",
    "df.drop(df[df['languages'] == 0].index, inplace = True)\n",
    "print('Total repositories after filtering repositories with \"no languages\":',len(df))"
   ]
  },
  {
   "cell_type": "markdown",
   "source": [
    "### Removing repositories whose names contain the words \"courses\", \"cours\", \"curso\" or \"cursos\""
   ],
   "metadata": {
    "collapsed": false
   }
  },
  {
   "cell_type": "code",
   "execution_count": 4,
   "outputs": [
    {
     "name": "stdout",
     "output_type": "stream",
     "text": [
      "Total repositories after filtering \"courses\": 130159\n"
     ]
    }
   ],
   "source": [
    "courses = df.loc[df.name.str.contains('course',case=False)]\n",
    "df.drop(df.loc[df.name.str.contains('course',case=False)].index, inplace=True )\n",
    "print('Total repositories after filtering \"courses\":', len(df))"
   ],
   "metadata": {
    "collapsed": false
   }
  },
  {
   "cell_type": "code",
   "execution_count": 5,
   "metadata": {},
   "outputs": [
    {
     "name": "stdout",
     "output_type": "stream",
     "text": [
      "Total repositories after filtering \"cours\": 130159\n"
     ]
    }
   ],
   "source": [
    "cours = df.loc[df.name.str.contains('cours',case=False)]\n",
    "df.drop(df.loc[df.name.str.contains('cours',case=False)].index, inplace=True )\n",
    "print('Total repositories after filtering \"cours\":', len(df))"
   ]
  },
  {
   "cell_type": "code",
   "execution_count": 6,
   "metadata": {},
   "outputs": [
    {
     "name": "stdout",
     "output_type": "stream",
     "text": [
      "Total repositories after filtering \"curso\": 130159\n"
     ]
    }
   ],
   "source": [
    "curso = df.loc[df.name.str.contains('curso',case=False)]\n",
    "df.drop(df.loc[df.name.str.contains('curso',case=False)].index, inplace=True )\n",
    "print('Total repositories after filtering \"curso\":', len(df))"
   ]
  },
  {
   "cell_type": "code",
   "execution_count": 7,
   "metadata": {},
   "outputs": [
    {
     "name": "stdout",
     "output_type": "stream",
     "text": [
      "Total repositories after filtering \"cursos\": 130159\n"
     ]
    }
   ],
   "source": [
    "cursos = df.loc[df.name.str.contains('cursos',case=False)]\n",
    "df.drop(df.loc[df.name.str.contains('cursos',case=False)].index, inplace=True )\n",
    "print('Total repositories after filtering \"cursos\":', len(df))"
   ]
  },
  {
   "cell_type": "markdown",
   "source": [
    "### Removing repositories with no commits or no contributors"
   ],
   "metadata": {
    "collapsed": false
   }
  },
  {
   "cell_type": "code",
   "execution_count": 8,
   "metadata": {},
   "outputs": [
    {
     "name": "stdout",
     "output_type": "stream",
     "text": [
      "Total repositories after filtering repositories with no commits: 130159\n"
     ]
    }
   ],
   "source": [
    "emptycommits = df.loc[df['commits'] == '']\n",
    "df.drop(df[df['commits'] == ''].index, inplace = True)\n",
    "print('Total repositories after filtering repositories with no commits:',len(df))"
   ]
  },
  {
   "cell_type": "code",
   "execution_count": 9,
   "metadata": {},
   "outputs": [
    {
     "name": "stdout",
     "output_type": "stream",
     "text": [
      "Total repositories after filtering repositories with no contributors: 130159\n"
     ]
    }
   ],
   "source": [
    "nocontributors = df[df.contributors == 0]\n",
    "df.drop(df[df['contributors'] == 0].index, inplace = True)\n",
    "print('Total repositories after filtering repositories with no contributors:',len(df))"
   ]
  },
  {
   "cell_type": "markdown",
   "source": [
    "### Saving the remaining repositories to Filtered Repositories"
   ],
   "metadata": {
    "collapsed": false
   }
  },
  {
   "cell_type": "code",
   "execution_count": 10,
   "outputs": [],
   "source": [
    "df.createdAt = pd.to_datetime(df.createdAt).dt.tz_localize(None) #removes timezone from dates\n",
    "df.pushedAt = pd.to_datetime(df.pushedAt).dt.tz_localize(None)\n",
    "df.to_excel(FILTERED_FILE, index=False)"
   ],
   "metadata": {
    "collapsed": false
   }
  },
  {
   "cell_type": "code",
   "execution_count": 11,
   "outputs": [
    {
     "name": "stdout",
     "output_type": "stream",
     "text": [
      "Total of Repositories: 130159 - Total Disk Usage: 2113687900\n"
     ]
    }
   ],
   "source": [
    "print(f\"Total of Repositories: {len(df)} - Total Disk Usage: {df['diskUsage'].sum()}\")"
   ],
   "metadata": {
    "collapsed": false
   }
  },
  {
   "cell_type": "markdown",
   "source": [
    "## Splitting by Language for futher extraction and analysis"
   ],
   "metadata": {
    "collapsed": false
   }
  },
  {
   "cell_type": "markdown",
   "source": [
    "### Jupyter Notebooks"
   ],
   "metadata": {
    "collapsed": false
   }
  },
  {
   "cell_type": "code",
   "execution_count": 18,
   "outputs": [
    {
     "name": "stdout",
     "output_type": "stream",
     "text": [
      "Total repositories with 'Jupyter Notebook' as Primary Language: 82628\n"
     ]
    }
   ],
   "source": [
    "jupyter_repos = df.query(\"primaryLanguage== 'Jupyter Notebook'\")\n",
    "print(f\"Total repositories with 'Jupyter Notebook' as Primary Language: {len(jupyter_repos)}\")\n",
    "jupyter_repos[:10].to_excel(JUPYTER_REPOS_FILE, index=False)"
   ],
   "metadata": {
    "collapsed": false
   }
  },
  {
   "cell_type": "markdown",
   "source": [
    "### Python"
   ],
   "metadata": {
    "collapsed": false
   }
  },
  {
   "cell_type": "code",
   "execution_count": 20,
   "outputs": [
    {
     "name": "stdout",
     "output_type": "stream",
     "text": [
      "Total repositories with 'Python' as Primary Language: 18746\n"
     ]
    }
   ],
   "source": [
    "python_repos = df.query(\"primaryLanguage== 'Python'\")\n",
    "print(f\"Total repositories with 'Python' as Primary Language: {len(python_repos)}\")\n",
    "python_repos[:10].to_excel(PYTHON_REPOS_FILE, index=False)"
   ],
   "metadata": {
    "collapsed": false
   }
  }
 ],
 "metadata": {
  "kernelspec": {
   "display_name": "Python 3",
   "language": "python",
   "name": "python3"
  },
  "language_info": {
   "codemirror_mode": {
    "name": "ipython",
    "version": 3
   },
   "file_extension": ".py",
   "mimetype": "text/x-python",
   "name": "python",
   "nbconvert_exporter": "python",
   "pygments_lexer": "ipython3",
   "version": "3.7.6"
  },
  "pycharm": {
   "stem_cell": {
    "cell_type": "raw",
    "metadata": {
     "collapsed": false
    },
    "source": []
   }
  }
 },
 "nbformat": 4,
 "nbformat_minor": 2
}
