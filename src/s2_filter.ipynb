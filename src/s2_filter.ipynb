{
 "cells": [
  {
   "cell_type": "code",
   "execution_count": 15,
   "metadata": {},
   "outputs": [],
   "source": [
    "import pandas as pd\n",
    "from config import REPOSITORIES_FILE, FILTERED_FILE, SELECTED_REPOS_FILE"
   ]
  },
  {
   "cell_type": "markdown",
   "source": [
    "## Filtering Repositories Collected from Github according to Corpus Criteria"
   ],
   "metadata": {
    "collapsed": false
   }
  },
  {
   "cell_type": "code",
   "execution_count": 16,
   "metadata": {},
   "outputs": [
    {
     "name": "stdout",
     "output_type": "stream",
     "text": [
      "Total repositories:  100\n"
     ]
    }
   ],
   "source": [
    "df = pd.read_excel(REPOSITORIES_FILE, keep_default_na=False)[:100]\n",
    "print('Total repositories: ',len(df))"
   ]
  },
  {
   "cell_type": "markdown",
   "source": [
    "### Removing repositories with no languages"
   ],
   "metadata": {
    "collapsed": false
   }
  },
  {
   "cell_type": "code",
   "execution_count": 17,
   "metadata": {},
   "outputs": [
    {
     "name": "stdout",
     "output_type": "stream",
     "text": [
      "Total repositories after filtering repositories with \"no languages\": 100\n"
     ]
    }
   ],
   "source": [
    "nolanguages = df[df.languages==0]\n",
    "df.drop(df[df['languages'] == 0].index, inplace = True)\n",
    "print('Total repositories after filtering repositories with \"no languages\":',len(df))"
   ]
  },
  {
   "cell_type": "markdown",
   "source": [
    "### Removing repositories whose names contain the words \"courses\", \"cours\", \"curso\" or \"cursos\""
   ],
   "metadata": {
    "collapsed": false
   }
  },
  {
   "cell_type": "code",
   "execution_count": 18,
   "outputs": [
    {
     "name": "stdout",
     "output_type": "stream",
     "text": [
      "Total repositories after filtering \"courses\": 100\n"
     ]
    }
   ],
   "source": [
    "courses = df.loc[df.name.str.contains('course',case=False)]\n",
    "df.drop(df.loc[df.name.str.contains('course',case=False)].index, inplace=True )\n",
    "print('Total repositories after filtering \"courses\":', len(df))"
   ],
   "metadata": {
    "collapsed": false
   }
  },
  {
   "cell_type": "code",
   "execution_count": 19,
   "metadata": {},
   "outputs": [
    {
     "name": "stdout",
     "output_type": "stream",
     "text": [
      "Total repositories after filtering \"cours\": 100\n"
     ]
    }
   ],
   "source": [
    "cours = df.loc[df.name.str.contains('cours',case=False)]\n",
    "df.drop(df.loc[df.name.str.contains('cours',case=False)].index, inplace=True )\n",
    "print('Total repositories after filtering \"cours\":', len(df))"
   ]
  },
  {
   "cell_type": "code",
   "execution_count": 20,
   "metadata": {},
   "outputs": [
    {
     "name": "stdout",
     "output_type": "stream",
     "text": [
      "Total repositories after filtering \"curso\": 100\n"
     ]
    }
   ],
   "source": [
    "curso = df.loc[df.name.str.contains('curso',case=False)]\n",
    "df.drop(df.loc[df.name.str.contains('curso',case=False)].index, inplace=True )\n",
    "print('Total repositories after filtering \"curso\":', len(df))"
   ]
  },
  {
   "cell_type": "code",
   "execution_count": 21,
   "metadata": {},
   "outputs": [
    {
     "name": "stdout",
     "output_type": "stream",
     "text": [
      "Total repositories after filtering \"cursos\": 100\n"
     ]
    }
   ],
   "source": [
    "cursos = df.loc[df.name.str.contains('cursos',case=False)]\n",
    "df.drop(df.loc[df.name.str.contains('cursos',case=False)].index, inplace=True )\n",
    "print('Total repositories after filtering \"cursos\":', len(df))"
   ]
  },
  {
   "cell_type": "markdown",
   "source": [
    "### Removing repositories with no commits or no contributors"
   ],
   "metadata": {
    "collapsed": false
   }
  },
  {
   "cell_type": "code",
   "execution_count": 22,
   "metadata": {},
   "outputs": [
    {
     "name": "stdout",
     "output_type": "stream",
     "text": [
      "Total repositories after filtering repositories with no commits: 100\n"
     ]
    }
   ],
   "source": [
    "emptycommits = df.loc[df['commits'] == '']\n",
    "df.drop(df[df['commits'] == ''].index, inplace = True)\n",
    "print('Total repositories after filtering repositories with no commits:',len(df))"
   ]
  },
  {
   "cell_type": "code",
   "execution_count": 23,
   "metadata": {},
   "outputs": [
    {
     "name": "stdout",
     "output_type": "stream",
     "text": [
      "Total repositories after filtering repositories with no contributors: 100\n"
     ]
    }
   ],
   "source": [
    "nocontributors = df[df.contributors == 0]\n",
    "df.drop(df[df['contributors'] == 0].index, inplace = True)\n",
    "print('Total repositories after filtering repositories with no contributors:',len(df))"
   ]
  },
  {
   "cell_type": "markdown",
   "source": [
    "### Saving the remaining repositories to Filtered Repositories"
   ],
   "metadata": {
    "collapsed": false
   }
  },
  {
   "cell_type": "code",
   "execution_count": 24,
   "outputs": [],
   "source": [
    "df.createdAt = pd.to_datetime(df.createdAt).dt.tz_localize(None) #removes timezone from dates\n",
    "df.pushedAt = pd.to_datetime(df.pushedAt).dt.tz_localize(None)\n",
    "df.to_excel(FILTERED_FILE, index=False)"
   ],
   "metadata": {
    "collapsed": false
   }
  },
  {
   "cell_type": "code",
   "execution_count": 25,
   "outputs": [
    {
     "name": "stdout",
     "output_type": "stream",
     "text": [
      "Total of Repositories: 100 - Total Disk Usage: 7004553\n"
     ]
    }
   ],
   "source": [
    "print(f\"Total of Repositories: {len(df)} - Total Disk Usage: {df['diskUsage'].sum()}\")"
   ],
   "metadata": {
    "collapsed": false
   }
  },
  {
   "cell_type": "markdown",
   "source": [
    "## Selecting Repositories by Language for futher extraction and analysis"
   ],
   "metadata": {
    "collapsed": false
   }
  },
  {
   "cell_type": "markdown",
   "source": [
    "### Jupyter Notebooks and Python"
   ],
   "metadata": {
    "collapsed": false
   }
  },
  {
   "cell_type": "code",
   "execution_count": 26,
   "outputs": [
    {
     "name": "stdout",
     "output_type": "stream",
     "text": [
      "Total repositories with 'Jupyter Notebook' or 'Python' as Primary Language: 68\n"
     ]
    }
   ],
   "source": [
    "from src.states import REP_FILTERED\n",
    "\n",
    "filtered_repos = df.query(\"primaryLanguage == 'Jupyter Notebook' | primaryLanguage== 'Python'\").copy()\n",
    "print(f\"Total repositories with 'Jupyter Notebook' \"\n",
    "      f\"or 'Python' as Primary Language: {len(filtered_repos)}\")"
   ],
   "metadata": {
    "collapsed": false
   }
  },
  {
   "cell_type": "code",
   "execution_count": 27,
   "outputs": [],
   "source": [
    "filtered_repos.loc[:, \"repository\"] = filtered_repos[\"owner\"] + '/' + filtered_repos[\"name\"]\n",
    "filtered_repos = filtered_repos.drop(['owner','name'], axis=1)"
   ],
   "metadata": {
    "collapsed": false
   }
  },
  {
   "cell_type": "code",
   "execution_count": 60,
   "outputs": [],
   "source": [
    "from config import GITHUB\n",
    "from src.db.database import connect, Repository\n",
    "\n",
    "with connect() as session:\n",
    "    for repo in filtered_repos[:10].itertuples(index=False):\n",
    "        repository = session.query(Repository).filter(\n",
    "            Repository.domain == GITHUB,\n",
    "            Repository.repository == repo.repository,\n",
    "        ).first()\n",
    "        if repository is not None:\n",
    "            print(\"\\t>> Repository already exists: ID={}\".format(repository.id))\n",
    "        else:\n",
    "            repo_row = Repository(\n",
    "                state=REP_FILTERED, domain=GITHUB,\n",
    "                repository=repo.repository, primary_language=repo.primaryLanguage,\n",
    "                disk_usage=repo.diskUsage, is_mirror=repo.isMirror,\n",
    "                git_created_at=repo.createdAt, git_pushed_at=repo.pushedAt,\n",
    "                languages=repo.languages, contributors=repo.contributors, commits=repo.commits,\n",
    "                pull_requests=repo.pullRequests, branches=repo.branches, watchers=repo.watchers,\n",
    "                issues=repo.issues, stargazers=repo.stargazers, forks=repo.forks,\n",
    "                description=repo.description, tags=repo.tags, releases=repo.releases\n",
    "            )\n",
    "\n",
    "            session.add(repo_row)\n",
    "    session.commit()"
   ],
   "metadata": {
    "collapsed": false
   }
  },
  {
   "cell_type": "code",
   "execution_count": 28,
   "outputs": [],
   "source": [],
   "metadata": {
    "collapsed": false
   }
  }
 ],
 "metadata": {
  "kernelspec": {
   "display_name": "Python 3",
   "language": "python",
   "name": "python3"
  },
  "language_info": {
   "codemirror_mode": {
    "name": "ipython",
    "version": 3
   },
   "file_extension": ".py",
   "mimetype": "text/x-python",
   "name": "python",
   "nbconvert_exporter": "python",
   "pygments_lexer": "ipython3",
   "version": "3.7.6"
  },
  "pycharm": {
   "stem_cell": {
    "cell_type": "raw",
    "metadata": {
     "collapsed": false
    },
    "source": []
   }
  }
 },
 "nbformat": 4,
 "nbformat_minor": 2
}
