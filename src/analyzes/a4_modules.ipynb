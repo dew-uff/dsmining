{
 "cells": [
  {
   "cell_type": "markdown",
   "source": [
    "# A4 - Analyzing Selected Repositories Modules\n",
    "This notebooks analyzes python modules features from repositories that had Python or Jupyter Notebook as a Primary Language. First we will analyze generrally and then specifically from Jupyter Notebooks and Python Files\n"
   ],
   "metadata": {
    "collapsed": false
   }
  },
  {
   "cell_type": "code",
   "execution_count": 17,
   "outputs": [],
   "source": [
    "import pandas as pd\n",
    "from matplotlib import pyplot as plt\n",
    "from src.config.states import REP_FINISHED, NB_AGGREGATED, PF_AGGREGATED\n",
    "from src.db.database import connect, Repository, Notebook, PythonFile\n",
    "from src.helpers.h7_analysis_helpers import get_toplevel_modules, display_counts"
   ],
   "metadata": {
    "collapsed": false,
    "ExecuteTime": {
     "start_time": "2023-04-09T11:00:14.342808Z",
     "end_time": "2023-04-09T11:00:14.508701Z"
    }
   }
  },
  {
   "cell_type": "markdown",
   "source": [
    "### What are the most popular modules in Data Science Projects coded in Python?\n",
    "Now that we found out that Python is the most used language, either in python files or in jupyter notebooks , let's find out what are the most used modules and how they are used."
   ],
   "metadata": {
    "collapsed": false
   }
  },
  {
   "cell_type": "code",
   "execution_count": 18,
   "outputs": [],
   "source": [
    "with connect() as session:\n",
    "    num_repositories = session.query(Repository).filter(Repository.state == REP_FINISHED).count()\n",
    "    modules = pd.read_sql_table(\"modules\", session.connection())\n",
    "    modules = get_toplevel_modules(modules)\n",
    "    print(\"In the {} valid repositories we found {} modules in valid python files and jupyter notebooks.\"\n",
    "          .format(num_repositories, len(modules)))"
   ],
   "metadata": {
    "collapsed": false,
    "ExecuteTime": {
     "start_time": "2023-04-09T11:00:14.344105Z",
     "end_time": "2023-04-09T11:00:14.523802Z"
    }
   }
  },
  {
   "cell_type": "markdown",
   "source": [
    "#### Most Popular Modules"
   ],
   "metadata": {
    "collapsed": false
   }
  },
  {
   "cell_type": "code",
   "execution_count": 19,
   "outputs": [],
   "source": [
    "fig1, ax1, count1 = display_counts(modules[\"any_any\"], width=20, show_values=True, plot=False,\n",
    "                                   cut=slice(None, 10), logy=False,color=['skyblue'])\n",
    "ax1.set_xticklabels(ax1.get_xticklabels(), rotation=50, ha=\"right\")\n",
    "ax1.legend().set_visible(False)\n",
    "ax1.set_title(\"Most Common Modules\")\n",
    "ax1.set_ylabel(\"Number of Files\")\n",
    "ax1.set_xlabel(\"Modules\");"
   ],
   "metadata": {
    "collapsed": false,
    "ExecuteTime": {
     "start_time": "2023-04-09T11:00:14.353383Z",
     "end_time": "2023-04-09T11:00:14.691820Z"
    }
   }
  },
  {
   "cell_type": "markdown",
   "source": [
    "#### Most Common Toplevel Modules\n",
    "Since modules can be nested in Python, a top level module is the topmost one in a import."
   ],
   "metadata": {
    "collapsed": false
   }
  },
  {
   "cell_type": "code",
   "execution_count": 20,
   "outputs": [],
   "source": [
    "fig2, ax2, count2 = display_counts(modules[\"toplevel_any_any\"], width=20, show_values=True, plot=False,\n",
    "                                   cut=slice(None, 10), logy=False, color='skyblue')\n",
    "ax2.set_xticklabels(ax2.get_xticklabels(), rotation=50, ha=\"right\")\n",
    "ax2.legend().set_visible(False)\n",
    "ax2.set_title(\"Most Common Top Level Modules\")\n",
    "ax2.set_ylabel(\"Number of Files\")\n",
    "ax2.set_xlabel(\"Modules\");"
   ],
   "metadata": {
    "collapsed": false,
    "ExecuteTime": {
     "start_time": "2023-04-09T11:00:14.360407Z",
     "end_time": "2023-04-09T11:00:15.040960Z"
    }
   }
  },
  {
   "cell_type": "markdown",
   "source": [
    "#### Most Used Import Types\n",
    "In Python there are two ways to import modules:\n",
    "- import: `import numpy`\n",
    "- import_from: `from sklearn import datasets`\n",
    "\n",
    "With IPyhton you can also use:\n",
    "- load_ext: `%load_ext autoreload`"
   ],
   "metadata": {
    "collapsed": false
   }
  },
  {
   "cell_type": "code",
   "execution_count": 21,
   "outputs": [],
   "source": [
    "imports = modules[[\"any_import_count\", \"any_import_from_count\", \"any_load_ext_count\"]].sum()\\\n",
    "    .rename(lambda x: x[:-6]).rename_axis('Types')\\\n",
    "    .to_frame(\"Modules\").reset_index(drop=False).sort_values(by='Types')\n",
    "\n",
    "fig3, ax3 = plt.subplots( figsize=(3,3))\n",
    "imports.plot\\\n",
    "    .pie(ax=ax3, y=\"Modules\", title=\"Most Common Import Types\",\n",
    "         labels=[\"import\", \"import_from\", \"load_ext\"], ylabel='',cmap=\"cool\",\n",
    "         autopct=(lambda prct_value: '{:.1f}%\\n{:.0f}'\n",
    "                  .format(prct_value,(imports[\"Modules\"].sum())*prct_value/100)) )\\\n",
    "    .get_legend().remove()\n"
   ],
   "metadata": {
    "collapsed": false,
    "ExecuteTime": {
     "start_time": "2023-04-09T11:00:14.366956Z",
     "end_time": "2023-04-09T11:00:15.124187Z"
    }
   }
  },
  {
   "cell_type": "markdown",
   "source": [
    "#### Module Location Type\n",
    "In Python you can both import local and external modules."
   ],
   "metadata": {
    "collapsed": false
   }
  },
  {
   "cell_type": "code",
   "execution_count": 22,
   "outputs": [],
   "source": [
    "local = modules[\"local_any_count\"].sum()\n",
    "external = modules[\"external_any_count\"].sum()\n",
    "location = pd.DataFrame({'Type':['local','external'], 'Modules':[local,external]})\n",
    "\n",
    "fig4, ax4 = plt.subplots( figsize=(3,3))\n",
    "location.plot\\\n",
    "    .pie(ax=ax4, y=\"Modules\", title=\"Local x External\",\n",
    "         labels=[\"Local\", \"External\"], ylabel='',cmap=\"cool\",\n",
    "         autopct=(lambda prct_value: '{:.1f}%\\n{:.0f}'\n",
    "                  .format(prct_value,(imports[\"Modules\"].sum())*prct_value/100)) )\\\n",
    "    .get_legend().remove()"
   ],
   "metadata": {
    "collapsed": false,
    "ExecuteTime": {
     "start_time": "2023-04-09T11:00:14.373361Z",
     "end_time": "2023-04-09T11:00:15.212417Z"
    }
   }
  },
  {
   "cell_type": "markdown",
   "source": [
    "### Jupyter Notebooks\n",
    "How are modules used in the Jupyter Notebooks we found specifically."
   ],
   "metadata": {
    "collapsed": false
   }
  },
  {
   "cell_type": "code",
   "execution_count": 23,
   "outputs": [],
   "source": [
    "valid_notebooks = session.query(Notebook).filter(Notebook.state==NB_AGGREGATED).count()\n",
    "notebook_modules = modules[modules.type=='notebook']\n",
    "sum_modules = notebook_modules.any_any_count.sum()\n",
    "all_modules = modules.any_any_count.sum()\n",
    "percentage = sum_modules / all_modules * 100\n",
    "print(\"In the %d valid Jupyter Notebooks we found %d modules (%.2f%% of %d modules found)\"\n",
    "      % (valid_notebooks, sum_modules, percentage, all_modules))"
   ],
   "metadata": {
    "collapsed": false,
    "ExecuteTime": {
     "start_time": "2023-04-09T11:00:14.379542Z",
     "end_time": "2023-04-09T11:00:15.225041Z"
    }
   }
  },
  {
   "cell_type": "markdown",
   "source": [
    "#### Most Popular Modules"
   ],
   "metadata": {
    "collapsed": false
   }
  },
  {
   "cell_type": "code",
   "execution_count": 24,
   "outputs": [],
   "source": [
    "fig5, ax5, count5 = display_counts(notebook_modules[\"any_any\"], width=20, show_values=True, plot=False,\n",
    "                                   cut=slice(None, 10), logy=False,color='skyblue')\n",
    "ax5.set_xticklabels(ax5.get_xticklabels(), rotation=50, ha=\"right\")\n",
    "ax5.legend().set_visible(False)\n",
    "ax5.set_title(\"Most Common Modules in Jupyter Notebooks\")\n",
    "ax5.set_ylabel(\"Number of Notebooks\")\n",
    "ax5.set_xlabel(\"Modules\");"
   ],
   "metadata": {
    "collapsed": false,
    "ExecuteTime": {
     "start_time": "2023-04-09T11:00:14.386183Z",
     "end_time": "2023-04-09T11:00:15.505950Z"
    }
   }
  },
  {
   "cell_type": "markdown",
   "source": [
    "#### Most Common Toplevel Modules"
   ],
   "metadata": {
    "collapsed": false
   }
  },
  {
   "cell_type": "code",
   "execution_count": 25,
   "outputs": [],
   "source": [
    "fig6, ax6, count6 = display_counts(notebook_modules[\"toplevel_any_any\"], width=20, show_values=True, plot=False,\n",
    "                                   cut=slice(None, 10), logy=False, color='skyblue')\n",
    "ax6.set_xticklabels(ax6.get_xticklabels(), rotation=50, ha=\"right\")\n",
    "ax6.legend().set_visible(False)\n",
    "ax6.set_title(\"Most Common Top Level Modules in Jupyter Notebooks\")\n",
    "ax6.set_ylabel(\"Number of Notebook Modules\")\n",
    "ax6.set_xlabel(\"Modules\");"
   ],
   "metadata": {
    "collapsed": false,
    "ExecuteTime": {
     "start_time": "2023-04-09T11:00:14.391810Z",
     "end_time": "2023-04-09T11:00:15.781680Z"
    }
   }
  },
  {
   "cell_type": "markdown",
   "source": [
    "#### Most Used Import Types"
   ],
   "metadata": {
    "collapsed": false
   }
  },
  {
   "cell_type": "code",
   "execution_count": 26,
   "outputs": [],
   "source": [
    "imports = notebook_modules[[\"any_import_count\", \"any_import_from_count\", \"any_load_ext_count\"]].sum()\\\n",
    "    .rename(lambda x: x[:-6]).rename_axis('Types')\\\n",
    "    .to_frame(\"Modules\").reset_index(drop=False).sort_values(by='Types')\n",
    "\n",
    "fig7, ax7 = plt.subplots( figsize=(3,3))\n",
    "imports.plot\\\n",
    "    .pie(ax=ax7, y=\"Modules\", title=\"Most Common Import Types in Jupyter Notebooks\",\n",
    "         labels=[\"import\", \"import_from\", \"load_ext\"], ylabel='',cmap=\"cool\",\n",
    "         autopct=(lambda prct_value: '{:.1f}%\\n{:.0f}'\n",
    "                  .format(prct_value,(imports[\"Modules\"].sum())*prct_value/100)) )\\\n",
    "    .get_legend().remove()"
   ],
   "metadata": {
    "collapsed": false,
    "ExecuteTime": {
     "start_time": "2023-04-09T11:00:14.397735Z",
     "end_time": "2023-04-09T11:00:15.902133Z"
    }
   }
  },
  {
   "cell_type": "markdown",
   "source": [
    "#### Module Location Type"
   ],
   "metadata": {
    "collapsed": false
   }
  },
  {
   "cell_type": "code",
   "execution_count": 27,
   "outputs": [],
   "source": [
    "local = notebook_modules[\"local_any_count\"].sum()\n",
    "external = notebook_modules[\"external_any_count\"].sum()\n",
    "location = pd.DataFrame({'Type':['local','external'], 'Modules':[local,external]})\n",
    "\n",
    "fig8, ax8 = plt.subplots( figsize=(3,3))\n",
    "location.plot\\\n",
    "    .pie(ax=ax8, y=\"Modules\", title=\"Local x External in Jupyter Notebooks\",\n",
    "         labels=[\"Local\", \"External\"], ylabel='',cmap=\"cool\",\n",
    "         autopct=(lambda prct_value: '{:.1f}%\\n{:.0f}'\n",
    "                  .format(prct_value,(imports[\"Modules\"].sum())*prct_value/100)) )\\\n",
    "    .get_legend().remove()"
   ],
   "metadata": {
    "collapsed": false,
    "ExecuteTime": {
     "start_time": "2023-04-09T11:00:14.403642Z",
     "end_time": "2023-04-09T11:00:16.016343Z"
    }
   }
  },
  {
   "cell_type": "markdown",
   "source": [
    "### Python Files\n",
    "How are modules used in the Jupyter Notebooks we found specifically."
   ],
   "metadata": {
    "collapsed": false
   }
  },
  {
   "cell_type": "code",
   "execution_count": 28,
   "outputs": [],
   "source": [
    "valid_python_files = session.query(PythonFile).filter(PythonFile.state==PF_AGGREGATED).count()\n",
    "python_file_modules = modules[modules.type=='python_file']\n",
    "sum_modules2 = python_file_modules.any_any_count.sum()\n",
    "all_modules2 = modules.any_any_count.sum()\n",
    "percentage2 = sum_modules2 / all_modules2 * 100\n",
    "print(\"In the %d valid Jupyter Notebooks we found %d modules (%.2f%% of %d modules found)\"\n",
    "      % (valid_python_files, sum_modules2, percentage2, all_modules2))"
   ],
   "metadata": {
    "collapsed": false,
    "ExecuteTime": {
     "start_time": "2023-04-09T11:00:14.409407Z",
     "end_time": "2023-04-09T11:00:16.027768Z"
    }
   }
  },
  {
   "cell_type": "code",
   "execution_count": 29,
   "outputs": [],
   "source": [
    "fig9, ax9, count9 = display_counts(python_file_modules[\"any_any\"], width=20, show_values=True, plot=False,\n",
    "                                   cut=slice(None, 10), logy=False, color='skyblue')\n",
    "ax9.set_xticklabels(ax9.get_xticklabels(), rotation=50, ha=\"right\")\n",
    "ax9.legend().set_visible(False)\n",
    "ax9.set_title(\"Most Common Modules in Python Files\")\n",
    "ax9.set_ylabel(\"Number of Python Files\")\n",
    "ax9.set_xlabel(\"Modules\");"
   ],
   "metadata": {
    "collapsed": false,
    "ExecuteTime": {
     "start_time": "2023-04-09T11:00:14.409513Z",
     "end_time": "2023-04-09T11:00:16.389814Z"
    }
   }
  },
  {
   "cell_type": "markdown",
   "source": [
    "#### Most Popular Modules"
   ],
   "metadata": {
    "collapsed": false
   }
  },
  {
   "cell_type": "code",
   "execution_count": 30,
   "outputs": [],
   "source": [
    "fig10, ax10, count10 = display_counts(python_file_modules[\"toplevel_any_any\"], width=20, show_values=True, plot=False,\n",
    "                                   cut=slice(None, 10), logy=False, color='skyblue')\n",
    "ax10.set_xticklabels(ax10.get_xticklabels(), rotation=50, ha=\"right\")\n",
    "ax10.legend().set_visible(False)\n",
    "ax10.set_title(\"Most Common Top Level Modules in Python Files\")\n",
    "ax10.set_ylabel(\"Number of Pyhton Files\")\n",
    "ax10.set_xlabel(\"Modules\");"
   ],
   "metadata": {
    "collapsed": false,
    "ExecuteTime": {
     "start_time": "2023-04-09T11:00:14.418940Z",
     "end_time": "2023-04-09T11:00:16.649146Z"
    }
   }
  },
  {
   "cell_type": "code",
   "execution_count": 31,
   "outputs": [],
   "source": [
    "\n",
    "imports = python_file_modules[[\"any_import_count\", \"any_import_from_count\", \"any_load_ext_count\"]].sum() \\\n",
    "    .rename(lambda x: x[:-6]).rename_axis('Types') \\\n",
    "    .to_frame(\"Modules\").reset_index(drop=False).sort_values(by='Types')\n",
    "\n",
    "fig11, ax11 = plt.subplots(figsize=(3, 3))\n",
    "imports.plot \\\n",
    "    .pie(ax=ax11, y=\"Modules\", title=\"Most Common Import Types in Python Files\",\n",
    "         labels=[\"import\", \"import_from\", \"load_ext\"], ylabel='', cmap=\"cool\",\n",
    "         autopct=(lambda prct_value: '{:.1f}%\\n{:.0f}'\n",
    "                  .format(prct_value, (imports[\"Modules\"].sum()) * prct_value / 100))) \\\n",
    "    .get_legend().remove()"
   ],
   "metadata": {
    "collapsed": false,
    "ExecuteTime": {
     "start_time": "2023-04-09T11:00:14.419011Z",
     "end_time": "2023-04-09T11:00:16.737273Z"
    }
   }
  },
  {
   "cell_type": "markdown",
   "source": [
    "#### Most Used Import Types"
   ],
   "metadata": {
    "collapsed": false
   }
  },
  {
   "cell_type": "code",
   "execution_count": 32,
   "outputs": [],
   "source": [
    "local = python_file_modules[\"local_any_count\"].sum()\n",
    "external = notebook_modules[\"external_any_count\"].sum()\n",
    "location = pd.DataFrame({'Type': ['local', 'external'], 'Modules': [local, external]})\n",
    "\n",
    "fig12, ax12 = plt.subplots(figsize=(3, 3))\n",
    "location.plot \\\n",
    "    .pie(ax=ax12, y=\"Modules\", title=\"Local x External in Python Files\",\n",
    "         labels=[\"Local\", \"External\"], ylabel='', cmap=\"cool\",\n",
    "         autopct=(lambda prct_value: '{:.1f}%\\n{:.0f}'\n",
    "                  .format(prct_value, (imports[\"Modules\"].sum()) * prct_value / 100))) \\\n",
    "    .get_legend().remove()"
   ],
   "metadata": {
    "collapsed": false,
    "ExecuteTime": {
     "start_time": "2023-04-09T11:00:14.429279Z",
     "end_time": "2023-04-09T11:00:16.829594Z"
    }
   }
  },
  {
   "cell_type": "markdown",
   "source": [],
   "metadata": {
    "collapsed": false
   }
  }
 ],
 "metadata": {
  "kernelspec": {
   "display_name": "Python 3",
   "language": "python",
   "name": "python3"
  },
  "language_info": {
   "codemirror_mode": {
    "name": "ipython",
    "version": 2
   },
   "file_extension": ".py",
   "mimetype": "text/x-python",
   "name": "python",
   "nbconvert_exporter": "python",
   "pygments_lexer": "ipython2",
   "version": "2.7.6"
  }
 },
 "nbformat": 4,
 "nbformat_minor": 0
}
