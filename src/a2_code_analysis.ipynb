{
 "cells": [
  {
   "cell_type": "code",
   "execution_count": 3,
   "outputs": [],
   "source": [
    "import pandas as pd\n",
    "from matplotlib import pyplot as plt\n",
    "from db.database import connect"
   ],
   "metadata": {
    "collapsed": false
   }
  },
  {
   "cell_type": "markdown",
   "source": [
    "### 6 - What are the most commonly used libraries?"
   ],
   "metadata": {
    "collapsed": false
   }
  },
  {
   "cell_type": "code",
   "execution_count": 4,
   "outputs": [
    {
     "name": "stdout",
     "output_type": "stream",
     "text": [
      "In all repositories in the corpous a total of 1153 were found.\n",
      "- 206 in Jupyter Notebooks using Python as a language\n",
      "- 947 in 'pure' Python Files\n"
     ]
    }
   ],
   "source": [
    "with connect() as session:\n",
    "    notebook_modules = pd.read_sql_table(\"notebook_modules\", session.connection())\n",
    "    python_modules = pd.read_sql_table(\"python_file_modules\", session.connection())\n",
    "    total = len(notebook_modules) + len(python_modules)\n",
    "    print(f\"In all repositories in the corpous a total of {total} modules were used.\")\n",
    "    print(f\"- {len(notebook_modules)} in Jupyter Notebooks using Python as a language\")\n",
    "    print(f\"- {len(python_modules)} in 'pure' Python Files\")"
   ],
   "metadata": {
    "collapsed": false
   }
  },
  {
   "cell_type": "code",
   "execution_count": null,
   "outputs": [],
   "source": [],
   "metadata": {
    "collapsed": false
   }
  }
 ],
 "metadata": {
  "kernelspec": {
   "display_name": "Python 3",
   "language": "python",
   "name": "python3"
  },
  "language_info": {
   "codemirror_mode": {
    "name": "ipython",
    "version": 2
   },
   "file_extension": ".py",
   "mimetype": "text/x-python",
   "name": "python",
   "nbconvert_exporter": "python",
   "pygments_lexer": "ipython2",
   "version": "2.7.6"
  }
 },
 "nbformat": 4,
 "nbformat_minor": 0
}
