{
 "cells": [
  {
   "cell_type": "markdown",
   "metadata": {},
   "source": [
    "# Modules\n",
    "\n",
    "Analyze modules: local and external modules, import type, test modules."
   ]
  },
  {
   "cell_type": "code",
   "execution_count": 13,
   "metadata": {},
   "outputs": [],
   "source": [
    "import sys\n",
    "sys.path.insert(0, '../archaeology')\n",
    "from collections import Counter\n",
    "from IPython.display import display\n",
    "\n",
    "from matplotlib import pyplot as plt\n",
    "import matplotlib.ticker as ticker\n",
    "from matplotlib_venn import venn2\n",
    "\n",
    "\n",
    "import seaborn as sns\n",
    "import pandas as pd\n",
    "\n",
    "from db.database import connect, Repository, Notebook, Query, NotebookModule\n",
    "from src.helpers.h4_analysis_helpers import display_counts, violinplot, getitem\n",
    "from src.helpers.h4_analysis_helpers import distribution_with_boxplot, savefig\n",
    "from src.helpers.h4_analysis_helpers import relative_var, var\n",
    "\n",
    "%matplotlib inline"
   ]
  },
  {
   "cell_type": "code",
   "execution_count": 14,
   "metadata": {},
   "outputs": [
    {
     "name": "stdout",
     "output_type": "stream",
     "text": [
      "Modules: 16\n"
     ]
    }
   ],
   "source": [
    "with connect() as session:\n",
    "    # print('Last query:', session.query(NotebookModule).all())\n",
    "    modules = pd.read_sql_table(\"notebook_modules\", session.connection())\n",
    "    print('Modules:', len(modules))\n"
   ]
  },
  {
   "cell_type": "code",
   "execution_count": 15,
   "metadata": {},
   "outputs": [
    {
     "name": "stdout",
     "output_type": "stream",
     "text": [
      "Valid Python Notebooks: 327\n"
     ]
    }
   ],
   "source": [
    "with connect() as session:\n",
    "    query = (\n",
    "        \"SELECT count(id) \"\n",
    "        \"FROM notebooks \"\n",
    "        \"WHERE NOT (kernel = 'no-kernel' AND nbformat = '0') \"\n",
    "        \"AND language = 'python' \"\n",
    "        \"AND language_version != 'unknown' \"\n",
    "        \"AND total_cells != 0 \"\n",
    "        \"AND processed & 16 = 0 \"\n",
    "    )\n",
    "    result = session.execute(query)\n",
    "    total_valid_python_notebooks = result.scalar()\n",
    "    \n",
    "    print('Valid Python Notebooks: {}'.format(total_valid_python_notebooks))\n"
   ]
  },
  {
   "cell_type": "code",
   "execution_count": 16,
   "metadata": {},
   "outputs": [
    {
     "data": {
      "text/plain": "   id  repository_id  notebook_id    index  index_count  \\\n0   1              6          198  0,1,4,5            4   \n1   2              6          205        0            1   \n2   3              6          206        0            1   \n3   4              6          287        0            1   \n4   5              6          294        0            1   \n\n                                             any_any  any_any_count local_any  \\\n0  {pandas, featuretools, MyMagics, seaborn, nump...              9        {}   \n1                                           {pandas}              1        {}   \n2  {pandas, plotly.plotly, cufflinks, numpy, plot...              6        {}   \n3  {pandas, plotly.plotly, autoreload, sys, cuffl...              9        {}   \n4  {pandas, plotly.plotly, scipy.misc, cufflinks,...              8        {}   \n\n   local_any_count                                       external_any  ...  \\\n0                0  {pandas, featuretools, MyMagics, seaborn, nump...  ...   \n1                0                                           {pandas}  ...   \n2                0  {pandas, plotly.plotly, cufflinks, numpy, plot...  ...   \n3                0  {pandas, plotly.plotly, autoreload, sys, cuffl...  ...   \n4                0  {pandas, plotly.plotly, scipy.misc, cufflinks,...  ...   \n\n   toplevel_local_import toplevel_local_import_count  \\\n0                     {}                           0   \n1                     {}                           0   \n2                     {}                           0   \n3                     {}                           0   \n4                     {}                           0   \n\n                            toplevel_external_import  \\\n0  {pandas, matplotlib, featuretools, seaborn, nu...   \n1                                           {pandas}   \n2                 {pandas, plotly, cufflinks, numpy}   \n3            {pandas, sys, cufflinks, numpy, plotly}   \n4                 {pandas, plotly, cufflinks, numpy}   \n\n  toplevel_external_import_count  toplevel_any_load_ext  \\\n0                              5             {MyMagics}   \n1                              1                     {}   \n2                              4                     {}   \n3                              5           {autoreload}   \n4                              4                     {}   \n\n  toplevel_any_load_ext_count  toplevel_local_load_ext  \\\n0                           1                       {}   \n1                           0                       {}   \n2                           0                       {}   \n3                           1                       {}   \n4                           0                       {}   \n\n  toplevel_local_load_ext_count  toplevel_external_load_ext  \\\n0                             0                  {MyMagics}   \n1                             0                          {}   \n2                             0                          {}   \n3                             0                {autoreload}   \n4                             0                          {}   \n\n  toplevel_external_load_ext_count  \n0                                1  \n1                                0  \n2                                0  \n3                                1  \n4                                0  \n\n[5 rows x 55 columns]",
      "text/html": "<div>\n<style scoped>\n    .dataframe tbody tr th:only-of-type {\n        vertical-align: middle;\n    }\n\n    .dataframe tbody tr th {\n        vertical-align: top;\n    }\n\n    .dataframe thead th {\n        text-align: right;\n    }\n</style>\n<table border=\"1\" class=\"dataframe\">\n  <thead>\n    <tr style=\"text-align: right;\">\n      <th></th>\n      <th>id</th>\n      <th>repository_id</th>\n      <th>notebook_id</th>\n      <th>index</th>\n      <th>index_count</th>\n      <th>any_any</th>\n      <th>any_any_count</th>\n      <th>local_any</th>\n      <th>local_any_count</th>\n      <th>external_any</th>\n      <th>...</th>\n      <th>toplevel_local_import</th>\n      <th>toplevel_local_import_count</th>\n      <th>toplevel_external_import</th>\n      <th>toplevel_external_import_count</th>\n      <th>toplevel_any_load_ext</th>\n      <th>toplevel_any_load_ext_count</th>\n      <th>toplevel_local_load_ext</th>\n      <th>toplevel_local_load_ext_count</th>\n      <th>toplevel_external_load_ext</th>\n      <th>toplevel_external_load_ext_count</th>\n    </tr>\n  </thead>\n  <tbody>\n    <tr>\n      <th>0</th>\n      <td>1</td>\n      <td>6</td>\n      <td>198</td>\n      <td>0,1,4,5</td>\n      <td>4</td>\n      <td>{pandas, featuretools, MyMagics, seaborn, nump...</td>\n      <td>9</td>\n      <td>{}</td>\n      <td>0</td>\n      <td>{pandas, featuretools, MyMagics, seaborn, nump...</td>\n      <td>...</td>\n      <td>{}</td>\n      <td>0</td>\n      <td>{pandas, matplotlib, featuretools, seaborn, nu...</td>\n      <td>5</td>\n      <td>{MyMagics}</td>\n      <td>1</td>\n      <td>{}</td>\n      <td>0</td>\n      <td>{MyMagics}</td>\n      <td>1</td>\n    </tr>\n    <tr>\n      <th>1</th>\n      <td>2</td>\n      <td>6</td>\n      <td>205</td>\n      <td>0</td>\n      <td>1</td>\n      <td>{pandas}</td>\n      <td>1</td>\n      <td>{}</td>\n      <td>0</td>\n      <td>{pandas}</td>\n      <td>...</td>\n      <td>{}</td>\n      <td>0</td>\n      <td>{pandas}</td>\n      <td>1</td>\n      <td>{}</td>\n      <td>0</td>\n      <td>{}</td>\n      <td>0</td>\n      <td>{}</td>\n      <td>0</td>\n    </tr>\n    <tr>\n      <th>2</th>\n      <td>3</td>\n      <td>6</td>\n      <td>206</td>\n      <td>0</td>\n      <td>1</td>\n      <td>{pandas, plotly.plotly, cufflinks, numpy, plot...</td>\n      <td>6</td>\n      <td>{}</td>\n      <td>0</td>\n      <td>{pandas, plotly.plotly, cufflinks, numpy, plot...</td>\n      <td>...</td>\n      <td>{}</td>\n      <td>0</td>\n      <td>{pandas, plotly, cufflinks, numpy}</td>\n      <td>4</td>\n      <td>{}</td>\n      <td>0</td>\n      <td>{}</td>\n      <td>0</td>\n      <td>{}</td>\n      <td>0</td>\n    </tr>\n    <tr>\n      <th>3</th>\n      <td>4</td>\n      <td>6</td>\n      <td>287</td>\n      <td>0</td>\n      <td>1</td>\n      <td>{pandas, plotly.plotly, autoreload, sys, cuffl...</td>\n      <td>9</td>\n      <td>{}</td>\n      <td>0</td>\n      <td>{pandas, plotly.plotly, autoreload, sys, cuffl...</td>\n      <td>...</td>\n      <td>{}</td>\n      <td>0</td>\n      <td>{pandas, sys, cufflinks, numpy, plotly}</td>\n      <td>5</td>\n      <td>{autoreload}</td>\n      <td>1</td>\n      <td>{}</td>\n      <td>0</td>\n      <td>{autoreload}</td>\n      <td>1</td>\n    </tr>\n    <tr>\n      <th>4</th>\n      <td>5</td>\n      <td>6</td>\n      <td>294</td>\n      <td>0</td>\n      <td>1</td>\n      <td>{pandas, plotly.plotly, scipy.misc, cufflinks,...</td>\n      <td>8</td>\n      <td>{}</td>\n      <td>0</td>\n      <td>{pandas, plotly.plotly, scipy.misc, cufflinks,...</td>\n      <td>...</td>\n      <td>{}</td>\n      <td>0</td>\n      <td>{pandas, plotly, cufflinks, numpy}</td>\n      <td>4</td>\n      <td>{}</td>\n      <td>0</td>\n      <td>{}</td>\n      <td>0</td>\n      <td>{}</td>\n      <td>0</td>\n    </tr>\n  </tbody>\n</table>\n<p>5 rows × 55 columns</p>\n</div>"
     },
     "execution_count": 16,
     "metadata": {},
     "output_type": "execute_result"
    }
   ],
   "source": [
    "columns = [\n",
    "    \"any_any\", \"local_any\", \"external_any\",\n",
    "    \"any_import_from\", \"local_import_from\", \"external_import_from\",\n",
    "    \"any_import\", \"local_import\", \"external_import\",\n",
    "    \"any_load_ext\", \"local_load_ext\", \"external_load_ext\",\n",
    "]\n",
    "count_columns = [c + \"_count\" for c in columns]\n",
    "for column in columns:\n",
    "    modules[column] = modules[column].apply(lambda c: {a for a in c.split(\",\") if a})\n",
    "    modules[\"toplevel_\" + column] = modules[column].apply(lambda imports: {\n",
    "        getitem(x.split(\".\"), 0, x) for x in imports\n",
    "    })\n",
    "    modules[\"toplevel_\" + column + \"_count\"] = modules[\"toplevel_\" + column].apply(len)\n",
    "\n",
    "modules.head(5)"
   ]
  },
  {
   "cell_type": "markdown",
   "metadata": {},
   "source": [
    "# Notebooks with modules"
   ]
  },
  {
   "cell_type": "code",
   "execution_count": 17,
   "metadata": {},
   "outputs": [
    {
     "data": {
      "text/plain": "'16 (4.89%)'"
     },
     "execution_count": 17,
     "metadata": {},
     "output_type": "execute_result"
    }
   ],
   "source": [
    "total_notebooks_with_modules = len(modules[modules[\"any_any_count\"] > 0])\n",
    "relative_var(\"notebooks_with_modules\", total_notebooks_with_modules, total_valid_python_notebooks)"
   ]
  },
  {
   "cell_type": "markdown",
   "metadata": {},
   "source": [
    "# Local vs External"
   ]
  },
  {
   "cell_type": "code",
   "execution_count": 18,
   "metadata": {},
   "outputs": [
    {
     "data": {
      "text/plain": "(1, 109)"
     },
     "execution_count": 18,
     "metadata": {},
     "output_type": "execute_result"
    }
   ],
   "source": [
    "local = modules[\"local_any_count\"].sum()\n",
    "external = modules[\"external_any_count\"].sum()\n",
    "local, external"
   ]
  },
  {
   "cell_type": "markdown",
   "metadata": {},
   "source": [
    "## By notebook"
   ]
  },
  {
   "cell_type": "code",
   "execution_count": 19,
   "metadata": {},
   "outputs": [],
   "source": [
    "local_notebook = modules[modules[\"local_any_count\"] > 0]\n",
    "external_notebook = modules[modules[\"external_any_count\"] > 0]"
   ]
  },
  {
   "cell_type": "markdown",
   "metadata": {},
   "source": [
    "### Local"
   ]
  },
  {
   "cell_type": "code",
   "execution_count": 20,
   "metadata": {},
   "outputs": [
    {
     "data": {
      "text/plain": "'1 (0.31%)'"
     },
     "execution_count": 20,
     "metadata": {},
     "output_type": "execute_result"
    }
   ],
   "source": [
    "relative_var(\"notebooks_with_local_modules\", len(local_notebook), total_valid_python_notebooks)"
   ]
  },
  {
   "cell_type": "markdown",
   "metadata": {},
   "source": [
    "### External"
   ]
  },
  {
   "cell_type": "code",
   "execution_count": 21,
   "metadata": {},
   "outputs": [
    {
     "data": {
      "text/plain": "'16 (4.89%)'"
     },
     "execution_count": 21,
     "metadata": {},
     "output_type": "execute_result"
    }
   ],
   "source": [
    "relative_var(\"notebooks_with_external_modules\", len(external_notebook), total_valid_python_notebooks)"
   ]
  },
  {
   "cell_type": "markdown",
   "metadata": {},
   "source": [
    "### Venn"
   ]
  },
  {
   "cell_type": "code",
   "execution_count": 22,
   "metadata": {},
   "outputs": [
    {
     "data": {
      "text/plain": "1"
     },
     "execution_count": 22,
     "metadata": {},
     "output_type": "execute_result"
    }
   ],
   "source": [
    "local_ids = set(local_notebook.index.tolist())\n",
    "external_ids = set(external_notebook.index.tolist())\n",
    "len(local_ids & external_ids)"
   ]
  },
  {
   "cell_type": "code",
   "execution_count": 23,
   "metadata": {},
   "outputs": [
    {
     "ename": "FileNotFoundError",
     "evalue": "[Errno 2] No such file or directory: '../outputs/notebook_module_external_local.svg'",
     "output_type": "error",
     "traceback": [
      "\u001B[0;31m---------------------------------------------------------------------------\u001B[0m",
      "\u001B[0;31mFileNotFoundError\u001B[0m                         Traceback (most recent call last)",
      "Cell \u001B[0;32mIn[23], line 10\u001B[0m\n\u001B[1;32m      8\u001B[0m xy \u001B[38;5;241m=\u001B[39m local_label\u001B[38;5;241m.\u001B[39mget_position()\n\u001B[1;32m      9\u001B[0m xy \u001B[38;5;241m=\u001B[39m (xy[\u001B[38;5;241m0\u001B[39m] \u001B[38;5;241m-\u001B[39m \u001B[38;5;241m0.06\u001B[39m, xy[\u001B[38;5;241m1\u001B[39m])\n\u001B[0;32m---> 10\u001B[0m local_label\u001B[38;5;241m.\u001B[39mset_position(xy)\n",
      "File \u001B[0;32m/usr/lib/python3.8/contextlib.py:120\u001B[0m, in \u001B[0;36m_GeneratorContextManager.__exit__\u001B[0;34m(self, type, value, traceback)\u001B[0m\n\u001B[1;32m    118\u001B[0m \u001B[38;5;28;01mif\u001B[39;00m \u001B[38;5;28mtype\u001B[39m \u001B[38;5;129;01mis\u001B[39;00m \u001B[38;5;28;01mNone\u001B[39;00m:\n\u001B[1;32m    119\u001B[0m     \u001B[38;5;28;01mtry\u001B[39;00m:\n\u001B[0;32m--> 120\u001B[0m         \u001B[38;5;28;43mnext\u001B[39;49m\u001B[43m(\u001B[49m\u001B[38;5;28;43mself\u001B[39;49m\u001B[38;5;241;43m.\u001B[39;49m\u001B[43mgen\u001B[49m\u001B[43m)\u001B[49m\n\u001B[1;32m    121\u001B[0m     \u001B[38;5;28;01mexcept\u001B[39;00m \u001B[38;5;167;01mStopIteration\u001B[39;00m:\n\u001B[1;32m    122\u001B[0m         \u001B[38;5;28;01mreturn\u001B[39;00m \u001B[38;5;28;01mFalse\u001B[39;00m\n",
      "File \u001B[0;32m~/Documentos/UFF/TCC/Repositórios/dsmining/dsmining/src/helpers/h4_analysis_helpers.py:244\u001B[0m, in \u001B[0;36msavefig\u001B[0;34m(name, width, height)\u001B[0m\n\u001B[1;32m    242\u001B[0m fig \u001B[38;5;241m=\u001B[39m plt\u001B[38;5;241m.\u001B[39mgcf()\n\u001B[1;32m    243\u001B[0m fig\u001B[38;5;241m.\u001B[39mset_size_inches(width, height)\n\u001B[0;32m--> 244\u001B[0m \u001B[43mfig\u001B[49m\u001B[38;5;241;43m.\u001B[39;49m\u001B[43msavefig\u001B[49m\u001B[43m(\u001B[49m\u001B[38;5;124;43m\"\u001B[39;49m\u001B[38;5;124;43m../outputs/\u001B[39;49m\u001B[38;5;132;43;01m{}\u001B[39;49;00m\u001B[38;5;124;43m.svg\u001B[39;49m\u001B[38;5;124;43m\"\u001B[39;49m\u001B[38;5;241;43m.\u001B[39;49m\u001B[43mformat\u001B[49m\u001B[43m(\u001B[49m\u001B[43mname\u001B[49m\u001B[43m)\u001B[49m\u001B[43m,\u001B[49m\u001B[43m \u001B[49m\u001B[43mbbox_inches\u001B[49m\u001B[38;5;241;43m=\u001B[39;49m\u001B[38;5;124;43m'\u001B[39;49m\u001B[38;5;124;43mtight\u001B[39;49m\u001B[38;5;124;43m'\u001B[39;49m\u001B[43m)\u001B[49m\n\u001B[1;32m    245\u001B[0m fig\u001B[38;5;241m.\u001B[39msavefig(\u001B[38;5;124m\"\u001B[39m\u001B[38;5;124m../outputs/\u001B[39m\u001B[38;5;132;01m{}\u001B[39;00m\u001B[38;5;124m.pdf\u001B[39m\u001B[38;5;124m\"\u001B[39m\u001B[38;5;241m.\u001B[39mformat(name), bbox_inches\u001B[38;5;241m=\u001B[39m\u001B[38;5;124m'\u001B[39m\u001B[38;5;124mtight\u001B[39m\u001B[38;5;124m'\u001B[39m)\n\u001B[1;32m    246\u001B[0m fig\u001B[38;5;241m.\u001B[39msavefig(\u001B[38;5;124m\"\u001B[39m\u001B[38;5;124m../outputs/\u001B[39m\u001B[38;5;132;01m{}\u001B[39;00m\u001B[38;5;124m.png\u001B[39m\u001B[38;5;124m\"\u001B[39m\u001B[38;5;241m.\u001B[39mformat(name), bbox_inches\u001B[38;5;241m=\u001B[39m\u001B[38;5;124m'\u001B[39m\u001B[38;5;124mtight\u001B[39m\u001B[38;5;124m'\u001B[39m)\n",
      "File \u001B[0;32m~/.local/share/virtualenvs/dsmining-KdUmiJCm/lib/python3.8/site-packages/matplotlib/figure.py:3274\u001B[0m, in \u001B[0;36mFigure.savefig\u001B[0;34m(self, fname, transparent, **kwargs)\u001B[0m\n\u001B[1;32m   3270\u001B[0m     \u001B[38;5;28;01mfor\u001B[39;00m ax \u001B[38;5;129;01min\u001B[39;00m \u001B[38;5;28mself\u001B[39m\u001B[38;5;241m.\u001B[39maxes:\n\u001B[1;32m   3271\u001B[0m         stack\u001B[38;5;241m.\u001B[39menter_context(\n\u001B[1;32m   3272\u001B[0m             ax\u001B[38;5;241m.\u001B[39mpatch\u001B[38;5;241m.\u001B[39m_cm_set(facecolor\u001B[38;5;241m=\u001B[39m\u001B[38;5;124m'\u001B[39m\u001B[38;5;124mnone\u001B[39m\u001B[38;5;124m'\u001B[39m, edgecolor\u001B[38;5;241m=\u001B[39m\u001B[38;5;124m'\u001B[39m\u001B[38;5;124mnone\u001B[39m\u001B[38;5;124m'\u001B[39m))\n\u001B[0;32m-> 3274\u001B[0m \u001B[38;5;28;43mself\u001B[39;49m\u001B[38;5;241;43m.\u001B[39;49m\u001B[43mcanvas\u001B[49m\u001B[38;5;241;43m.\u001B[39;49m\u001B[43mprint_figure\u001B[49m\u001B[43m(\u001B[49m\u001B[43mfname\u001B[49m\u001B[43m,\u001B[49m\u001B[43m \u001B[49m\u001B[38;5;241;43m*\u001B[39;49m\u001B[38;5;241;43m*\u001B[39;49m\u001B[43mkwargs\u001B[49m\u001B[43m)\u001B[49m\n",
      "File \u001B[0;32m~/.local/share/virtualenvs/dsmining-KdUmiJCm/lib/python3.8/site-packages/matplotlib/backend_bases.py:2338\u001B[0m, in \u001B[0;36mFigureCanvasBase.print_figure\u001B[0;34m(self, filename, dpi, facecolor, edgecolor, orientation, format, bbox_inches, pad_inches, bbox_extra_artists, backend, **kwargs)\u001B[0m\n\u001B[1;32m   2334\u001B[0m \u001B[38;5;28;01mtry\u001B[39;00m:\n\u001B[1;32m   2335\u001B[0m     \u001B[38;5;66;03m# _get_renderer may change the figure dpi (as vector formats\u001B[39;00m\n\u001B[1;32m   2336\u001B[0m     \u001B[38;5;66;03m# force the figure dpi to 72), so we need to set it again here.\u001B[39;00m\n\u001B[1;32m   2337\u001B[0m     \u001B[38;5;28;01mwith\u001B[39;00m cbook\u001B[38;5;241m.\u001B[39m_setattr_cm(\u001B[38;5;28mself\u001B[39m\u001B[38;5;241m.\u001B[39mfigure, dpi\u001B[38;5;241m=\u001B[39mdpi):\n\u001B[0;32m-> 2338\u001B[0m         result \u001B[38;5;241m=\u001B[39m \u001B[43mprint_method\u001B[49m\u001B[43m(\u001B[49m\n\u001B[1;32m   2339\u001B[0m \u001B[43m            \u001B[49m\u001B[43mfilename\u001B[49m\u001B[43m,\u001B[49m\n\u001B[1;32m   2340\u001B[0m \u001B[43m            \u001B[49m\u001B[43mfacecolor\u001B[49m\u001B[38;5;241;43m=\u001B[39;49m\u001B[43mfacecolor\u001B[49m\u001B[43m,\u001B[49m\n\u001B[1;32m   2341\u001B[0m \u001B[43m            \u001B[49m\u001B[43medgecolor\u001B[49m\u001B[38;5;241;43m=\u001B[39;49m\u001B[43medgecolor\u001B[49m\u001B[43m,\u001B[49m\n\u001B[1;32m   2342\u001B[0m \u001B[43m            \u001B[49m\u001B[43morientation\u001B[49m\u001B[38;5;241;43m=\u001B[39;49m\u001B[43morientation\u001B[49m\u001B[43m,\u001B[49m\n\u001B[1;32m   2343\u001B[0m \u001B[43m            \u001B[49m\u001B[43mbbox_inches_restore\u001B[49m\u001B[38;5;241;43m=\u001B[39;49m\u001B[43m_bbox_inches_restore\u001B[49m\u001B[43m,\u001B[49m\n\u001B[1;32m   2344\u001B[0m \u001B[43m            \u001B[49m\u001B[38;5;241;43m*\u001B[39;49m\u001B[38;5;241;43m*\u001B[39;49m\u001B[43mkwargs\u001B[49m\u001B[43m)\u001B[49m\n\u001B[1;32m   2345\u001B[0m \u001B[38;5;28;01mfinally\u001B[39;00m:\n\u001B[1;32m   2346\u001B[0m     \u001B[38;5;28;01mif\u001B[39;00m bbox_inches \u001B[38;5;129;01mand\u001B[39;00m restore_bbox:\n",
      "File \u001B[0;32m~/.local/share/virtualenvs/dsmining-KdUmiJCm/lib/python3.8/site-packages/matplotlib/backend_bases.py:2204\u001B[0m, in \u001B[0;36mFigureCanvasBase._switch_canvas_and_return_print_method.<locals>.<lambda>\u001B[0;34m(*args, **kwargs)\u001B[0m\n\u001B[1;32m   2200\u001B[0m     optional_kws \u001B[38;5;241m=\u001B[39m {  \u001B[38;5;66;03m# Passed by print_figure for other renderers.\u001B[39;00m\n\u001B[1;32m   2201\u001B[0m         \u001B[38;5;124m\"\u001B[39m\u001B[38;5;124mdpi\u001B[39m\u001B[38;5;124m\"\u001B[39m, \u001B[38;5;124m\"\u001B[39m\u001B[38;5;124mfacecolor\u001B[39m\u001B[38;5;124m\"\u001B[39m, \u001B[38;5;124m\"\u001B[39m\u001B[38;5;124medgecolor\u001B[39m\u001B[38;5;124m\"\u001B[39m, \u001B[38;5;124m\"\u001B[39m\u001B[38;5;124morientation\u001B[39m\u001B[38;5;124m\"\u001B[39m,\n\u001B[1;32m   2202\u001B[0m         \u001B[38;5;124m\"\u001B[39m\u001B[38;5;124mbbox_inches_restore\u001B[39m\u001B[38;5;124m\"\u001B[39m}\n\u001B[1;32m   2203\u001B[0m     skip \u001B[38;5;241m=\u001B[39m optional_kws \u001B[38;5;241m-\u001B[39m {\u001B[38;5;241m*\u001B[39minspect\u001B[38;5;241m.\u001B[39msignature(meth)\u001B[38;5;241m.\u001B[39mparameters}\n\u001B[0;32m-> 2204\u001B[0m     print_method \u001B[38;5;241m=\u001B[39m functools\u001B[38;5;241m.\u001B[39mwraps(meth)(\u001B[38;5;28;01mlambda\u001B[39;00m \u001B[38;5;241m*\u001B[39margs, \u001B[38;5;241m*\u001B[39m\u001B[38;5;241m*\u001B[39mkwargs: \u001B[43mmeth\u001B[49m\u001B[43m(\u001B[49m\n\u001B[1;32m   2205\u001B[0m \u001B[43m        \u001B[49m\u001B[38;5;241;43m*\u001B[39;49m\u001B[43margs\u001B[49m\u001B[43m,\u001B[49m\u001B[43m \u001B[49m\u001B[38;5;241;43m*\u001B[39;49m\u001B[38;5;241;43m*\u001B[39;49m\u001B[43m{\u001B[49m\u001B[43mk\u001B[49m\u001B[43m:\u001B[49m\u001B[43m \u001B[49m\u001B[43mv\u001B[49m\u001B[43m \u001B[49m\u001B[38;5;28;43;01mfor\u001B[39;49;00m\u001B[43m \u001B[49m\u001B[43mk\u001B[49m\u001B[43m,\u001B[49m\u001B[43m \u001B[49m\u001B[43mv\u001B[49m\u001B[43m \u001B[49m\u001B[38;5;129;43;01min\u001B[39;49;00m\u001B[43m \u001B[49m\u001B[43mkwargs\u001B[49m\u001B[38;5;241;43m.\u001B[39;49m\u001B[43mitems\u001B[49m\u001B[43m(\u001B[49m\u001B[43m)\u001B[49m\u001B[43m \u001B[49m\u001B[38;5;28;43;01mif\u001B[39;49;00m\u001B[43m \u001B[49m\u001B[43mk\u001B[49m\u001B[43m \u001B[49m\u001B[38;5;129;43;01mnot\u001B[39;49;00m\u001B[43m \u001B[49m\u001B[38;5;129;43;01min\u001B[39;49;00m\u001B[43m \u001B[49m\u001B[43mskip\u001B[49m\u001B[43m}\u001B[49m\u001B[43m)\u001B[49m)\n\u001B[1;32m   2206\u001B[0m \u001B[38;5;28;01melse\u001B[39;00m:  \u001B[38;5;66;03m# Let third-parties do as they see fit.\u001B[39;00m\n\u001B[1;32m   2207\u001B[0m     print_method \u001B[38;5;241m=\u001B[39m meth\n",
      "File \u001B[0;32m~/.local/share/virtualenvs/dsmining-KdUmiJCm/lib/python3.8/site-packages/matplotlib/_api/deprecation.py:410\u001B[0m, in \u001B[0;36mdelete_parameter.<locals>.wrapper\u001B[0;34m(*inner_args, **inner_kwargs)\u001B[0m\n\u001B[1;32m    400\u001B[0m     deprecation_addendum \u001B[38;5;241m=\u001B[39m (\n\u001B[1;32m    401\u001B[0m         \u001B[38;5;124mf\u001B[39m\u001B[38;5;124m\"\u001B[39m\u001B[38;5;124mIf any parameter follows \u001B[39m\u001B[38;5;132;01m{\u001B[39;00mname\u001B[38;5;132;01m!r}\u001B[39;00m\u001B[38;5;124m, they should be passed as \u001B[39m\u001B[38;5;124m\"\u001B[39m\n\u001B[1;32m    402\u001B[0m         \u001B[38;5;124mf\u001B[39m\u001B[38;5;124m\"\u001B[39m\u001B[38;5;124mkeyword, not positionally.\u001B[39m\u001B[38;5;124m\"\u001B[39m)\n\u001B[1;32m    403\u001B[0m     warn_deprecated(\n\u001B[1;32m    404\u001B[0m         since,\n\u001B[1;32m    405\u001B[0m         name\u001B[38;5;241m=\u001B[39m\u001B[38;5;28mrepr\u001B[39m(name),\n\u001B[0;32m   (...)\u001B[0m\n\u001B[1;32m    408\u001B[0m                  \u001B[38;5;28;01melse\u001B[39;00m deprecation_addendum,\n\u001B[1;32m    409\u001B[0m         \u001B[38;5;241m*\u001B[39m\u001B[38;5;241m*\u001B[39mkwargs)\n\u001B[0;32m--> 410\u001B[0m \u001B[38;5;28;01mreturn\u001B[39;00m \u001B[43mfunc\u001B[49m\u001B[43m(\u001B[49m\u001B[38;5;241;43m*\u001B[39;49m\u001B[43minner_args\u001B[49m\u001B[43m,\u001B[49m\u001B[43m \u001B[49m\u001B[38;5;241;43m*\u001B[39;49m\u001B[38;5;241;43m*\u001B[39;49m\u001B[43minner_kwargs\u001B[49m\u001B[43m)\u001B[49m\n",
      "File \u001B[0;32m~/.local/share/virtualenvs/dsmining-KdUmiJCm/lib/python3.8/site-packages/matplotlib/backends/backend_svg.py:1389\u001B[0m, in \u001B[0;36mFigureCanvasSVG.print_svg\u001B[0;34m(self, filename, bbox_inches_restore, metadata, *args)\u001B[0m\n\u001B[1;32m   1355\u001B[0m \u001B[38;5;129m@_api\u001B[39m\u001B[38;5;241m.\u001B[39mdelete_parameter(\u001B[38;5;124m\"\u001B[39m\u001B[38;5;124m3.5\u001B[39m\u001B[38;5;124m\"\u001B[39m, \u001B[38;5;124m\"\u001B[39m\u001B[38;5;124margs\u001B[39m\u001B[38;5;124m\"\u001B[39m)\n\u001B[1;32m   1356\u001B[0m \u001B[38;5;28;01mdef\u001B[39;00m \u001B[38;5;21mprint_svg\u001B[39m(\u001B[38;5;28mself\u001B[39m, filename, \u001B[38;5;241m*\u001B[39margs, bbox_inches_restore\u001B[38;5;241m=\u001B[39m\u001B[38;5;28;01mNone\u001B[39;00m,\n\u001B[1;32m   1357\u001B[0m               metadata\u001B[38;5;241m=\u001B[39m\u001B[38;5;28;01mNone\u001B[39;00m):\n\u001B[1;32m   1358\u001B[0m     \u001B[38;5;124;03m\"\"\"\u001B[39;00m\n\u001B[1;32m   1359\u001B[0m \u001B[38;5;124;03m    Parameters\u001B[39;00m\n\u001B[1;32m   1360\u001B[0m \u001B[38;5;124;03m    ----------\u001B[39;00m\n\u001B[0;32m   (...)\u001B[0m\n\u001B[1;32m   1387\u001B[0m \u001B[38;5;124;03m        __ DC_\u001B[39;00m\n\u001B[1;32m   1388\u001B[0m \u001B[38;5;124;03m    \"\"\"\u001B[39;00m\n\u001B[0;32m-> 1389\u001B[0m     \u001B[38;5;28;01mwith\u001B[39;00m \u001B[43mcbook\u001B[49m\u001B[38;5;241;43m.\u001B[39;49m\u001B[43mopen_file_cm\u001B[49m\u001B[43m(\u001B[49m\u001B[43mfilename\u001B[49m\u001B[43m,\u001B[49m\u001B[43m \u001B[49m\u001B[38;5;124;43m\"\u001B[39;49m\u001B[38;5;124;43mw\u001B[39;49m\u001B[38;5;124;43m\"\u001B[39;49m\u001B[43m,\u001B[49m\u001B[43m \u001B[49m\u001B[43mencoding\u001B[49m\u001B[38;5;241;43m=\u001B[39;49m\u001B[38;5;124;43m\"\u001B[39;49m\u001B[38;5;124;43mutf-8\u001B[39;49m\u001B[38;5;124;43m\"\u001B[39;49m\u001B[43m)\u001B[49m \u001B[38;5;28;01mas\u001B[39;00m fh:\n\u001B[1;32m   1390\u001B[0m         \u001B[38;5;28;01mif\u001B[39;00m \u001B[38;5;129;01mnot\u001B[39;00m cbook\u001B[38;5;241m.\u001B[39mfile_requires_unicode(fh):\n\u001B[1;32m   1391\u001B[0m             fh \u001B[38;5;241m=\u001B[39m codecs\u001B[38;5;241m.\u001B[39mgetwriter(\u001B[38;5;124m'\u001B[39m\u001B[38;5;124mutf-8\u001B[39m\u001B[38;5;124m'\u001B[39m)(fh)\n",
      "File \u001B[0;32m~/.local/share/virtualenvs/dsmining-KdUmiJCm/lib/python3.8/site-packages/matplotlib/cbook/__init__.py:506\u001B[0m, in \u001B[0;36mopen_file_cm\u001B[0;34m(path_or_file, mode, encoding)\u001B[0m\n\u001B[1;32m    504\u001B[0m \u001B[38;5;28;01mdef\u001B[39;00m \u001B[38;5;21mopen_file_cm\u001B[39m(path_or_file, mode\u001B[38;5;241m=\u001B[39m\u001B[38;5;124m\"\u001B[39m\u001B[38;5;124mr\u001B[39m\u001B[38;5;124m\"\u001B[39m, encoding\u001B[38;5;241m=\u001B[39m\u001B[38;5;28;01mNone\u001B[39;00m):\n\u001B[1;32m    505\u001B[0m     \u001B[38;5;124mr\u001B[39m\u001B[38;5;124;03m\"\"\"Pass through file objects and context-manage path-likes.\"\"\"\u001B[39;00m\n\u001B[0;32m--> 506\u001B[0m     fh, opened \u001B[38;5;241m=\u001B[39m \u001B[43mto_filehandle\u001B[49m\u001B[43m(\u001B[49m\u001B[43mpath_or_file\u001B[49m\u001B[43m,\u001B[49m\u001B[43m \u001B[49m\u001B[43mmode\u001B[49m\u001B[43m,\u001B[49m\u001B[43m \u001B[49m\u001B[38;5;28;43;01mTrue\u001B[39;49;00m\u001B[43m,\u001B[49m\u001B[43m \u001B[49m\u001B[43mencoding\u001B[49m\u001B[43m)\u001B[49m\n\u001B[1;32m    507\u001B[0m     \u001B[38;5;28;01mreturn\u001B[39;00m fh \u001B[38;5;28;01mif\u001B[39;00m opened \u001B[38;5;28;01melse\u001B[39;00m contextlib\u001B[38;5;241m.\u001B[39mnullcontext(fh)\n",
      "File \u001B[0;32m~/.local/share/virtualenvs/dsmining-KdUmiJCm/lib/python3.8/site-packages/matplotlib/cbook/__init__.py:492\u001B[0m, in \u001B[0;36mto_filehandle\u001B[0;34m(fname, flag, return_opened, encoding)\u001B[0m\n\u001B[1;32m    490\u001B[0m         fh \u001B[38;5;241m=\u001B[39m bz2\u001B[38;5;241m.\u001B[39mBZ2File(fname, flag)\n\u001B[1;32m    491\u001B[0m     \u001B[38;5;28;01melse\u001B[39;00m:\n\u001B[0;32m--> 492\u001B[0m         fh \u001B[38;5;241m=\u001B[39m \u001B[38;5;28;43mopen\u001B[39;49m\u001B[43m(\u001B[49m\u001B[43mfname\u001B[49m\u001B[43m,\u001B[49m\u001B[43m \u001B[49m\u001B[43mflag\u001B[49m\u001B[43m,\u001B[49m\u001B[43m \u001B[49m\u001B[43mencoding\u001B[49m\u001B[38;5;241;43m=\u001B[39;49m\u001B[43mencoding\u001B[49m\u001B[43m)\u001B[49m\n\u001B[1;32m    493\u001B[0m     opened \u001B[38;5;241m=\u001B[39m \u001B[38;5;28;01mTrue\u001B[39;00m\n\u001B[1;32m    494\u001B[0m \u001B[38;5;28;01melif\u001B[39;00m \u001B[38;5;28mhasattr\u001B[39m(fname, \u001B[38;5;124m'\u001B[39m\u001B[38;5;124mseek\u001B[39m\u001B[38;5;124m'\u001B[39m):\n",
      "\u001B[0;31mFileNotFoundError\u001B[0m: [Errno 2] No such file or directory: '../outputs/notebook_module_external_local.svg'"
     ]
    },
    {
     "data": {
      "text/plain": "<Figure size 800x600 with 1 Axes>",
      "image/png": "[encoded data removed]"
     },
     "metadata": {},
     "output_type": "display_data"
    }
   ],
   "source": [
    "with savefig(\"notebook_module_external_local\", 8, 6):\n",
    "    fig = plt.figure()\n",
    "    ax = fig.add_subplot(111)\n",
    "    venn = venn2(subsets=(local_ids, external_ids), set_labels=('local', 'external'), ax=ax)\n",
    "    for label in venn.subset_labels:\n",
    "        label.set_text(\"{0:,g}\".format(int(label.get_text())))\n",
    "    local_label = venn.subset_labels[0]\n",
    "    xy = local_label.get_position()\n",
    "    xy = (xy[0] - 0.06, xy[1])\n",
    "    local_label.set_position(xy)\n"
   ]
  },
  {
   "cell_type": "markdown",
   "metadata": {},
   "source": [
    "# Import Type\n",
    "\n",
    "* import: `import numpy`\n",
    "* import_from: `from sklearn import datasets`\n",
    "* load_ext: `%load_ext autoreload`\n"
   ]
  },
  {
   "cell_type": "code",
   "execution_count": null,
   "metadata": {
    "code_folding": []
   },
   "outputs": [],
   "source": [
    "count = modules[[\"any_import_count\", \"any_import_from_count\", \"any_load_ext_count\"]].sum().rename(\n",
    "    lambda x: x[:-6]\n",
    ").sort_values(ascending=False)\n",
    "\n",
    "fig, counts = display_counts(count, width=4, show_values=True, template=\"{0:,}\", plot=False, logy=False)\n",
    "ax = plt.gca()\n",
    "ax.legend().set_visible(False)\n",
    "ax.set_xticklabels(ax.get_xticklabels(), rotation=50, ha=\"right\")\n",
    "plt.show()\n",
    "display(counts)\n"
   ]
  },
  {
   "cell_type": "markdown",
   "metadata": {},
   "source": [
    "## Local"
   ]
  },
  {
   "cell_type": "code",
   "execution_count": null,
   "metadata": {},
   "outputs": [],
   "source": [
    "count = modules[[\"local_import_count\", \"local_import_from_count\", \"local_load_ext_count\"]].sum().rename(\n",
    "    lambda x: x[:-6]\n",
    ").sort_values(ascending=False)\n",
    "\n",
    "fig, counts = display_counts(count, width=4, show_values=True, template=\"{0:,}\", plot=False, logy=False)\n",
    "ax = plt.gca()\n",
    "ax.legend().set_visible(False)\n",
    "ax.set_xticklabels(ax.get_xticklabels(), rotation=50, ha=\"right\")\n",
    "plt.show()\n",
    "display(counts)"
   ]
  },
  {
   "cell_type": "markdown",
   "metadata": {},
   "source": [
    "## External"
   ]
  },
  {
   "cell_type": "code",
   "execution_count": null,
   "metadata": {},
   "outputs": [],
   "source": [
    "count = modules[[\"external_import_count\", \"external_import_from_count\", \"external_load_ext_count\"]].sum().rename(\n",
    "    lambda x: x[:-6]\n",
    ").sort_values(ascending=False)\n",
    "\n",
    "fig, counts = display_counts(count, width=4, show_values=True, template=\"{0:,}\", plot=False, logy=False)\n",
    "ax = plt.gca()\n",
    "ax.legend().set_visible(False)\n",
    "ax.set_xticklabels(ax.get_xticklabels(), rotation=50, ha=\"right\")\n",
    "plt.show()\n",
    "display(counts)"
   ]
  },
  {
   "cell_type": "markdown",
   "metadata": {},
   "source": [
    "# Which modules"
   ]
  },
  {
   "cell_type": "markdown",
   "metadata": {},
   "source": [
    "## General"
   ]
  },
  {
   "cell_type": "markdown",
   "metadata": {},
   "source": [
    "### Full import"
   ]
  },
  {
   "cell_type": "code",
   "execution_count": null,
   "metadata": {
    "scrolled": false
   },
   "outputs": [],
   "source": [
    "counter = Counter()\n",
    "modules[\"any_any\"].agg(lambda x: counter.update(x))\n",
    "del counter['']\n",
    "counts = pd.Series(counter).sort_values(ascending=False)\n",
    "with savefig(\"notebook_module_full_import\", 8, 6):\n",
    "    fig, cnt = display_counts(\n",
    "        counts, width=20, show_values=True, plot=False,\n",
    "        cut=slice(None, 10), logy=False\n",
    "    )\n",
    "    display(cnt)\n",
    "    ax = plt.gca()\n",
    "    ax.set_xticklabels(ax.get_xticklabels(), rotation=50, ha=\"right\")\n",
    "    ax.legend().set_visible(False)"
   ]
  },
  {
   "cell_type": "markdown",
   "metadata": {},
   "source": [
    "### Toplevel"
   ]
  },
  {
   "cell_type": "code",
   "execution_count": null,
   "metadata": {},
   "outputs": [],
   "source": [
    "counter = Counter()\n",
    "modules[\"toplevel_any_any\"].agg(lambda x: counter.update(x))\n",
    "del counter['']\n",
    "counts = pd.Series(counter).sort_values(ascending=False)\n",
    "with savefig(\"notebook_module_toplevel\", 11, 5):\n",
    "    fig, cnt = display_counts(\n",
    "        counts, width=20, show_values=True, plot=False,\n",
    "        cut=slice(None, 10), logy=False\n",
    "    )\n",
    "    display(cnt)\n",
    "    ax = plt.gca()\n",
    "    ax.set_xticklabels(ax.get_xticklabels(), rotation=50, ha=\"right\")\n",
    "    ax.legend().set_visible(False)\n",
    "    ax.set_ylabel(\"Notebooks\")\n",
    "    ax.set_xlabel(\"Modules\")\n",
    "    ax.xaxis.labelpad = -15\n",
    "    #ax.yaxis.labelpad = -15"
   ]
  },
  {
   "cell_type": "markdown",
   "metadata": {},
   "source": [
    "#### Percentage"
   ]
  },
  {
   "cell_type": "code",
   "execution_count": null,
   "metadata": {},
   "outputs": [],
   "source": [
    "ncounts = counts / total_valid_python_notebooks * 100\n",
    "with savefig(\"notebook_module_toplevel_percentage\", 11, 5):\n",
    "    fig, cnt = display_counts(\n",
    "        ncounts, width=20, show_values=True, plot=False,\n",
    "        cut=slice(None, 15), logy=False, template=\"{}%\"\n",
    "    )\n",
    "    display(cnt)\n",
    "    ax = plt.gca()\n",
    "    ax.set_xticklabels(ax.get_xticklabels(), rotation=50, ha=\"right\")\n",
    "    ax.legend().set_visible(False)\n",
    "    ax.set_ylabel(\"% of Notebooks\")\n",
    "    ax.set_xlabel(\"Modules\")"
   ]
  },
  {
   "cell_type": "markdown",
   "metadata": {},
   "source": [
    "## import"
   ]
  },
  {
   "cell_type": "markdown",
   "metadata": {},
   "source": [
    "### Full import"
   ]
  },
  {
   "cell_type": "code",
   "execution_count": null,
   "metadata": {
    "scrolled": true
   },
   "outputs": [],
   "source": [
    "counter = Counter()\n",
    "modules[\"any_import\"].agg(lambda x: counter.update(x))\n",
    "del counter['']\n",
    "counts = pd.Series(counter).sort_values(ascending=False)\n",
    "with savefig(\"notebook_module_import_full_import\", 8, 6):\n",
    "    fig, cnt = display_counts(\n",
    "        counts, width=20, show_values=True, plot=False,\n",
    "        cut=slice(None, 10), logy=False\n",
    "    )\n",
    "    display(cnt)\n",
    "    ax = plt.gca()\n",
    "    ax.set_xticklabels(ax.get_xticklabels(), rotation=50, ha=\"right\")\n",
    "    ax.legend().set_visible(False)\n"
   ]
  },
  {
   "cell_type": "markdown",
   "metadata": {},
   "source": [
    "### Toplevel"
   ]
  },
  {
   "cell_type": "code",
   "execution_count": null,
   "metadata": {},
   "outputs": [],
   "source": [
    "counter = Counter()\n",
    "modules[\"toplevel_any_import\"].agg(lambda x: counter.update(x))\n",
    "del counter['']\n",
    "counts = pd.Series(counter).sort_values(ascending=False)\n",
    "with savefig(\"notebook_module_import_toplevel\", 8, 6):\n",
    "    fig, cnt = display_counts(\n",
    "        counts, width=20, show_values=True, plot=False,\n",
    "        cut=slice(None, 10), logy=False\n",
    "    )\n",
    "    display(cnt)\n",
    "    ax = plt.gca()\n",
    "    ax.set_xticklabels(ax.get_xticklabels(), rotation=50, ha=\"right\")\n",
    "    ax.legend().set_visible(False)\n"
   ]
  },
  {
   "cell_type": "markdown",
   "metadata": {
    "collapsed": true
   },
   "source": [
    "## import_from"
   ]
  },
  {
   "cell_type": "markdown",
   "metadata": {},
   "source": [
    "### Full import"
   ]
  },
  {
   "cell_type": "code",
   "execution_count": null,
   "metadata": {
    "scrolled": true
   },
   "outputs": [],
   "source": [
    "counter = Counter()\n",
    "modules[\"any_import_from\"].agg(lambda x: counter.update(x))\n",
    "del counter['']\n",
    "counts = pd.Series(counter).sort_values(ascending=False)\n",
    "with savefig(\"notebook_module_import_from_full_import\", 8, 6):\n",
    "    fig, cnt = display_counts(\n",
    "        counts, width=20, show_values=True, plot=False,\n",
    "        cut=slice(None, 10), logy=False\n",
    "    )\n",
    "    display(cnt)\n",
    "    ax = plt.gca()\n",
    "    ax.set_xticklabels(ax.get_xticklabels(), rotation=50, ha=\"right\")\n",
    "    ax.legend().set_visible(False)\n"
   ]
  },
  {
   "cell_type": "markdown",
   "metadata": {},
   "source": [
    "### Toplevel"
   ]
  },
  {
   "cell_type": "code",
   "execution_count": null,
   "metadata": {},
   "outputs": [],
   "source": [
    "counter = Counter()\n",
    "modules[\"toplevel_any_import_from\"].agg(lambda x: counter.update(x))\n",
    "del counter['']\n",
    "counts = pd.Series(counter).sort_values(ascending=False)\n",
    "with savefig(\"notebook_module_import_from_toplevel\", 8, 6):\n",
    "    fig, cnt = display_counts(\n",
    "        counts, width=20, show_values=True, plot=False,\n",
    "        cut=slice(None, 10), logy=False\n",
    "    )\n",
    "    display(cnt)\n",
    "    ax = plt.gca()\n",
    "    ax.set_xticklabels(ax.get_xticklabels(), rotation=50, ha=\"right\")\n",
    "    ax.legend().set_visible(False)\n"
   ]
  },
  {
   "cell_type": "markdown",
   "metadata": {},
   "source": [
    "## load_ext"
   ]
  },
  {
   "cell_type": "markdown",
   "metadata": {},
   "source": [
    "### Full import"
   ]
  },
  {
   "cell_type": "code",
   "execution_count": null,
   "metadata": {
    "scrolled": true
   },
   "outputs": [],
   "source": [
    "counter = Counter()\n",
    "modules[\"any_load_ext\"].agg(lambda x: counter.update(x))\n",
    "del counter['']\n",
    "counts = pd.Series(counter).sort_values(ascending=False)\n",
    "with savefig(\"notebook_module_load_ext_full_import\", 8, 6):\n",
    "    fig, cnt = display_counts(\n",
    "        counts, width=20, show_values=True, plot=False,\n",
    "        cut=slice(None, 10), logy=False\n",
    "    )\n",
    "    display(cnt)\n",
    "    ax = plt.gca()\n",
    "    ax.legend().set_visible(False)\n"
   ]
  },
  {
   "cell_type": "markdown",
   "metadata": {},
   "source": [
    "### Toplevel"
   ]
  },
  {
   "cell_type": "code",
   "execution_count": null,
   "metadata": {},
   "outputs": [],
   "source": [
    "counter = Counter()\n",
    "modules[\"toplevel_any_load_ext\"].agg(lambda x: counter.update(x))\n",
    "del counter['']\n",
    "counts = pd.Series(counter).sort_values(ascending=False)\n",
    "with savefig(\"notebook_module_load_ext_toplevel\", 8, 6):\n",
    "    fig, cnt = display_counts(\n",
    "        counts, width=20, show_values=True, plot=False,\n",
    "        cut=slice(None, 10), logy=False\n",
    "    )\n",
    "    display(cnt)\n",
    "    ax = plt.gca()\n",
    "    ax.set_xticklabels(ax.get_xticklabels(), rotation=50, ha=\"right\")\n",
    "    ax.legend().set_visible(False)\n"
   ]
  },
  {
   "cell_type": "markdown",
   "metadata": {},
   "source": [
    "# Test-related modules"
   ]
  },
  {
   "cell_type": "code",
   "execution_count": null,
   "metadata": {},
   "outputs": [],
   "source": [
    "counter = Counter()\n",
    "modules[\"any_any\"].agg(lambda x: counter.update({\n",
    "    y for y in x\n",
    "    if \"test\" in y\n",
    "    or \"TEST\" in y\n",
    "    or \"Test\" in y\n",
    "}))\n",
    "del counter['']\n",
    "counts = pd.Series(counter, dtype='float64').sort_values(ascending=False)\n",
    "if len(counts) > 0:\n",
    "    with savefig(\"notebook_tests\", 8, 4):\n",
    "        fig, cnt = display_counts(\n",
    "            counts, width=20, show_values=True, plot=False,\n",
    "            cut=slice(None, 15), logy=False\n",
    "        )\n",
    "        display(cnt)\n",
    "        ax = plt.gca()\n",
    "        ax.set_xticklabels(ax.get_xticklabels(), rotation=50, ha=\"right\")\n",
    "        ax.legend().set_visible(False)\n"
   ]
  },
  {
   "cell_type": "code",
   "execution_count": null,
   "metadata": {},
   "outputs": [],
   "source": [
    "relative_var(\n",
    "    \"notebooks_with_test\",\n",
    "    len(modules[modules[\"any_any\"].apply(lambda x: any((\n",
    "        \"test\" in y\n",
    "        or \"TEST\" in y\n",
    "        or \"Test\" in y\n",
    "    ) for y in x))]),\n",
    "    total_valid_python_notebooks\n",
    ")"
   ]
  },
  {
   "cell_type": "code",
   "execution_count": null,
   "metadata": {},
   "outputs": [],
   "source": [
    "relative_var(\n",
    "    \"notebooks_with_unittest\", \n",
    "    len(modules[modules[\"any_any\"].apply(lambda x: \"unittest\" in x)]),\n",
    "    total_valid_python_notebooks\n",
    ")"
   ]
  }
 ],
 "metadata": {
  "kernelspec": {
   "display_name": "Python 3",
   "language": "python",
   "name": "python3"
  },
  "language_info": {
   "codemirror_mode": {
    "name": "ipython",
    "version": 3
   },
   "file_extension": ".py",
   "mimetype": "text/x-python",
   "name": "python",
   "nbconvert_exporter": "python",
   "pygments_lexer": "ipython3",
   "version": "3.6.8"
  },
  "notify_time": "5",
  "toc": {
   "base_numbering": 1,
   "nav_menu": {
    "height": "234px",
    "width": "251px"
   },
   "number_sections": true,
   "sideBar": false,
   "skip_h1_title": false,
   "title_cell": "Table of Contents",
   "title_sidebar": "Contents",
   "toc_cell": true,
   "toc_position": {
    "height": "690px",
    "left": "24px",
    "right": "1209px",
    "top": "113px",
    "width": "201px"
   },
   "toc_section_display": true,
   "toc_window_display": true
  }
 },
 "nbformat": 4,
 "nbformat_minor": 2
}
