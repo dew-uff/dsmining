{
 "cells": [
  {
   "cell_type": "code",
   "execution_count": null,
   "outputs": [],
   "source": [
    "import pandas as pd\n",
    "from sqlalchemy.orm import sessionmaker\n",
    "from src.db.database import connect\n",
    "from src.config.states import *\n",
    "from src.db.database import Repository"
   ],
   "metadata": {
    "collapsed": false
   }
  },
  {
   "cell_type": "code",
   "execution_count": null,
   "outputs": [],
   "source": [
    "with connect() as session:\n",
    "    repositories = pd.read_sql_table(\"repositories\", session.connection())\n",
    "    total = len(repositories)\n",
    "    print(\"A total of {} repositories were retrieved \".format(total))"
   ],
   "metadata": {
    "collapsed": false
   }
  },
  {
   "cell_type": "code",
   "execution_count": null,
   "outputs": [],
   "source": [
    "display(repositories.state.value_counts())"
   ],
   "metadata": {
    "collapsed": false
   }
  },
  {
   "cell_type": "code",
   "execution_count": null,
   "outputs": [],
   "source": [
    "selected = repositories[repositories.state==REP_SELECTED].copy()\n",
    "selected[\"disk_usage\"] = selected[\"disk_usage\"].astype(int)\n",
    "\n",
    "print(\n",
    "    \"Disk Usage for the {} repositories is estimated to be:\\n\"\n",
    "    \"\\033[92m{} KB - {:.2f} MB - {:.2f} GB - {:.2f} TB\\033[0m\\n\"\n",
    "    .format(\n",
    "        len(selected),\n",
    "        selected.disk_usage.sum(),\n",
    "        selected.disk_usage.sum() / 10 ** 3,\n",
    "        selected.disk_usage.sum() / 10 ** 6,\n",
    "        selected.disk_usage.sum() / 10 ** 9\n",
    "    )\n",
    ")\n",
    "\n",
    "partitions = 3\n",
    "print(\"Spliting in {} partitions, each will process {:.2f} GB\".format(partitions, selected.disk_usage.sum()/ 10 ** 6 / 3))"
   ],
   "metadata": {
    "collapsed": false
   }
  },
  {
   "cell_type": "code",
   "execution_count": null,
   "outputs": [],
   "source": [
    "selected['cumulative_sum'] = selected['disk_usage'].cumsum()\n",
    "partition_size = selected.disk_usage.sum() / 3\n",
    "split_points = [partition_size, partition_size * 2]\n",
    "\n",
    "selected_part1 = selected[selected['cumulative_sum'] <= split_points[0]].copy()\n",
    "selected_part2 = selected[(selected['cumulative_sum'] > split_points[0]) & (selected['cumulative_sum'] <= split_points[1])].copy()\n",
    "selected_part3 = selected[selected['cumulative_sum'] > split_points[1]].copy()\n",
    "display(selected_part1, selected_part2, selected_part3)"
   ],
   "metadata": {
    "collapsed": false
   }
  },
  {
   "cell_type": "code",
   "execution_count": null,
   "outputs": [],
   "source": [
    "import os\n",
    "from src.db.database import Base\n",
    "from src.config.consts import DB_DIR\n",
    "from sqlalchemy import create_engine\n",
    "engine1 = create_engine(\"sqlite:////{}part1_dsmining.sqlite\".format(DB_DIR + os.sep), convert_unicode=True, echo=False)\n",
    "engine2 = create_engine(\"sqlite:////{}part2_dsmining.sqlite\".format(DB_DIR + os.sep), convert_unicode=True, echo=False)\n",
    "engine3 = create_engine(\"sqlite:////{}part3_dsmining.sqlite\".format(DB_DIR + os.sep), convert_unicode=True, echo=False)\n",
    "Base.metadata.create_all(engine1)\n",
    "Base.metadata.create_all(engine2)\n",
    "Base.metadata.create_all(engine3);"
   ],
   "metadata": {
    "collapsed": false
   }
  },
  {
   "cell_type": "code",
   "execution_count": null,
   "outputs": [],
   "source": [
    "part1_data = selected_part1.to_dict(orient='records')\n",
    "Session1 = sessionmaker(bind=engine1)\n",
    "session1 = Session1()\n",
    "session1.execute(\"INSERT INTO sqlite_sequence (name, seq) VALUES \"\n",
    "                 \"('cell_data_ios', 100000000000),\"\n",
    "                 \"('cell_markdown_features', 100000000000),\"\n",
    "                 \"('cell_modules', 100000000000),\"\n",
    "                 \"('cells', 100000000000),\"\n",
    "                 \"('commits', 100000000000),\"\n",
    "                 \"('data_ios', 100000000000),\"\n",
    "                 \"('extractions', 100000000000),\"\n",
    "                 \"('modules', 100000000000),\"\n",
    "                 \"('notebook_markdowns', 100000000000),\"\n",
    "                 \"('notebooks', 100000000000),\"\n",
    "                 \"('python_file_data_ios', 100000000000),\"\n",
    "                 \"('python_file_modules', 100000000000),\"\n",
    "                 \"('python_files', 100000000000),\"\n",
    "                 \"('requirement_files', 100000000000);\")\n",
    "session1.bulk_insert_mappings(Repository, part1_data)\n",
    "session1.commit()\n",
    "session1.close()"
   ],
   "metadata": {
    "collapsed": false
   }
  },
  {
   "cell_type": "code",
   "execution_count": null,
   "outputs": [],
   "source": [
    "part2_data = selected_part2.to_dict(orient='records')\n",
    "Session2 = sessionmaker(bind=engine2)\n",
    "session2 = Session2()\n",
    "session2.execute(\"INSERT INTO sqlite_sequence (name, seq) VALUES \"\n",
    "                 \"('cell_data_ios', 200000000000),\"\n",
    "                 \"('cell_markdown_features', 200000000000),\"\n",
    "                 \"('cell_modules', 200000000000),\"\n",
    "                 \"('cells', 200000000000),\"\n",
    "                 \"('commits', 200000000000),\"\n",
    "                 \"('data_ios', 200000000000),\"\n",
    "                 \"('extractions', 200000000000),\"\n",
    "                 \"('modules', 200000000000),\"\n",
    "                 \"('notebook_markdowns', 200000000000),\"\n",
    "                 \"('notebooks', 200000000000),\"\n",
    "                 \"('python_file_data_ios', 200000000000),\"\n",
    "                 \"('python_file_modules', 200000000000),\"\n",
    "                 \"('python_files', 200000000000),\"\n",
    "                 \"('requirement_files', 200000000000);\")\n",
    "session2.bulk_insert_mappings(Repository, part2_data)\n",
    "session2.commit()"
   ],
   "metadata": {
    "collapsed": false
   }
  },
  {
   "cell_type": "code",
   "execution_count": null,
   "outputs": [],
   "source": [
    "selected_part3.loc[selected_part3['id'] == 326419, 'git_pushed_at'] = '2023-03-27 11:06:07'\n",
    "selected_part3.loc[selected_part3['id'] == 326458, 'git_pushed_at'] = '2023-03-26 23:11:42'\n",
    "selected_part3.loc[selected_part3['id'] == 326481, 'git_pushed_at'] = '2023-03-27 00:43:24'\n",
    "part3_data = selected_part3.to_dict(orient='records')\n",
    "Session3 = sessionmaker(bind=engine3)\n",
    "session3 = Session3()\n",
    "session3.execute(\"INSERT INTO sqlite_sequence (name, seq) VALUES \"\n",
    "                 \"('cell_data_ios', 30000000000),\"\n",
    "                 \"('cell_markdown_features', 30000000000),\"\n",
    "                 \"('cell_modules', 30000000000),\"\n",
    "                 \"('cells', 30000000000),\"\n",
    "                 \"('commits', 30000000000),\"\n",
    "                 \"('data_ios', 30000000000),\"\n",
    "                 \"('extractions', 30000000000),\"\n",
    "                 \"('modules', 30000000000),\"\n",
    "                 \"('notebook_markdowns', 30000000000),\"\n",
    "                 \"('notebooks', 30000000000),\"\n",
    "                 \"('python_file_data_ios', 30000000000),\"\n",
    "                 \"('python_file_modules', 30000000000),\"\n",
    "                 \"('python_files', 30000000000),\"\n",
    "                 \"('requirement_files', 30000000000);\")\n",
    "session3.bulk_insert_mappings(Repository, part3_data)\n",
    "session3.commit()"
   ],
   "metadata": {
    "collapsed": false
   }
  },
  {
   "cell_type": "code",
   "execution_count": null,
   "outputs": [],
   "source": [],
   "metadata": {
    "collapsed": false
   }
  }
 ],
 "metadata": {
  "kernelspec": {
   "display_name": "Python 3",
   "language": "python",
   "name": "python3"
  },
  "language_info": {
   "codemirror_mode": {
    "name": "ipython",
    "version": 2
   },
   "file_extension": ".py",
   "mimetype": "text/x-python",
   "name": "python",
   "nbconvert_exporter": "python",
   "pygments_lexer": "ipython2",
   "version": "2.7.6"
  }
 },
 "nbformat": 4,
 "nbformat_minor": 0
}
