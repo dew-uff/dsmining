{
 "cells": [
  {
   "cell_type": "code",
   "execution_count": 1,
   "outputs": [],
   "source": [
    "import pandas as pd\n",
    "from sqlalchemy.orm import sessionmaker\n",
    "from src.db.database import connect\n",
    "from src.config.states import *\n",
    "from src.db.database import Repository"
   ],
   "metadata": {
    "collapsed": false,
    "ExecuteTime": {
     "end_time": "2023-05-27T11:45:01.019152096Z",
     "start_time": "2023-05-27T11:45:00.365965053Z"
    }
   }
  },
  {
   "cell_type": "code",
   "execution_count": 2,
   "outputs": [
    {
     "name": "stdout",
     "output_type": "stream",
     "text": [
      "A total of 327016 repositories were retrieved \n"
     ]
    }
   ],
   "source": [
    "with connect() as session:\n",
    "    repositories = pd.read_sql_table(\"repositories\", session.connection())\n",
    "    total = len(repositories)\n",
    "    print(\"A total of {} repositories were retrieved \".format(total))"
   ],
   "metadata": {
    "collapsed": false,
    "ExecuteTime": {
     "end_time": "2023-05-27T11:45:08.136765163Z",
     "start_time": "2023-05-27T11:45:01.024744408Z"
    }
   }
  },
  {
   "cell_type": "code",
   "execution_count": 3,
   "outputs": [
    {
     "data": {
      "text/plain": "repository_discarded              160149\nrepository_selected               127107\nrepository_filtered                27826\nrepository_finished_processing     11368\nrequirement_files_extracted          543\nerror_cloning_repository              23\nName: state, dtype: int64"
     },
     "metadata": {},
     "output_type": "display_data"
    }
   ],
   "source": [
    "display(repositories.state.value_counts())"
   ],
   "metadata": {
    "collapsed": false,
    "ExecuteTime": {
     "end_time": "2023-05-27T11:45:08.220460124Z",
     "start_time": "2023-05-27T11:45:08.208181334Z"
    }
   }
  },
  {
   "cell_type": "code",
   "execution_count": 4,
   "outputs": [
    {
     "name": "stdout",
     "output_type": "stream",
     "text": [
      "Disk Usage for the 127107 repositories is estimated to be:\n",
      "\u001B[92m1787572222 KB - 1787572.22 MB - 1787.57 GB - 1.79 TB\u001B[0m\n",
      "\n",
      "Spliting in 3 partitions, each will process 595.86 GB\n"
     ]
    }
   ],
   "source": [
    "selected = repositories[repositories.state==REP_SELECTED].copy()\n",
    "selected[\"disk_usage\"] = selected[\"disk_usage\"].astype(int)\n",
    "\n",
    "print(\n",
    "    \"Disk Usage for the {} repositories is estimated to be:\\n\"\n",
    "    \"\\033[92m{} KB - {:.2f} MB - {:.2f} GB - {:.2f} TB\\033[0m\\n\"\n",
    "    .format(\n",
    "        len(selected),\n",
    "        selected.disk_usage.sum(),\n",
    "        selected.disk_usage.sum() / 10 ** 3,\n",
    "        selected.disk_usage.sum() / 10 ** 6,\n",
    "        selected.disk_usage.sum() / 10 ** 9\n",
    "    )\n",
    ")\n",
    "\n",
    "partitions = 3\n",
    "print(\"Spliting in {} partitions, each will process {:.2f} GB\".format(partitions, selected.disk_usage.sum()/ 10 ** 6 / 3))"
   ],
   "metadata": {
    "collapsed": false,
    "ExecuteTime": {
     "end_time": "2023-05-27T11:45:08.431491825Z",
     "start_time": "2023-05-27T11:45:08.211510128Z"
    }
   }
  },
  {
   "cell_type": "code",
   "execution_count": 5,
   "outputs": [
    {
     "data": {
      "text/plain": "            id                state      domain  \\\n96          97  repository_selected  github.com   \n778        779  repository_selected  github.com   \n4338      4339  repository_selected  github.com   \n27709    27710  repository_selected  github.com   \n38205    38206  repository_selected  github.com   \n...        ...                  ...         ...   \n156058  156059  repository_selected  github.com   \n156064  156065  repository_selected  github.com   \n156068  156069  repository_selected  github.com   \n156070  156071  repository_selected  github.com   \n156071  156072  repository_selected  github.com   \n\n                                               repository  extraction_id  \\\n96                                kevinbluer/data-science            NaN   \n778                              andrew-reece/datascience            NaN   \n4338                                jschear/cs1951a-final            NaN   \n27709                                    sarahwalters/ess            NaN   \n38205                       vvivek92/DataScience-Learning            NaN   \n...                                                   ...            ...   \n156058            chaitanyahardikar/Data_Science_ig_week2            NaN   \n156064                       ldanuwinata/ETL-Data-Science            NaN   \n156068                        Abbe94/Data-Science-Project            NaN   \n156070  learn-co-students/dsc-data-science-processes-n...            NaN   \n156071                  bugzzbunny007/ga-learner-dsb-repo            NaN   \n\n        primary_language  disk_usage  is_mirror      git_created_at  \\\n96                Python      253868      False 2013-03-24 06:12:29   \n778               Python      357656      False 2014-01-12 19:16:02   \n4338              Python      271380      False 2014-04-28 17:40:17   \n27709             Python     1142872      False 2015-03-28 06:11:58   \n38205   Jupyter Notebook      370185      False 2015-08-20 16:25:37   \n...                  ...         ...        ...                 ...   \n156058  Jupyter Notebook          44      False 2020-04-27 23:03:13   \n156064  Jupyter Notebook        5503      False 2020-04-27 23:25:00   \n156068            Python         533      False 2020-04-27 23:33:40   \n156070  Jupyter Notebook         674      False 2020-04-27 23:37:51   \n156071            Python           8      False 2020-04-27 23:39:53   \n\n             git_pushed_at  ...  has_next_page  notebooks_count  \\\n96     2013-05-06 06:09:40  ...           True              NaN   \n778    2014-12-16 21:16:17  ...           True              NaN   \n4338   2014-05-10 05:59:07  ...           True              NaN   \n27709  2015-09-16 04:31:43  ...           True              NaN   \n38205  2016-02-26 12:13:18  ...           True              NaN   \n...                    ...  ...            ...              ...   \n156058 2020-04-27 23:05:25  ...           True              NaN   \n156064 2020-05-02 22:47:54  ...           True              NaN   \n156068 2020-04-27 23:37:15  ...           True              NaN   \n156070 2020-08-10 18:09:31  ...           True              NaN   \n156071 2020-06-01 21:30:27  ...           True              NaN   \n\n        python_files_count  setups_count  requirements_count  pipfiles_count  \\\n96                     NaN           NaN                 NaN             NaN   \n778                    NaN           NaN                 NaN             NaN   \n4338                   NaN           NaN                 NaN             NaN   \n27709                  NaN           NaN                 NaN             NaN   \n38205                  NaN           NaN                 NaN             NaN   \n...                    ...           ...                 ...             ...   \n156058                 NaN           NaN                 NaN             NaN   \n156064                 NaN           NaN                 NaN             NaN   \n156068                 NaN           NaN                 NaN             NaN   \n156070                 NaN           NaN                 NaN             NaN   \n156071                 NaN           NaN                 NaN             NaN   \n\n        pipfile_locks_count                 created_at  \\\n96                      NaN 2023-03-27 17:04:15.884547   \n778                     NaN 2023-03-27 18:19:51.869968   \n4338                    NaN 2023-03-27 17:21:25.109645   \n27709                   NaN 2023-03-27 19:42:04.296089   \n38205                   NaN 2023-03-27 20:14:36.951807   \n...                     ...                        ...   \n156058                  NaN 2023-03-28 13:09:01.008988   \n156064                  NaN 2023-03-28 13:13:27.450092   \n156068                  NaN 2023-03-28 13:09:01.215433   \n156070                  NaN 2023-03-28 14:47:55.899465   \n156071                  NaN 2023-03-28 13:42:56.224922   \n\n                       updated_at cumulative_sum  \n96     2023-05-22 11:40:24.809165         253868  \n778    2023-05-22 11:40:24.809165         611524  \n4338   2023-05-22 11:40:24.809165         882904  \n27709  2023-05-22 11:40:24.809165        2025776  \n38205  2023-05-22 11:40:24.809165        2395961  \n...                           ...            ...  \n156058 2023-05-22 11:40:24.809165      595442645  \n156064 2023-05-22 11:40:24.809165      595448148  \n156068 2023-05-22 11:40:24.809165      595448681  \n156070 2023-05-22 11:40:24.809165      595449355  \n156071 2023-05-22 11:40:24.809165      595449363  \n\n[32637 rows x 36 columns]",
      "text/html": "<div>\n<style scoped>\n    .dataframe tbody tr th:only-of-type {\n        vertical-align: middle;\n    }\n\n    .dataframe tbody tr th {\n        vertical-align: top;\n    }\n\n    .dataframe thead th {\n        text-align: right;\n    }\n</style>\n<table border=\"1\" class=\"dataframe\">\n  <thead>\n    <tr style=\"text-align: right;\">\n      <th></th>\n      <th>id</th>\n      <th>state</th>\n      <th>domain</th>\n      <th>repository</th>\n      <th>extraction_id</th>\n      <th>primary_language</th>\n      <th>disk_usage</th>\n      <th>is_mirror</th>\n      <th>git_created_at</th>\n      <th>git_pushed_at</th>\n      <th>...</th>\n      <th>has_next_page</th>\n      <th>notebooks_count</th>\n      <th>python_files_count</th>\n      <th>setups_count</th>\n      <th>requirements_count</th>\n      <th>pipfiles_count</th>\n      <th>pipfile_locks_count</th>\n      <th>created_at</th>\n      <th>updated_at</th>\n      <th>cumulative_sum</th>\n    </tr>\n  </thead>\n  <tbody>\n    <tr>\n      <th>96</th>\n      <td>97</td>\n      <td>repository_selected</td>\n      <td>github.com</td>\n      <td>kevinbluer/data-science</td>\n      <td>NaN</td>\n      <td>Python</td>\n      <td>253868</td>\n      <td>False</td>\n      <td>2013-03-24 06:12:29</td>\n      <td>2013-05-06 06:09:40</td>\n      <td>...</td>\n      <td>True</td>\n      <td>NaN</td>\n      <td>NaN</td>\n      <td>NaN</td>\n      <td>NaN</td>\n      <td>NaN</td>\n      <td>NaN</td>\n      <td>2023-03-27 17:04:15.884547</td>\n      <td>2023-05-22 11:40:24.809165</td>\n      <td>253868</td>\n    </tr>\n    <tr>\n      <th>778</th>\n      <td>779</td>\n      <td>repository_selected</td>\n      <td>github.com</td>\n      <td>andrew-reece/datascience</td>\n      <td>NaN</td>\n      <td>Python</td>\n      <td>357656</td>\n      <td>False</td>\n      <td>2014-01-12 19:16:02</td>\n      <td>2014-12-16 21:16:17</td>\n      <td>...</td>\n      <td>True</td>\n      <td>NaN</td>\n      <td>NaN</td>\n      <td>NaN</td>\n      <td>NaN</td>\n      <td>NaN</td>\n      <td>NaN</td>\n      <td>2023-03-27 18:19:51.869968</td>\n      <td>2023-05-22 11:40:24.809165</td>\n      <td>611524</td>\n    </tr>\n    <tr>\n      <th>4338</th>\n      <td>4339</td>\n      <td>repository_selected</td>\n      <td>github.com</td>\n      <td>jschear/cs1951a-final</td>\n      <td>NaN</td>\n      <td>Python</td>\n      <td>271380</td>\n      <td>False</td>\n      <td>2014-04-28 17:40:17</td>\n      <td>2014-05-10 05:59:07</td>\n      <td>...</td>\n      <td>True</td>\n      <td>NaN</td>\n      <td>NaN</td>\n      <td>NaN</td>\n      <td>NaN</td>\n      <td>NaN</td>\n      <td>NaN</td>\n      <td>2023-03-27 17:21:25.109645</td>\n      <td>2023-05-22 11:40:24.809165</td>\n      <td>882904</td>\n    </tr>\n    <tr>\n      <th>27709</th>\n      <td>27710</td>\n      <td>repository_selected</td>\n      <td>github.com</td>\n      <td>sarahwalters/ess</td>\n      <td>NaN</td>\n      <td>Python</td>\n      <td>1142872</td>\n      <td>False</td>\n      <td>2015-03-28 06:11:58</td>\n      <td>2015-09-16 04:31:43</td>\n      <td>...</td>\n      <td>True</td>\n      <td>NaN</td>\n      <td>NaN</td>\n      <td>NaN</td>\n      <td>NaN</td>\n      <td>NaN</td>\n      <td>NaN</td>\n      <td>2023-03-27 19:42:04.296089</td>\n      <td>2023-05-22 11:40:24.809165</td>\n      <td>2025776</td>\n    </tr>\n    <tr>\n      <th>38205</th>\n      <td>38206</td>\n      <td>repository_selected</td>\n      <td>github.com</td>\n      <td>vvivek92/DataScience-Learning</td>\n      <td>NaN</td>\n      <td>Jupyter Notebook</td>\n      <td>370185</td>\n      <td>False</td>\n      <td>2015-08-20 16:25:37</td>\n      <td>2016-02-26 12:13:18</td>\n      <td>...</td>\n      <td>True</td>\n      <td>NaN</td>\n      <td>NaN</td>\n      <td>NaN</td>\n      <td>NaN</td>\n      <td>NaN</td>\n      <td>NaN</td>\n      <td>2023-03-27 20:14:36.951807</td>\n      <td>2023-05-22 11:40:24.809165</td>\n      <td>2395961</td>\n    </tr>\n    <tr>\n      <th>...</th>\n      <td>...</td>\n      <td>...</td>\n      <td>...</td>\n      <td>...</td>\n      <td>...</td>\n      <td>...</td>\n      <td>...</td>\n      <td>...</td>\n      <td>...</td>\n      <td>...</td>\n      <td>...</td>\n      <td>...</td>\n      <td>...</td>\n      <td>...</td>\n      <td>...</td>\n      <td>...</td>\n      <td>...</td>\n      <td>...</td>\n      <td>...</td>\n      <td>...</td>\n      <td>...</td>\n    </tr>\n    <tr>\n      <th>156058</th>\n      <td>156059</td>\n      <td>repository_selected</td>\n      <td>github.com</td>\n      <td>chaitanyahardikar/Data_Science_ig_week2</td>\n      <td>NaN</td>\n      <td>Jupyter Notebook</td>\n      <td>44</td>\n      <td>False</td>\n      <td>2020-04-27 23:03:13</td>\n      <td>2020-04-27 23:05:25</td>\n      <td>...</td>\n      <td>True</td>\n      <td>NaN</td>\n      <td>NaN</td>\n      <td>NaN</td>\n      <td>NaN</td>\n      <td>NaN</td>\n      <td>NaN</td>\n      <td>2023-03-28 13:09:01.008988</td>\n      <td>2023-05-22 11:40:24.809165</td>\n      <td>595442645</td>\n    </tr>\n    <tr>\n      <th>156064</th>\n      <td>156065</td>\n      <td>repository_selected</td>\n      <td>github.com</td>\n      <td>ldanuwinata/ETL-Data-Science</td>\n      <td>NaN</td>\n      <td>Jupyter Notebook</td>\n      <td>5503</td>\n      <td>False</td>\n      <td>2020-04-27 23:25:00</td>\n      <td>2020-05-02 22:47:54</td>\n      <td>...</td>\n      <td>True</td>\n      <td>NaN</td>\n      <td>NaN</td>\n      <td>NaN</td>\n      <td>NaN</td>\n      <td>NaN</td>\n      <td>NaN</td>\n      <td>2023-03-28 13:13:27.450092</td>\n      <td>2023-05-22 11:40:24.809165</td>\n      <td>595448148</td>\n    </tr>\n    <tr>\n      <th>156068</th>\n      <td>156069</td>\n      <td>repository_selected</td>\n      <td>github.com</td>\n      <td>Abbe94/Data-Science-Project</td>\n      <td>NaN</td>\n      <td>Python</td>\n      <td>533</td>\n      <td>False</td>\n      <td>2020-04-27 23:33:40</td>\n      <td>2020-04-27 23:37:15</td>\n      <td>...</td>\n      <td>True</td>\n      <td>NaN</td>\n      <td>NaN</td>\n      <td>NaN</td>\n      <td>NaN</td>\n      <td>NaN</td>\n      <td>NaN</td>\n      <td>2023-03-28 13:09:01.215433</td>\n      <td>2023-05-22 11:40:24.809165</td>\n      <td>595448681</td>\n    </tr>\n    <tr>\n      <th>156070</th>\n      <td>156071</td>\n      <td>repository_selected</td>\n      <td>github.com</td>\n      <td>learn-co-students/dsc-data-science-processes-n...</td>\n      <td>NaN</td>\n      <td>Jupyter Notebook</td>\n      <td>674</td>\n      <td>False</td>\n      <td>2020-04-27 23:37:51</td>\n      <td>2020-08-10 18:09:31</td>\n      <td>...</td>\n      <td>True</td>\n      <td>NaN</td>\n      <td>NaN</td>\n      <td>NaN</td>\n      <td>NaN</td>\n      <td>NaN</td>\n      <td>NaN</td>\n      <td>2023-03-28 14:47:55.899465</td>\n      <td>2023-05-22 11:40:24.809165</td>\n      <td>595449355</td>\n    </tr>\n    <tr>\n      <th>156071</th>\n      <td>156072</td>\n      <td>repository_selected</td>\n      <td>github.com</td>\n      <td>bugzzbunny007/ga-learner-dsb-repo</td>\n      <td>NaN</td>\n      <td>Python</td>\n      <td>8</td>\n      <td>False</td>\n      <td>2020-04-27 23:39:53</td>\n      <td>2020-06-01 21:30:27</td>\n      <td>...</td>\n      <td>True</td>\n      <td>NaN</td>\n      <td>NaN</td>\n      <td>NaN</td>\n      <td>NaN</td>\n      <td>NaN</td>\n      <td>NaN</td>\n      <td>2023-03-28 13:42:56.224922</td>\n      <td>2023-05-22 11:40:24.809165</td>\n      <td>595449363</td>\n    </tr>\n  </tbody>\n</table>\n<p>32637 rows × 36 columns</p>\n</div>"
     },
     "metadata": {},
     "output_type": "display_data"
    },
    {
     "data": {
      "text/plain": "            id                state      domain  \\\n156074  156075  repository_selected  github.com   \n156076  156077  repository_selected  github.com   \n156080  156081  repository_selected  github.com   \n156083  156084  repository_selected  github.com   \n156085  156086  repository_selected  github.com   \n...        ...                  ...         ...   \n237955  237956  repository_selected  github.com   \n237956  237957  repository_selected  github.com   \n237957  237958  repository_selected  github.com   \n237958  237959  repository_selected  github.com   \n237961  237962  repository_selected  github.com   \n\n                                               repository  extraction_id  \\\n156074                       DSAISummerCamp/dscamp_public            NaN   \n156076                             tiomnenkiy/skillbox_DS            NaN   \n156080  sinchita-siddiquee/Vancouver-Airbnb-Price-Anal...            NaN   \n156083          sunshine-coder/AppliedDataScienceCapstone            NaN   \n156085  mc-hung/Dubstech-Data-Science-Workshops-2020-S...            NaN   \n...                                                   ...            ...   \n237955   nastya236/Sleep-monitoring-with-sensors-analysis            NaN   \n237956                    meleerosa/data_science_practice            NaN   \n237957                 RiKjess/SoloLearnPythonDataScience            NaN   \n237958                      pstumpo3/Data-Science-Project            NaN   \n237961                  itisWasp/ds-salary-pred-glassdoor            NaN   \n\n        primary_language  disk_usage  is_mirror      git_created_at  \\\n156074  Jupyter Notebook      664967      False 2020-04-27 23:48:05   \n156076  Jupyter Notebook         197      False 2020-04-27 23:48:52   \n156080  Jupyter Notebook       72088      False 2020-04-28 00:52:31   \n156083  Jupyter Notebook        5208      False 2020-04-28 01:24:53   \n156085  Jupyter Notebook        1063      False 2020-04-28 02:05:04   \n...                  ...         ...        ...                 ...   \n237955  Jupyter Notebook        3117      False 2021-09-27 15:54:00   \n237956  Jupyter Notebook         202      False 2021-09-27 15:58:52   \n237957            Python          10      False 2021-09-27 15:59:36   \n237958  Jupyter Notebook         390      False 2021-09-27 16:16:25   \n237961  Jupyter Notebook       10641      False 2021-09-27 16:30:39   \n\n             git_pushed_at  ...  has_next_page  notebooks_count  \\\n156074 2023-03-19 16:09:34  ...          False              NaN   \n156076 2020-04-27 23:49:22  ...           True              NaN   \n156080 2020-04-28 01:56:40  ...           True              NaN   \n156083 2020-04-28 11:47:42  ...           True              NaN   \n156085 2020-05-13 07:10:55  ...           True              NaN   \n...                    ...  ...            ...              ...   \n237955 2021-10-25 00:51:23  ...           True              NaN   \n237956 2021-11-28 11:08:05  ...           True              NaN   \n237957 2021-10-19 11:05:22  ...           True              NaN   \n237958 2021-09-27 21:58:37  ...           True              NaN   \n237961 2021-10-01 08:33:35  ...           True              NaN   \n\n        python_files_count  setups_count  requirements_count  pipfiles_count  \\\n156074                 NaN           NaN                 NaN             NaN   \n156076                 NaN           NaN                 NaN             NaN   \n156080                 NaN           NaN                 NaN             NaN   \n156083                 NaN           NaN                 NaN             NaN   \n156085                 NaN           NaN                 NaN             NaN   \n...                    ...           ...                 ...             ...   \n237955                 NaN           NaN                 NaN             NaN   \n237956                 NaN           NaN                 NaN             NaN   \n237957                 NaN           NaN                 NaN             NaN   \n237958                 NaN           NaN                 NaN             NaN   \n237961                 NaN           NaN                 NaN             NaN   \n\n        pipfile_locks_count                 created_at  \\\n156074                  NaN 2023-03-26 23:47:43.923418   \n156076                  NaN 2023-03-28 13:09:01.328264   \n156080                  NaN 2023-03-28 13:09:01.602743   \n156083                  NaN 2023-03-28 13:09:13.544397   \n156085                  NaN 2023-03-28 13:22:51.337171   \n...                     ...                        ...   \n237955                  NaN 2023-03-28 20:05:27.276129   \n237956                  NaN 2023-03-28 20:26:40.996059   \n237957                  NaN 2023-03-28 20:01:50.427549   \n237958                  NaN 2023-03-28 19:47:12.417598   \n237961                  NaN 2023-03-28 19:49:52.635937   \n\n                       updated_at cumulative_sum  \n156074 2023-05-22 11:40:24.809165      596114330  \n156076 2023-05-22 11:40:24.809165      596114527  \n156080 2023-05-22 11:40:24.809165      596186615  \n156083 2023-05-22 11:40:24.809165      596191823  \n156085 2023-05-22 11:40:24.809165      596192886  \n...                           ...            ...  \n237955 2023-05-22 11:40:24.809165     1191665248  \n237956 2023-05-22 11:40:24.809165     1191665450  \n237957 2023-05-22 11:40:24.809165     1191665460  \n237958 2023-05-22 11:40:24.809165     1191665850  \n237961 2023-05-22 11:40:24.809165     1191676491  \n\n[41900 rows x 36 columns]",
      "text/html": "<div>\n<style scoped>\n    .dataframe tbody tr th:only-of-type {\n        vertical-align: middle;\n    }\n\n    .dataframe tbody tr th {\n        vertical-align: top;\n    }\n\n    .dataframe thead th {\n        text-align: right;\n    }\n</style>\n<table border=\"1\" class=\"dataframe\">\n  <thead>\n    <tr style=\"text-align: right;\">\n      <th></th>\n      <th>id</th>\n      <th>state</th>\n      <th>domain</th>\n      <th>repository</th>\n      <th>extraction_id</th>\n      <th>primary_language</th>\n      <th>disk_usage</th>\n      <th>is_mirror</th>\n      <th>git_created_at</th>\n      <th>git_pushed_at</th>\n      <th>...</th>\n      <th>has_next_page</th>\n      <th>notebooks_count</th>\n      <th>python_files_count</th>\n      <th>setups_count</th>\n      <th>requirements_count</th>\n      <th>pipfiles_count</th>\n      <th>pipfile_locks_count</th>\n      <th>created_at</th>\n      <th>updated_at</th>\n      <th>cumulative_sum</th>\n    </tr>\n  </thead>\n  <tbody>\n    <tr>\n      <th>156074</th>\n      <td>156075</td>\n      <td>repository_selected</td>\n      <td>github.com</td>\n      <td>DSAISummerCamp/dscamp_public</td>\n      <td>NaN</td>\n      <td>Jupyter Notebook</td>\n      <td>664967</td>\n      <td>False</td>\n      <td>2020-04-27 23:48:05</td>\n      <td>2023-03-19 16:09:34</td>\n      <td>...</td>\n      <td>False</td>\n      <td>NaN</td>\n      <td>NaN</td>\n      <td>NaN</td>\n      <td>NaN</td>\n      <td>NaN</td>\n      <td>NaN</td>\n      <td>2023-03-26 23:47:43.923418</td>\n      <td>2023-05-22 11:40:24.809165</td>\n      <td>596114330</td>\n    </tr>\n    <tr>\n      <th>156076</th>\n      <td>156077</td>\n      <td>repository_selected</td>\n      <td>github.com</td>\n      <td>tiomnenkiy/skillbox_DS</td>\n      <td>NaN</td>\n      <td>Jupyter Notebook</td>\n      <td>197</td>\n      <td>False</td>\n      <td>2020-04-27 23:48:52</td>\n      <td>2020-04-27 23:49:22</td>\n      <td>...</td>\n      <td>True</td>\n      <td>NaN</td>\n      <td>NaN</td>\n      <td>NaN</td>\n      <td>NaN</td>\n      <td>NaN</td>\n      <td>NaN</td>\n      <td>2023-03-28 13:09:01.328264</td>\n      <td>2023-05-22 11:40:24.809165</td>\n      <td>596114527</td>\n    </tr>\n    <tr>\n      <th>156080</th>\n      <td>156081</td>\n      <td>repository_selected</td>\n      <td>github.com</td>\n      <td>sinchita-siddiquee/Vancouver-Airbnb-Price-Anal...</td>\n      <td>NaN</td>\n      <td>Jupyter Notebook</td>\n      <td>72088</td>\n      <td>False</td>\n      <td>2020-04-28 00:52:31</td>\n      <td>2020-04-28 01:56:40</td>\n      <td>...</td>\n      <td>True</td>\n      <td>NaN</td>\n      <td>NaN</td>\n      <td>NaN</td>\n      <td>NaN</td>\n      <td>NaN</td>\n      <td>NaN</td>\n      <td>2023-03-28 13:09:01.602743</td>\n      <td>2023-05-22 11:40:24.809165</td>\n      <td>596186615</td>\n    </tr>\n    <tr>\n      <th>156083</th>\n      <td>156084</td>\n      <td>repository_selected</td>\n      <td>github.com</td>\n      <td>sunshine-coder/AppliedDataScienceCapstone</td>\n      <td>NaN</td>\n      <td>Jupyter Notebook</td>\n      <td>5208</td>\n      <td>False</td>\n      <td>2020-04-28 01:24:53</td>\n      <td>2020-04-28 11:47:42</td>\n      <td>...</td>\n      <td>True</td>\n      <td>NaN</td>\n      <td>NaN</td>\n      <td>NaN</td>\n      <td>NaN</td>\n      <td>NaN</td>\n      <td>NaN</td>\n      <td>2023-03-28 13:09:13.544397</td>\n      <td>2023-05-22 11:40:24.809165</td>\n      <td>596191823</td>\n    </tr>\n    <tr>\n      <th>156085</th>\n      <td>156086</td>\n      <td>repository_selected</td>\n      <td>github.com</td>\n      <td>mc-hung/Dubstech-Data-Science-Workshops-2020-S...</td>\n      <td>NaN</td>\n      <td>Jupyter Notebook</td>\n      <td>1063</td>\n      <td>False</td>\n      <td>2020-04-28 02:05:04</td>\n      <td>2020-05-13 07:10:55</td>\n      <td>...</td>\n      <td>True</td>\n      <td>NaN</td>\n      <td>NaN</td>\n      <td>NaN</td>\n      <td>NaN</td>\n      <td>NaN</td>\n      <td>NaN</td>\n      <td>2023-03-28 13:22:51.337171</td>\n      <td>2023-05-22 11:40:24.809165</td>\n      <td>596192886</td>\n    </tr>\n    <tr>\n      <th>...</th>\n      <td>...</td>\n      <td>...</td>\n      <td>...</td>\n      <td>...</td>\n      <td>...</td>\n      <td>...</td>\n      <td>...</td>\n      <td>...</td>\n      <td>...</td>\n      <td>...</td>\n      <td>...</td>\n      <td>...</td>\n      <td>...</td>\n      <td>...</td>\n      <td>...</td>\n      <td>...</td>\n      <td>...</td>\n      <td>...</td>\n      <td>...</td>\n      <td>...</td>\n      <td>...</td>\n    </tr>\n    <tr>\n      <th>237955</th>\n      <td>237956</td>\n      <td>repository_selected</td>\n      <td>github.com</td>\n      <td>nastya236/Sleep-monitoring-with-sensors-analysis</td>\n      <td>NaN</td>\n      <td>Jupyter Notebook</td>\n      <td>3117</td>\n      <td>False</td>\n      <td>2021-09-27 15:54:00</td>\n      <td>2021-10-25 00:51:23</td>\n      <td>...</td>\n      <td>True</td>\n      <td>NaN</td>\n      <td>NaN</td>\n      <td>NaN</td>\n      <td>NaN</td>\n      <td>NaN</td>\n      <td>NaN</td>\n      <td>2023-03-28 20:05:27.276129</td>\n      <td>2023-05-22 11:40:24.809165</td>\n      <td>1191665248</td>\n    </tr>\n    <tr>\n      <th>237956</th>\n      <td>237957</td>\n      <td>repository_selected</td>\n      <td>github.com</td>\n      <td>meleerosa/data_science_practice</td>\n      <td>NaN</td>\n      <td>Jupyter Notebook</td>\n      <td>202</td>\n      <td>False</td>\n      <td>2021-09-27 15:58:52</td>\n      <td>2021-11-28 11:08:05</td>\n      <td>...</td>\n      <td>True</td>\n      <td>NaN</td>\n      <td>NaN</td>\n      <td>NaN</td>\n      <td>NaN</td>\n      <td>NaN</td>\n      <td>NaN</td>\n      <td>2023-03-28 20:26:40.996059</td>\n      <td>2023-05-22 11:40:24.809165</td>\n      <td>1191665450</td>\n    </tr>\n    <tr>\n      <th>237957</th>\n      <td>237958</td>\n      <td>repository_selected</td>\n      <td>github.com</td>\n      <td>RiKjess/SoloLearnPythonDataScience</td>\n      <td>NaN</td>\n      <td>Python</td>\n      <td>10</td>\n      <td>False</td>\n      <td>2021-09-27 15:59:36</td>\n      <td>2021-10-19 11:05:22</td>\n      <td>...</td>\n      <td>True</td>\n      <td>NaN</td>\n      <td>NaN</td>\n      <td>NaN</td>\n      <td>NaN</td>\n      <td>NaN</td>\n      <td>NaN</td>\n      <td>2023-03-28 20:01:50.427549</td>\n      <td>2023-05-22 11:40:24.809165</td>\n      <td>1191665460</td>\n    </tr>\n    <tr>\n      <th>237958</th>\n      <td>237959</td>\n      <td>repository_selected</td>\n      <td>github.com</td>\n      <td>pstumpo3/Data-Science-Project</td>\n      <td>NaN</td>\n      <td>Jupyter Notebook</td>\n      <td>390</td>\n      <td>False</td>\n      <td>2021-09-27 16:16:25</td>\n      <td>2021-09-27 21:58:37</td>\n      <td>...</td>\n      <td>True</td>\n      <td>NaN</td>\n      <td>NaN</td>\n      <td>NaN</td>\n      <td>NaN</td>\n      <td>NaN</td>\n      <td>NaN</td>\n      <td>2023-03-28 19:47:12.417598</td>\n      <td>2023-05-22 11:40:24.809165</td>\n      <td>1191665850</td>\n    </tr>\n    <tr>\n      <th>237961</th>\n      <td>237962</td>\n      <td>repository_selected</td>\n      <td>github.com</td>\n      <td>itisWasp/ds-salary-pred-glassdoor</td>\n      <td>NaN</td>\n      <td>Jupyter Notebook</td>\n      <td>10641</td>\n      <td>False</td>\n      <td>2021-09-27 16:30:39</td>\n      <td>2021-10-01 08:33:35</td>\n      <td>...</td>\n      <td>True</td>\n      <td>NaN</td>\n      <td>NaN</td>\n      <td>NaN</td>\n      <td>NaN</td>\n      <td>NaN</td>\n      <td>NaN</td>\n      <td>2023-03-28 19:49:52.635937</td>\n      <td>2023-05-22 11:40:24.809165</td>\n      <td>1191676491</td>\n    </tr>\n  </tbody>\n</table>\n<p>41900 rows × 36 columns</p>\n</div>"
     },
     "metadata": {},
     "output_type": "display_data"
    },
    {
     "data": {
      "text/plain": "            id                state      domain  \\\n237963  237964  repository_selected  github.com   \n237965  237966  repository_selected  github.com   \n237966  237967  repository_selected  github.com   \n237967  237968  repository_selected  github.com   \n237969  237970  repository_selected  github.com   \n...        ...                  ...         ...   \n327001  327002  repository_selected  github.com   \n327002  327003  repository_selected  github.com   \n327003  327004  repository_selected  github.com   \n327006  327007  repository_selected  github.com   \n327007  327008  repository_selected  github.com   \n\n                                               repository  extraction_id  \\\n237963     lillaszulyovszky/data-science-retreat-lectures            NaN   \n237965  mbhsmlclub/Lecture-1-Intro-to-Data-Science-in-...            NaN   \n237966                 herbmks/thesis_gan_fraud_scenarios            NaN   \n237967                 GhofraneAyari/DataScienceChallenge            NaN   \n237969                        lperozzi/DST1_pydeck_visual            NaN   \n...                                                   ...            ...   \n327001  idealidler/Enhancing-Public-Safety-in-Philadel...            NaN   \n327002              sheetalsattiraju/DataScienceEcosystem            NaN   \n327003                        CJ7MO/Data-Science-Projects            NaN   \n327006                      BBERNUIA/DataScienceEcosystem            NaN   \n327007                       VotircH/InmersionDataScience            NaN   \n\n        primary_language  disk_usage  is_mirror      git_created_at  \\\n237963            Python      420786      False 2021-09-27 16:35:04   \n237965  Jupyter Notebook         579      False 2021-09-27 16:56:34   \n237966            Python        2687      False 2021-09-27 16:56:44   \n237967  Jupyter Notebook        1915      False 2021-09-27 17:09:58   \n237969  Jupyter Notebook       29807      False 2021-09-27 17:16:13   \n...                  ...         ...        ...                 ...   \n327001  Jupyter Notebook        3425      False 2023-03-29 02:26:15   \n327002  Jupyter Notebook           7      False 2023-03-29 02:31:46   \n327003  Jupyter Notebook        9244      False 2023-03-29 02:37:16   \n327006  Jupyter Notebook           1      False 2023-03-29 03:05:08   \n327007  Jupyter Notebook          66      False 2023-03-29 03:11:52   \n\n             git_pushed_at  ...  has_next_page  notebooks_count  \\\n237963 2022-03-17 13:05:13  ...           True              NaN   \n237965 2021-10-11 03:39:01  ...           True              NaN   \n237966 2021-09-27 17:20:09  ...           True              NaN   \n237967 2022-08-28 17:54:33  ...           True              NaN   \n237969 2021-10-04 10:06:36  ...           True              NaN   \n...                    ...  ...            ...              ...   \n327001 2023-03-29 03:00:41  ...          False              NaN   \n327002 2023-03-29 02:45:58  ...          False              NaN   \n327003 2023-03-29 02:43:49  ...          False              NaN   \n327006 2023-03-29 03:06:23  ...          False              NaN   \n327007 2023-03-29 03:18:42  ...          False              NaN   \n\n        python_files_count  setups_count  requirements_count  pipfiles_count  \\\n237963                 NaN           NaN                 NaN             NaN   \n237965                 NaN           NaN                 NaN             NaN   \n237966                 NaN           NaN                 NaN             NaN   \n237967                 NaN           NaN                 NaN             NaN   \n237969                 NaN           NaN                 NaN             NaN   \n...                    ...           ...                 ...             ...   \n327001                 NaN           NaN                 NaN             NaN   \n327002                 NaN           NaN                 NaN             NaN   \n327003                 NaN           NaN                 NaN             NaN   \n327006                 NaN           NaN                 NaN             NaN   \n327007                 NaN           NaN                 NaN             NaN   \n\n        pipfile_locks_count                 created_at  \\\n237963                  NaN 2023-03-28 21:47:52.589889   \n237965                  NaN 2023-03-28 19:55:59.131510   \n237966                  NaN 2023-03-28 19:47:01.252125   \n237967                  NaN 2023-03-28 23:49:43.410048   \n237969                  NaN 2023-03-28 19:51:36.687529   \n...                     ...                        ...   \n327001                  NaN 2023-03-29 01:19:46.221925   \n327002                  NaN 2023-03-29 01:19:45.695252   \n327003                  NaN 2023-03-29 01:19:45.599180   \n327006                  NaN 2023-03-29 01:19:46.507108   \n327007                  NaN 2023-03-29 01:19:46.980447   \n\n                       updated_at cumulative_sum  \n237963 2023-05-22 11:40:24.809165     1192097277  \n237965 2023-05-22 11:40:24.809165     1192097856  \n237966 2023-05-22 11:40:24.809165     1192100543  \n237967 2023-05-22 11:40:24.809165     1192102458  \n237969 2023-05-22 11:40:24.809165     1192132265  \n...                           ...            ...  \n327001 2023-05-22 11:40:24.809165     1787562904  \n327002 2023-05-22 11:40:24.809165     1787562911  \n327003 2023-05-22 11:40:24.809165     1787572155  \n327006 2023-05-22 11:40:24.809165     1787572156  \n327007 2023-05-22 11:40:24.809165     1787572222  \n\n[52570 rows x 36 columns]",
      "text/html": "<div>\n<style scoped>\n    .dataframe tbody tr th:only-of-type {\n        vertical-align: middle;\n    }\n\n    .dataframe tbody tr th {\n        vertical-align: top;\n    }\n\n    .dataframe thead th {\n        text-align: right;\n    }\n</style>\n<table border=\"1\" class=\"dataframe\">\n  <thead>\n    <tr style=\"text-align: right;\">\n      <th></th>\n      <th>id</th>\n      <th>state</th>\n      <th>domain</th>\n      <th>repository</th>\n      <th>extraction_id</th>\n      <th>primary_language</th>\n      <th>disk_usage</th>\n      <th>is_mirror</th>\n      <th>git_created_at</th>\n      <th>git_pushed_at</th>\n      <th>...</th>\n      <th>has_next_page</th>\n      <th>notebooks_count</th>\n      <th>python_files_count</th>\n      <th>setups_count</th>\n      <th>requirements_count</th>\n      <th>pipfiles_count</th>\n      <th>pipfile_locks_count</th>\n      <th>created_at</th>\n      <th>updated_at</th>\n      <th>cumulative_sum</th>\n    </tr>\n  </thead>\n  <tbody>\n    <tr>\n      <th>237963</th>\n      <td>237964</td>\n      <td>repository_selected</td>\n      <td>github.com</td>\n      <td>lillaszulyovszky/data-science-retreat-lectures</td>\n      <td>NaN</td>\n      <td>Python</td>\n      <td>420786</td>\n      <td>False</td>\n      <td>2021-09-27 16:35:04</td>\n      <td>2022-03-17 13:05:13</td>\n      <td>...</td>\n      <td>True</td>\n      <td>NaN</td>\n      <td>NaN</td>\n      <td>NaN</td>\n      <td>NaN</td>\n      <td>NaN</td>\n      <td>NaN</td>\n      <td>2023-03-28 21:47:52.589889</td>\n      <td>2023-05-22 11:40:24.809165</td>\n      <td>1192097277</td>\n    </tr>\n    <tr>\n      <th>237965</th>\n      <td>237966</td>\n      <td>repository_selected</td>\n      <td>github.com</td>\n      <td>mbhsmlclub/Lecture-1-Intro-to-Data-Science-in-...</td>\n      <td>NaN</td>\n      <td>Jupyter Notebook</td>\n      <td>579</td>\n      <td>False</td>\n      <td>2021-09-27 16:56:34</td>\n      <td>2021-10-11 03:39:01</td>\n      <td>...</td>\n      <td>True</td>\n      <td>NaN</td>\n      <td>NaN</td>\n      <td>NaN</td>\n      <td>NaN</td>\n      <td>NaN</td>\n      <td>NaN</td>\n      <td>2023-03-28 19:55:59.131510</td>\n      <td>2023-05-22 11:40:24.809165</td>\n      <td>1192097856</td>\n    </tr>\n    <tr>\n      <th>237966</th>\n      <td>237967</td>\n      <td>repository_selected</td>\n      <td>github.com</td>\n      <td>herbmks/thesis_gan_fraud_scenarios</td>\n      <td>NaN</td>\n      <td>Python</td>\n      <td>2687</td>\n      <td>False</td>\n      <td>2021-09-27 16:56:44</td>\n      <td>2021-09-27 17:20:09</td>\n      <td>...</td>\n      <td>True</td>\n      <td>NaN</td>\n      <td>NaN</td>\n      <td>NaN</td>\n      <td>NaN</td>\n      <td>NaN</td>\n      <td>NaN</td>\n      <td>2023-03-28 19:47:01.252125</td>\n      <td>2023-05-22 11:40:24.809165</td>\n      <td>1192100543</td>\n    </tr>\n    <tr>\n      <th>237967</th>\n      <td>237968</td>\n      <td>repository_selected</td>\n      <td>github.com</td>\n      <td>GhofraneAyari/DataScienceChallenge</td>\n      <td>NaN</td>\n      <td>Jupyter Notebook</td>\n      <td>1915</td>\n      <td>False</td>\n      <td>2021-09-27 17:09:58</td>\n      <td>2022-08-28 17:54:33</td>\n      <td>...</td>\n      <td>True</td>\n      <td>NaN</td>\n      <td>NaN</td>\n      <td>NaN</td>\n      <td>NaN</td>\n      <td>NaN</td>\n      <td>NaN</td>\n      <td>2023-03-28 23:49:43.410048</td>\n      <td>2023-05-22 11:40:24.809165</td>\n      <td>1192102458</td>\n    </tr>\n    <tr>\n      <th>237969</th>\n      <td>237970</td>\n      <td>repository_selected</td>\n      <td>github.com</td>\n      <td>lperozzi/DST1_pydeck_visual</td>\n      <td>NaN</td>\n      <td>Jupyter Notebook</td>\n      <td>29807</td>\n      <td>False</td>\n      <td>2021-09-27 17:16:13</td>\n      <td>2021-10-04 10:06:36</td>\n      <td>...</td>\n      <td>True</td>\n      <td>NaN</td>\n      <td>NaN</td>\n      <td>NaN</td>\n      <td>NaN</td>\n      <td>NaN</td>\n      <td>NaN</td>\n      <td>2023-03-28 19:51:36.687529</td>\n      <td>2023-05-22 11:40:24.809165</td>\n      <td>1192132265</td>\n    </tr>\n    <tr>\n      <th>...</th>\n      <td>...</td>\n      <td>...</td>\n      <td>...</td>\n      <td>...</td>\n      <td>...</td>\n      <td>...</td>\n      <td>...</td>\n      <td>...</td>\n      <td>...</td>\n      <td>...</td>\n      <td>...</td>\n      <td>...</td>\n      <td>...</td>\n      <td>...</td>\n      <td>...</td>\n      <td>...</td>\n      <td>...</td>\n      <td>...</td>\n      <td>...</td>\n      <td>...</td>\n      <td>...</td>\n    </tr>\n    <tr>\n      <th>327001</th>\n      <td>327002</td>\n      <td>repository_selected</td>\n      <td>github.com</td>\n      <td>idealidler/Enhancing-Public-Safety-in-Philadel...</td>\n      <td>NaN</td>\n      <td>Jupyter Notebook</td>\n      <td>3425</td>\n      <td>False</td>\n      <td>2023-03-29 02:26:15</td>\n      <td>2023-03-29 03:00:41</td>\n      <td>...</td>\n      <td>False</td>\n      <td>NaN</td>\n      <td>NaN</td>\n      <td>NaN</td>\n      <td>NaN</td>\n      <td>NaN</td>\n      <td>NaN</td>\n      <td>2023-03-29 01:19:46.221925</td>\n      <td>2023-05-22 11:40:24.809165</td>\n      <td>1787562904</td>\n    </tr>\n    <tr>\n      <th>327002</th>\n      <td>327003</td>\n      <td>repository_selected</td>\n      <td>github.com</td>\n      <td>sheetalsattiraju/DataScienceEcosystem</td>\n      <td>NaN</td>\n      <td>Jupyter Notebook</td>\n      <td>7</td>\n      <td>False</td>\n      <td>2023-03-29 02:31:46</td>\n      <td>2023-03-29 02:45:58</td>\n      <td>...</td>\n      <td>False</td>\n      <td>NaN</td>\n      <td>NaN</td>\n      <td>NaN</td>\n      <td>NaN</td>\n      <td>NaN</td>\n      <td>NaN</td>\n      <td>2023-03-29 01:19:45.695252</td>\n      <td>2023-05-22 11:40:24.809165</td>\n      <td>1787562911</td>\n    </tr>\n    <tr>\n      <th>327003</th>\n      <td>327004</td>\n      <td>repository_selected</td>\n      <td>github.com</td>\n      <td>CJ7MO/Data-Science-Projects</td>\n      <td>NaN</td>\n      <td>Jupyter Notebook</td>\n      <td>9244</td>\n      <td>False</td>\n      <td>2023-03-29 02:37:16</td>\n      <td>2023-03-29 02:43:49</td>\n      <td>...</td>\n      <td>False</td>\n      <td>NaN</td>\n      <td>NaN</td>\n      <td>NaN</td>\n      <td>NaN</td>\n      <td>NaN</td>\n      <td>NaN</td>\n      <td>2023-03-29 01:19:45.599180</td>\n      <td>2023-05-22 11:40:24.809165</td>\n      <td>1787572155</td>\n    </tr>\n    <tr>\n      <th>327006</th>\n      <td>327007</td>\n      <td>repository_selected</td>\n      <td>github.com</td>\n      <td>BBERNUIA/DataScienceEcosystem</td>\n      <td>NaN</td>\n      <td>Jupyter Notebook</td>\n      <td>1</td>\n      <td>False</td>\n      <td>2023-03-29 03:05:08</td>\n      <td>2023-03-29 03:06:23</td>\n      <td>...</td>\n      <td>False</td>\n      <td>NaN</td>\n      <td>NaN</td>\n      <td>NaN</td>\n      <td>NaN</td>\n      <td>NaN</td>\n      <td>NaN</td>\n      <td>2023-03-29 01:19:46.507108</td>\n      <td>2023-05-22 11:40:24.809165</td>\n      <td>1787572156</td>\n    </tr>\n    <tr>\n      <th>327007</th>\n      <td>327008</td>\n      <td>repository_selected</td>\n      <td>github.com</td>\n      <td>VotircH/InmersionDataScience</td>\n      <td>NaN</td>\n      <td>Jupyter Notebook</td>\n      <td>66</td>\n      <td>False</td>\n      <td>2023-03-29 03:11:52</td>\n      <td>2023-03-29 03:18:42</td>\n      <td>...</td>\n      <td>False</td>\n      <td>NaN</td>\n      <td>NaN</td>\n      <td>NaN</td>\n      <td>NaN</td>\n      <td>NaN</td>\n      <td>NaN</td>\n      <td>2023-03-29 01:19:46.980447</td>\n      <td>2023-05-22 11:40:24.809165</td>\n      <td>1787572222</td>\n    </tr>\n  </tbody>\n</table>\n<p>52570 rows × 36 columns</p>\n</div>"
     },
     "metadata": {},
     "output_type": "display_data"
    }
   ],
   "source": [
    "selected['cumulative_sum'] = selected['disk_usage'].cumsum()\n",
    "partition_size = selected.disk_usage.sum() / 3\n",
    "split_points = [partition_size, partition_size * 2]\n",
    "\n",
    "selected_part1 = selected[selected['cumulative_sum'] <= split_points[0]].copy()\n",
    "selected_part2 = selected[(selected['cumulative_sum'] > split_points[0]) & (selected['cumulative_sum'] <= split_points[1])].copy()\n",
    "selected_part3 = selected[selected['cumulative_sum'] > split_points[1]].copy()\n",
    "display(selected_part1, selected_part2, selected_part3)"
   ],
   "metadata": {
    "collapsed": false,
    "ExecuteTime": {
     "end_time": "2023-05-27T11:45:08.804702317Z",
     "start_time": "2023-05-27T11:45:08.438000549Z"
    }
   }
  },
  {
   "cell_type": "code",
   "execution_count": 6,
   "outputs": [
    {
     "name": "stderr",
     "output_type": "stream",
     "text": [
      "/tmp/ipykernel_5207/3324904013.py:5: SADeprecationWarning: The create_engine.convert_unicode parameter and corresponding dialect-level parameters are deprecated, and will be removed in a future release.  Modern DBAPIs support Python Unicode natively and this parameter is unnecessary.\n",
      "  engine1 = create_engine(\"sqlite:////{}part1_dsmining.sqlite\".format(DB_DIR + os.sep), convert_unicode=True, echo=False)\n",
      "/tmp/ipykernel_5207/3324904013.py:6: SADeprecationWarning: The create_engine.convert_unicode parameter and corresponding dialect-level parameters are deprecated, and will be removed in a future release.  Modern DBAPIs support Python Unicode natively and this parameter is unnecessary.\n",
      "  engine2 = create_engine(\"sqlite:////{}part2_dsmining.sqlite\".format(DB_DIR + os.sep), convert_unicode=True, echo=False)\n",
      "/tmp/ipykernel_5207/3324904013.py:7: SADeprecationWarning: The create_engine.convert_unicode parameter and corresponding dialect-level parameters are deprecated, and will be removed in a future release.  Modern DBAPIs support Python Unicode natively and this parameter is unnecessary.\n",
      "  engine3 = create_engine(\"sqlite:////{}part3_dsmining.sqlite\".format(DB_DIR + os.sep), convert_unicode=True, echo=False)\n"
     ]
    }
   ],
   "source": [
    "import os\n",
    "from src.db.database import Base\n",
    "from src.config.consts import DB_DIR\n",
    "from sqlalchemy import create_engine\n",
    "engine1 = create_engine(\"sqlite:////{}part1_dsmining.sqlite\".format(DB_DIR + os.sep), convert_unicode=True, echo=False)\n",
    "engine2 = create_engine(\"sqlite:////{}part2_dsmining.sqlite\".format(DB_DIR + os.sep), convert_unicode=True, echo=False)\n",
    "engine3 = create_engine(\"sqlite:////{}part3_dsmining.sqlite\".format(DB_DIR + os.sep), convert_unicode=True, echo=False)\n",
    "Base.metadata.create_all(engine1)\n",
    "Base.metadata.create_all(engine2)\n",
    "Base.metadata.create_all(engine3);"
   ],
   "metadata": {
    "collapsed": false,
    "ExecuteTime": {
     "end_time": "2023-05-27T11:45:09.073110602Z",
     "start_time": "2023-05-27T11:45:08.792029830Z"
    }
   }
  },
  {
   "cell_type": "code",
   "execution_count": 7,
   "outputs": [],
   "source": [
    "part1_data = selected_part1.to_dict(orient='records')\n",
    "Session1 = sessionmaker(bind=engine1)\n",
    "session1 = Session1()\n",
    "session1.execute(\"INSERT INTO sqlite_sequence (name, seq) VALUES \"\n",
    "                 \"('cell_data_ios', 100000000000),\"\n",
    "                 \"('cell_markdown_features', 100000000000),\"\n",
    "                 \"('cell_modules', 100000000000),\"\n",
    "                 \"('cells', 100000000000),\"\n",
    "                 \"('commits', 100000000000),\"\n",
    "                 \"('data_ios', 100000000000),\"\n",
    "                 \"('extractions', 100000000000),\"\n",
    "                 \"('modules', 100000000000),\"\n",
    "                 \"('notebook_markdowns', 100000000000),\"\n",
    "                 \"('notebooks', 100000000000),\"\n",
    "                 \"('python_file_data_ios', 100000000000),\"\n",
    "                 \"('python_file_modules', 100000000000),\"\n",
    "                 \"('python_files', 100000000000),\"\n",
    "                 \"('requirement_files', 100000000000);\")\n",
    "session1.bulk_insert_mappings(Repository, part1_data)\n",
    "session1.commit()\n",
    "session1.close()"
   ],
   "metadata": {
    "collapsed": false,
    "ExecuteTime": {
     "end_time": "2023-05-27T11:45:11.547271948Z",
     "start_time": "2023-05-27T11:45:08.966704687Z"
    }
   }
  },
  {
   "cell_type": "code",
   "execution_count": 8,
   "outputs": [],
   "source": [
    "part2_data = selected_part2.to_dict(orient='records')\n",
    "Session2 = sessionmaker(bind=engine2)\n",
    "session2 = Session2()\n",
    "session2.execute(\"INSERT INTO sqlite_sequence (name, seq) VALUES \"\n",
    "                 \"('cell_data_ios', 300000000000),\"\n",
    "                 \"('cell_markdown_features', 300000000000),\"\n",
    "                 \"('cell_modules', 300000000000),\"\n",
    "                 \"('cells', 300000000000),\"\n",
    "                 \"('commits', 300000000000),\"\n",
    "                 \"('data_ios', 300000000000),\"\n",
    "                 \"('extractions', 300000000000),\"\n",
    "                 \"('modules', 300000000000),\"\n",
    "                 \"('notebook_markdowns', 300000000000),\"\n",
    "                 \"('notebooks', 300000000000),\"\n",
    "                 \"('python_file_data_ios', 300000000000),\"\n",
    "                 \"('python_file_modules', 300000000000),\"\n",
    "                 \"('python_files', 300000000000),\"\n",
    "                 \"('requirement_files', 300000000000);\")\n",
    "session2.bulk_insert_mappings(Repository, part2_data)\n",
    "session2.commit()"
   ],
   "metadata": {
    "collapsed": false,
    "ExecuteTime": {
     "end_time": "2023-05-27T11:45:15.023645854Z",
     "start_time": "2023-05-27T11:45:11.678275424Z"
    }
   }
  },
  {
   "cell_type": "code",
   "execution_count": 9,
   "outputs": [],
   "source": [
    "selected_part3.loc[selected_part3['id'] == 326419, 'git_pushed_at'] = '2023-03-27 11:06:07'\n",
    "selected_part3.loc[selected_part3['id'] == 326458, 'git_pushed_at'] = '2023-03-26 23:11:42'\n",
    "selected_part3.loc[selected_part3['id'] == 326481, 'git_pushed_at'] = '2023-03-27 00:43:24'\n",
    "part3_data = selected_part3.to_dict(orient='records')\n",
    "Session3 = sessionmaker(bind=engine3)\n",
    "session3 = Session3()\n",
    "session3.execute(\"INSERT INTO sqlite_sequence (name, seq) VALUES \"\n",
    "                 \"('cell_data_ios', 50000000000),\"\n",
    "                 \"('cell_markdown_features', 50000000000),\"\n",
    "                 \"('cell_modules', 50000000000),\"\n",
    "                 \"('cells', 50000000000),\"\n",
    "                 \"('commits', 50000000000),\"\n",
    "                 \"('data_ios', 50000000000),\"\n",
    "                 \"('extractions', 50000000000),\"\n",
    "                 \"('modules', 50000000000),\"\n",
    "                 \"('notebook_markdowns', 50000000000),\"\n",
    "                 \"('notebooks', 50000000000),\"\n",
    "                 \"('python_file_data_ios', 50000000000),\"\n",
    "                 \"('python_file_modules', 50000000000),\"\n",
    "                 \"('python_files', 50000000000),\"\n",
    "                 \"('requirement_files', 50000000000);\")\n",
    "session3.bulk_insert_mappings(Repository, part3_data)\n",
    "session3.commit()"
   ],
   "metadata": {
    "collapsed": false,
    "ExecuteTime": {
     "end_time": "2023-05-27T11:45:19.435930648Z",
     "start_time": "2023-05-27T11:45:15.030462090Z"
    }
   }
  },
  {
   "cell_type": "code",
   "execution_count": 9,
   "outputs": [],
   "source": [],
   "metadata": {
    "collapsed": false,
    "ExecuteTime": {
     "end_time": "2023-05-27T11:45:19.440150691Z",
     "start_time": "2023-05-27T11:45:19.437492392Z"
    }
   }
  }
 ],
 "metadata": {
  "kernelspec": {
   "display_name": "Python 3",
   "language": "python",
   "name": "python3"
  },
  "language_info": {
   "codemirror_mode": {
    "name": "ipython",
    "version": 2
   },
   "file_extension": ".py",
   "mimetype": "text/x-python",
   "name": "python",
   "nbconvert_exporter": "python",
   "pygments_lexer": "ipython2",
   "version": "2.7.6"
  }
 },
 "nbformat": 4,
 "nbformat_minor": 0
}
